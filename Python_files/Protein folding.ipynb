{
 "cells": [
  {
   "cell_type": "code",
   "execution_count": 1,
   "metadata": {},
   "outputs": [],
   "source": [
    "Protein_folding = open(\"protein_folding.txt\")"
   ]
  },
  {
   "cell_type": "code",
   "execution_count": 3,
   "metadata": {},
   "outputs": [
    {
     "name": "stdout",
     "output_type": "stream",
     "text": [
      "{\"attribute\":{\"name\":\"protein folding\",\"href\":\"/api/1.0/attribute/protein+folding\"},\"dataset\":{\"name\":\"Reactome Pathways\",\"href\":\"/api/1.0/dataset/Reactome+Pathways\"},\"associations\":[{\"gene\":{\"symbol\":\"TUBA1B\",\"href\":\"/api/1.0/gene/TUBA1B\"},\"thresholdValue\":1.0},{\"gene\":{\"symbol\":\"PFDN6\",\"href\":\"/api/1.0/gene/PFDN6\"},\"thresholdValue\":1.0},{\"gene\":{\"symbol\":\"ARL2\",\"href\":\"/api/1.0/gene/ARL2\"},\"thresholdValue\":1.0},{\"gene\":{\"symbol\":\"FBXL3\",\"href\":\"/api/1.0/gene/FBXL3\"},\"thresholdValue\":1.0},{\"gene\":{\"symbol\":\"FBXL5\",\"href\":\"/api/1.0/gene/FBXL5\"},\"thresholdValue\":1.0},{\"gene\":{\"symbol\":\"VBP1\",\"href\":\"/api/1.0/gene/VBP1\"},\"thresholdValue\":1.0},{\"gene\":{\"symbol\":\"USP11\",\"href\":\"/api/1.0/gene/USP11\"},\"thresholdValue\":1.0},{\"gene\":{\"symbol\":\"FKBP9\",\"href\":\"/api/1.0/gene/FKBP9\"},\"thresholdValue\":1.0},{\"gene\":{\"symbol\":\"ACTB\",\"href\":\"/api/1.0/gene/ACTB\"},\"thresholdValue\":1.0},{\"gene\":{\"symbol\":\"PFDN2\",\"href\":\"/api/1.0/gene/PFDN2\"},\"thresholdValue\":1.0},{\"gene\":{\"symbol\":\"TUBB6\",\"href\":\"/api/1.0/gene/TUBB6\"},\"thresholdValue\":1.0},{\"gene\":{\"symbol\":\"FBXW2\",\"href\":\"/api/1.0/gene/FBXW2\"},\"thresholdValue\":1.0},{\"gene\":{\"symbol\":\"PFDN5\",\"href\":\"/api/1.0/gene/PFDN5\"},\"thresholdValue\":1.0},{\"gene\":{\"symbol\":\"AP3M1\",\"href\":\"/api/1.0/gene/AP3M1\"},\"thresholdValue\":1.0},{\"gene\":{\"symbol\":\"SPHK1\",\"href\":\"/api/1.0/gene/SPHK1\"},\"thresholdValue\":1.0},{\"gene\":{\"symbol\":\"CCT8\",\"href\":\"/api/1.0/gene/CCT8\"},\"thresholdValue\":1.0},{\"gene\":{\"symbol\":\"TUBA3C\",\"href\":\"/api/1.0/gene/TUBA3C\"},\"thresholdValue\":1.0},{\"gene\":{\"symbol\":\"FBXW7\",\"href\":\"/api/1.0/gene/FBXW7\"},\"thresholdValue\":1.0},{\"gene\":{\"symbol\":\"ARFGEF2\",\"href\":\"/api/1.0/gene/ARFGEF2\"},\"thresholdValue\":1.0},{\"gene\":{\"symbol\":\"CCT5\",\"href\":\"/api/1.0/gene/CCT5\"},\"thresholdValue\":1.0},{\"gene\":{\"symbol\":\"XRN2\",\"href\":\"/api/1.0/gene/XRN2\"},\"thresholdValue\":1.0},{\"gene\":{\"symbol\":\"FBXW9\",\"href\":\"/api/1.0/gene/FBXW9\"},\"thresholdValue\":1.0},{\"gene\":{\"symbol\":\"FBXW5\",\"href\":\"/api/1.0/gene/FBXW5\"},\"thresholdValue\":1.0},{\"gene\":{\"symbol\":\"TUBB4A\",\"href\":\"/api/1.0/gene/TUBB4A\"},\"thresholdValue\":1.0},{\"gene\":{\"symbol\":\"TUBA1C\",\"href\":\"/api/1.0/gene/TUBA1C\"},\"thresholdValue\":1.0},{\"gene\":{\"symbol\":\"FBXO4\",\"href\":\"/api/1.0/gene/FBXO4\"},\"thresholdValue\":1.0},{\"gene\":{\"symbol\":\"TCP1\",\"href\":\"/api/1.0/gene/TCP1\"},\"thresholdValue\":1.0},{\"gene\":{\"symbol\":\"PFDN1\",\"href\":\"/api/1.0/gene/PFDN1\"},\"thresholdValue\":1.0},{\"gene\":{\"symbol\":\"TBCD\",\"href\":\"/api/1.0/gene/TBCD\"},\"thresholdValue\":1.0},{\"gene\":{\"symbol\":\"TUBB4B\",\"href\":\"/api/1.0/gene/TUBB4B\"},\"thresholdValue\":1.0},{\"gene\":{\"symbol\":\"TUBB1\",\"href\":\"/api/1.0/gene/TUBB1\"},\"thresholdValue\":1.0},{\"gene\":{\"symbol\":\"TUBA4A\",\"href\":\"/api/1.0/gene/TUBA4A\"},\"thresholdValue\":1.0},{\"gene\":{\"symbol\":\"KIFC3\",\"href\":\"/api/1.0/gene/KIFC3\"},\"thresholdValue\":1.0},{\"gene\":{\"symbol\":\"TUBB2A\",\"href\":\"/api/1.0/gene/TUBB2A\"},\"thresholdValue\":1.0},{\"gene\":{\"symbol\":\"LONP2\",\"href\":\"/api/1.0/gene/LONP2\"},\"thresholdValue\":1.0},{\"gene\":{\"symbol\":\"CCT6A\",\"href\":\"/api/1.0/gene/CCT6A\"},\"thresholdValue\":1.0},{\"gene\":{\"symbol\":\"TUBB2B\",\"href\":\"/api/1.0/gene/TUBB2B\"},\"thresholdValue\":1.0},{\"gene\":{\"symbol\":\"CCT7\",\"href\":\"/api/1.0/gene/CCT7\"},\"thresholdValue\":1.0},{\"gene\":{\"symbol\":\"CCT2\",\"href\":\"/api/1.0/gene/CCT2\"},\"thresholdValue\":1.0},{\"gene\":{\"symbol\":\"TBCE\",\"href\":\"/api/1.0/gene/TBCE\"},\"thresholdValue\":1.0},{\"gene\":{\"symbol\":\"KIF13A\",\"href\":\"/api/1.0/gene/KIF13A\"},\"thresholdValue\":1.0},{\"gene\":{\"symbol\":\"TUBA1A\",\"href\":\"/api/1.0/gene/TUBA1A\"},\"thresholdValue\":1.0},{\"gene\":{\"symbol\":\"TUBB3\",\"href\":\"/api/1.0/gene/TUBB3\"},\"thresholdValue\":1.0},{\"gene\":{\"symbol\":\"CCT3\",\"href\":\"/api/1.0/gene/CCT3\"},\"thresholdValue\":1.0},{\"gene\":{\"symbol\":\"PFDN4\",\"href\":\"/api/1.0/gene/PFDN4\"},\"thresholdValue\":1.0},{\"gene\":{\"symbol\":\"NOP56\",\"href\":\"/api/1.0/gene/NOP56\"},\"thresholdValue\":1.0},{\"gene\":{\"symbol\":\"TBCA\",\"href\":\"/api/1.0/gene/TBCA\"},\"thresholdValue\":1.0},{\"gene\":{\"symbol\":\"FBXW10\",\"href\":\"/api/1.0/gene/FBXW10\"},\"thresholdValue\":1.0},{\"gene\":{\"symbol\":\"TBCC\",\"href\":\"/api/1.0/gene/TBCC\"},\"thresholdValue\":1.0},{\"gene\":{\"symbol\":\"FBXO6\",\"href\":\"/api/1.0/gene/FBXO6\"},\"thresholdValue\":1.0},{\"gene\":{\"symbol\":\"TBCB\",\"href\":\"/api/1.0/gene/TBCB\"},\"thresholdValue\":1.0},{\"gene\":{\"symbol\":\"FBXW4\",\"href\":\"/api/1.0/gene/FBXW4\"},\"thresholdValue\":1.0},{\"gene\":{\"symbol\":\"SKIV2L\",\"href\":\"/api/1.0/gene/SKIV2L\"},\"thresholdValue\":1.0},{\"gene\":{\"symbol\":\"CCT4\",\"href\":\"/api/1.0/gene/CCT4\"},\"thresholdValue\":1.0}]}\n",
      "\n"
     ]
    }
   ],
   "source": [
    "print(Protein_folding.read())"
   ]
  },
  {
   "cell_type": "code",
   "execution_count": 5,
   "metadata": {},
   "outputs": [],
   "source": [
    "import re\n",
    "Protein_folding_raw = re.findall(r':.\\w+.,','{\"attribute\":{\"name\":\"protein folding\",\"href\":\"/api/1.0/attribute/protein+folding\"},\"dataset\":{\"name\":\"Reactome Pathways\",\"href\":\"/api/1.0/dataset/Reactome+Pathways\"},\"associations\":[{\"gene\":{\"symbol\":\"TUBA1B\",\"href\":\"/api/1.0/gene/TUBA1B\"},\"thresholdValue\":1.0},{\"gene\":{\"symbol\":\"PFDN6\",\"href\":\"/api/1.0/gene/PFDN6\"},\"thresholdValue\":1.0},{\"gene\":{\"symbol\":\"ARL2\",\"href\":\"/api/1.0/gene/ARL2\"},\"thresholdValue\":1.0},{\"gene\":{\"symbol\":\"FBXL3\",\"href\":\"/api/1.0/gene/FBXL3\"},\"thresholdValue\":1.0},{\"gene\":{\"symbol\":\"FBXL5\",\"href\":\"/api/1.0/gene/FBXL5\"},\"thresholdValue\":1.0},{\"gene\":{\"symbol\":\"VBP1\",\"href\":\"/api/1.0/gene/VBP1\"},\"thresholdValue\":1.0},{\"gene\":{\"symbol\":\"USP11\",\"href\":\"/api/1.0/gene/USP11\"},\"thresholdValue\":1.0},{\"gene\":{\"symbol\":\"FKBP9\",\"href\":\"/api/1.0/gene/FKBP9\"},\"thresholdValue\":1.0},{\"gene\":{\"symbol\":\"ACTB\",\"href\":\"/api/1.0/gene/ACTB\"},\"thresholdValue\":1.0},{\"gene\":{\"symbol\":\"PFDN2\",\"href\":\"/api/1.0/gene/PFDN2\"},\"thresholdValue\":1.0},{\"gene\":{\"symbol\":\"TUBB6\",\"href\":\"/api/1.0/gene/TUBB6\"},\"thresholdValue\":1.0},{\"gene\":{\"symbol\":\"FBXW2\",\"href\":\"/api/1.0/gene/FBXW2\"},\"thresholdValue\":1.0},{\"gene\":{\"symbol\":\"PFDN5\",\"href\":\"/api/1.0/gene/PFDN5\"},\"thresholdValue\":1.0},{\"gene\":{\"symbol\":\"AP3M1\",\"href\":\"/api/1.0/gene/AP3M1\"},\"thresholdValue\":1.0},{\"gene\":{\"symbol\":\"SPHK1\",\"href\":\"/api/1.0/gene/SPHK1\"},\"thresholdValue\":1.0},{\"gene\":{\"symbol\":\"CCT8\",\"href\":\"/api/1.0/gene/CCT8\"},\"thresholdValue\":1.0},{\"gene\":{\"symbol\":\"TUBA3C\",\"href\":\"/api/1.0/gene/TUBA3C\"},\"thresholdValue\":1.0},{\"gene\":{\"symbol\":\"FBXW7\",\"href\":\"/api/1.0/gene/FBXW7\"},\"thresholdValue\":1.0},{\"gene\":{\"symbol\":\"ARFGEF2\",\"href\":\"/api/1.0/gene/ARFGEF2\"},\"thresholdValue\":1.0},{\"gene\":{\"symbol\":\"CCT5\",\"href\":\"/api/1.0/gene/CCT5\"},\"thresholdValue\":1.0},{\"gene\":{\"symbol\":\"XRN2\",\"href\":\"/api/1.0/gene/XRN2\"},\"thresholdValue\":1.0},{\"gene\":{\"symbol\":\"FBXW9\",\"href\":\"/api/1.0/gene/FBXW9\"},\"thresholdValue\":1.0},{\"gene\":{\"symbol\":\"FBXW5\",\"href\":\"/api/1.0/gene/FBXW5\"},\"thresholdValue\":1.0},{\"gene\":{\"symbol\":\"TUBB4A\",\"href\":\"/api/1.0/gene/TUBB4A\"},\"thresholdValue\":1.0},{\"gene\":{\"symbol\":\"TUBA1C\",\"href\":\"/api/1.0/gene/TUBA1C\"},\"thresholdValue\":1.0},{\"gene\":{\"symbol\":\"FBXO4\",\"href\":\"/api/1.0/gene/FBXO4\"},\"thresholdValue\":1.0},{\"gene\":{\"symbol\":\"TCP1\",\"href\":\"/api/1.0/gene/TCP1\"},\"thresholdValue\":1.0},{\"gene\":{\"symbol\":\"PFDN1\",\"href\":\"/api/1.0/gene/PFDN1\"},\"thresholdValue\":1.0},{\"gene\":{\"symbol\":\"TBCD\",\"href\":\"/api/1.0/gene/TBCD\"},\"thresholdValue\":1.0},{\"gene\":{\"symbol\":\"TUBB4B\",\"href\":\"/api/1.0/gene/TUBB4B\"},\"thresholdValue\":1.0},{\"gene\":{\"symbol\":\"TUBB1\",\"href\":\"/api/1.0/gene/TUBB1\"},\"thresholdValue\":1.0},{\"gene\":{\"symbol\":\"TUBA4A\",\"href\":\"/api/1.0/gene/TUBA4A\"},\"thresholdValue\":1.0},{\"gene\":{\"symbol\":\"KIFC3\",\"href\":\"/api/1.0/gene/KIFC3\"},\"thresholdValue\":1.0},{\"gene\":{\"symbol\":\"TUBB2A\",\"href\":\"/api/1.0/gene/TUBB2A\"},\"thresholdValue\":1.0},{\"gene\":{\"symbol\":\"LONP2\",\"href\":\"/api/1.0/gene/LONP2\"},\"thresholdValue\":1.0},{\"gene\":{\"symbol\":\"CCT6A\",\"href\":\"/api/1.0/gene/CCT6A\"},\"thresholdValue\":1.0},{\"gene\":{\"symbol\":\"TUBB2B\",\"href\":\"/api/1.0/gene/TUBB2B\"},\"thresholdValue\":1.0},{\"gene\":{\"symbol\":\"CCT7\",\"href\":\"/api/1.0/gene/CCT7\"},\"thresholdValue\":1.0},{\"gene\":{\"symbol\":\"CCT2\",\"href\":\"/api/1.0/gene/CCT2\"},\"thresholdValue\":1.0},{\"gene\":{\"symbol\":\"TBCE\",\"href\":\"/api/1.0/gene/TBCE\"},\"thresholdValue\":1.0},{\"gene\":{\"symbol\":\"KIF13A\",\"href\":\"/api/1.0/gene/KIF13A\"},\"thresholdValue\":1.0},{\"gene\":{\"symbol\":\"TUBA1A\",\"href\":\"/api/1.0/gene/TUBA1A\"},\"thresholdValue\":1.0},{\"gene\":{\"symbol\":\"TUBB3\",\"href\":\"/api/1.0/gene/TUBB3\"},\"thresholdValue\":1.0},{\"gene\":{\"symbol\":\"CCT3\",\"href\":\"/api/1.0/gene/CCT3\"},\"thresholdValue\":1.0},{\"gene\":{\"symbol\":\"PFDN4\",\"href\":\"/api/1.0/gene/PFDN4\"},\"thresholdValue\":1.0},{\"gene\":{\"symbol\":\"NOP56\",\"href\":\"/api/1.0/gene/NOP56\"},\"thresholdValue\":1.0},{\"gene\":{\"symbol\":\"TBCA\",\"href\":\"/api/1.0/gene/TBCA\"},\"thresholdValue\":1.0},{\"gene\":{\"symbol\":\"FBXW10\",\"href\":\"/api/1.0/gene/FBXW10\"},\"thresholdValue\":1.0},{\"gene\":{\"symbol\":\"TBCC\",\"href\":\"/api/1.0/gene/TBCC\"},\"thresholdValue\":1.0},{\"gene\":{\"symbol\":\"FBXO6\",\"href\":\"/api/1.0/gene/FBXO6\"},\"thresholdValue\":1.0},{\"gene\":{\"symbol\":\"TBCB\",\"href\":\"/api/1.0/gene/TBCB\"},\"thresholdValue\":1.0},{\"gene\":{\"symbol\":\"FBXW4\",\"href\":\"/api/1.0/gene/FBXW4\"},\"thresholdValue\":1.0},{\"gene\":{\"symbol\":\"SKIV2L\",\"href\":\"/api/1.0/gene/SKIV2L\"},\"thresholdValue\":1.0},{\"gene\":{\"symbol\":\"CCT4\",\"href\":\"/api/1.0/gene/CCT4\"},\"thresholdValue\":1.0}]}')"
   ]
  },
  {
   "cell_type": "code",
   "execution_count": 6,
   "metadata": {},
   "outputs": [],
   "source": [
    "listToStr = ' '.join([str(elem) for elem in Protein_folding_raw])"
   ]
  },
  {
   "cell_type": "code",
   "execution_count": 7,
   "metadata": {},
   "outputs": [
    {
     "name": "stdout",
     "output_type": "stream",
     "text": [
      ":\"TUBA1B\", :\"PFDN6\", :\"ARL2\", :\"FBXL3\", :\"FBXL5\", :\"VBP1\", :\"USP11\", :\"FKBP9\", :\"ACTB\", :\"PFDN2\", :\"TUBB6\", :\"FBXW2\", :\"PFDN5\", :\"AP3M1\", :\"SPHK1\", :\"CCT8\", :\"TUBA3C\", :\"FBXW7\", :\"ARFGEF2\", :\"CCT5\", :\"XRN2\", :\"FBXW9\", :\"FBXW5\", :\"TUBB4A\", :\"TUBA1C\", :\"FBXO4\", :\"TCP1\", :\"PFDN1\", :\"TBCD\", :\"TUBB4B\", :\"TUBB1\", :\"TUBA4A\", :\"KIFC3\", :\"TUBB2A\", :\"LONP2\", :\"CCT6A\", :\"TUBB2B\", :\"CCT7\", :\"CCT2\", :\"TBCE\", :\"KIF13A\", :\"TUBA1A\", :\"TUBB3\", :\"CCT3\", :\"PFDN4\", :\"NOP56\", :\"TBCA\", :\"FBXW10\", :\"TBCC\", :\"FBXO6\", :\"TBCB\", :\"FBXW4\", :\"SKIV2L\", :\"CCT4\",\n"
     ]
    }
   ],
   "source": [
    "print(listToStr)"
   ]
  },
  {
   "cell_type": "code",
   "execution_count": 8,
   "metadata": {},
   "outputs": [],
   "source": [
    "Protein_folding = re.findall(r'\\w+', ':\"TUBA1B\", :\"PFDN6\", :\"ARL2\", :\"FBXL3\", :\"FBXL5\", :\"VBP1\", :\"USP11\", :\"FKBP9\", :\"ACTB\", :\"PFDN2\", :\"TUBB6\", :\"FBXW2\", :\"PFDN5\", :\"AP3M1\", :\"SPHK1\", :\"CCT8\", :\"TUBA3C\", :\"FBXW7\", :\"ARFGEF2\", :\"CCT5\", :\"XRN2\", :\"FBXW9\", :\"FBXW5\", :\"TUBB4A\", :\"TUBA1C\", :\"FBXO4\", :\"TCP1\", :\"PFDN1\", :\"TBCD\", :\"TUBB4B\", :\"TUBB1\", :\"TUBA4A\", :\"KIFC3\", :\"TUBB2A\", :\"LONP2\", :\"CCT6A\", :\"TUBB2B\", :\"CCT7\", :\"CCT2\", :\"TBCE\", :\"KIF13A\", :\"TUBA1A\", :\"TUBB3\", :\"CCT3\", :\"PFDN4\", :\"NOP56\", :\"TBCA\", :\"FBXW10\", :\"TBCC\", :\"FBXO6\", :\"TBCB\", :\"FBXW4\", :\"SKIV2L\", :\"CCT4\",')"
   ]
  },
  {
   "cell_type": "code",
   "execution_count": 9,
   "metadata": {},
   "outputs": [],
   "source": [
    "import csv\n",
    "with open('Protein_folding.csv', 'w') as Protein_folding1:\n",
    "    wr = csv.writer(Protein_folding1, quoting=csv.QUOTE_ALL)\n",
    "    wr.writerow(Protein_folding)"
   ]
  },
  {
   "cell_type": "code",
   "execution_count": null,
   "metadata": {},
   "outputs": [],
   "source": []
  }
 ],
 "metadata": {
  "kernelspec": {
   "display_name": "Python 3",
   "language": "python",
   "name": "python3"
  },
  "language_info": {
   "codemirror_mode": {
    "name": "ipython",
    "version": 3
   },
   "file_extension": ".py",
   "mimetype": "text/x-python",
   "name": "python",
   "nbconvert_exporter": "python",
   "pygments_lexer": "ipython3",
   "version": "3.7.4"
  }
 },
 "nbformat": 4,
 "nbformat_minor": 2
}
