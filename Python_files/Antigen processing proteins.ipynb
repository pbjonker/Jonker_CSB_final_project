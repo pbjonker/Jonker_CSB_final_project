{
 "cells": [
  {
   "cell_type": "code",
   "execution_count": 1,
   "metadata": {},
   "outputs": [],
   "source": [
    "Antigen_processing = open(\"Antigen_processing.txt\")"
   ]
  },
  {
   "cell_type": "code",
   "execution_count": 2,
   "metadata": {},
   "outputs": [
    {
     "name": "stdout",
     "output_type": "stream",
     "text": [
      "{\"attribute\":{\"name\":\"Antigen processing: Ubiquitination \\u0026 Proteasome degradation\",\"href\":\"/api/1.0/attribute/Antigen+processing%3A+Ubiquitination+%26+Proteasome+degradation\"},\"dataset\":{\"name\":\"Reactome Pathways\",\"href\":\"/api/1.0/dataset/Reactome+Pathways\"},\"associations\":[{\"gene\":{\"symbol\":\"PSMA5\",\"href\":\"/api/1.0/gene/PSMA5\"},\"thresholdValue\":1.0},{\"gene\":{\"symbol\":\"UBE2G2\",\"href\":\"/api/1.0/gene/UBE2G2\"},\"thresholdValue\":1.0},{\"gene\":{\"symbol\":\"UBE2Q1\",\"href\":\"/api/1.0/gene/UBE2Q1\"},\"thresholdValue\":1.0},{\"gene\":{\"symbol\":\"PSMC6\",\"href\":\"/api/1.0/gene/PSMC6\"},\"thresholdValue\":1.0},{\"gene\":{\"symbol\":\"RNF182\",\"href\":\"/api/1.0/gene/RNF182\"},\"thresholdValue\":1.0},{\"gene\":{\"symbol\":\"UBE2S\",\"href\":\"/api/1.0/gene/UBE2S\"},\"thresholdValue\":1.0},{\"gene\":{\"symbol\":\"ASB10\",\"href\":\"/api/1.0/gene/ASB10\"},\"thresholdValue\":1.0},{\"gene\":{\"symbol\":\"PSMD4\",\"href\":\"/api/1.0/gene/PSMD4\"},\"thresholdValue\":1.0},{\"gene\":{\"symbol\":\"UBE3A\",\"href\":\"/api/1.0/gene/UBE3A\"},\"thresholdValue\":1.0},{\"gene\":{\"symbol\":\"RNF220\",\"href\":\"/api/1.0/gene/RNF220\"},\"thresholdValue\":1.0},{\"gene\":{\"symbol\":\"RNF6\",\"href\":\"/api/1.0/gene/RNF6\"},\"thresholdValue\":1.0},{\"gene\":{\"symbol\":\"WSB1\",\"href\":\"/api/1.0/gene/WSB1\"},\"thresholdValue\":1.0},{\"gene\":{\"symbol\":\"UBE2D4\",\"href\":\"/api/1.0/gene/UBE2D4\"},\"thresholdValue\":1.0},{\"gene\":{\"symbol\":\"PSMA3\",\"href\":\"/api/1.0/gene/PSMA3\"},\"thresholdValue\":1.0},{\"gene\":{\"symbol\":\"ZBTB16\",\"href\":\"/api/1.0/gene/ZBTB16\"},\"thresholdValue\":1.0},{\"gene\":{\"symbol\":\"PSMD8\",\"href\":\"/api/1.0/gene/PSMD8\"},\"thresholdValue\":1.0},{\"gene\":{\"symbol\":\"UBE2A\",\"href\":\"/api/1.0/gene/UBE2A\"},\"thresholdValue\":1.0},{\"gene\":{\"symbol\":\"TRIM9\",\"href\":\"/api/1.0/gene/TRIM9\"},\"thresholdValue\":1.0},{\"gene\":{\"symbol\":\"CUL3\",\"href\":\"/api/1.0/gene/CUL3\"},\"thresholdValue\":1.0},{\"gene\":{\"symbol\":\"ANAPC7\",\"href\":\"/api/1.0/gene/ANAPC7\"},\"thresholdValue\":1.0},{\"gene\":{\"symbol\":\"KLHL20\",\"href\":\"/api/1.0/gene/KLHL20\"},\"thresholdValue\":1.0},{\"gene\":{\"symbol\":\"ANAPC2\",\"href\":\"/api/1.0/gene/ANAPC2\"},\"thresholdValue\":1.0},{\"gene\":{\"symbol\":\"LRRC41\",\"href\":\"/api/1.0/gene/LRRC41\"},\"thresholdValue\":1.0},{\"gene\":{\"symbol\":\"FBXO6\",\"href\":\"/api/1.0/gene/FBXO6\"},\"thresholdValue\":1.0},{\"gene\":{\"symbol\":\"CDC16\",\"href\":\"/api/1.0/gene/CDC16\"},\"thresholdValue\":1.0},{\"gene\":{\"symbol\":\"KEAP1\",\"href\":\"/api/1.0/gene/KEAP1\"},\"thresholdValue\":1.0},{\"gene\":{\"symbol\":\"UBE3C\",\"href\":\"/api/1.0/gene/UBE3C\"},\"thresholdValue\":1.0},{\"gene\":{\"symbol\":\"SKP2\",\"href\":\"/api/1.0/gene/SKP2\"},\"thresholdValue\":1.0},{\"gene\":{\"symbol\":\"UBE2Z\",\"href\":\"/api/1.0/gene/UBE2Z\"},\"thresholdValue\":1.0},{\"gene\":{\"symbol\":\"UBE2U\",\"href\":\"/api/1.0/gene/UBE2U\"},\"thresholdValue\":1.0},{\"gene\":{\"symbol\":\"ASB5\",\"href\":\"/api/1.0/gene/ASB5\"},\"thresholdValue\":1.0},{\"gene\":{\"symbol\":\"SMURF1\",\"href\":\"/api/1.0/gene/SMURF1\"},\"thresholdValue\":1.0},{\"gene\":{\"symbol\":\"ITCH\",\"href\":\"/api/1.0/gene/ITCH\"},\"thresholdValue\":1.0},{\"gene\":{\"symbol\":\"PSMB3\",\"href\":\"/api/1.0/gene/PSMB3\"},\"thresholdValue\":1.0},{\"gene\":{\"symbol\":\"UBE2D1\",\"href\":\"/api/1.0/gene/UBE2D1\"},\"thresholdValue\":1.0},{\"gene\":{\"symbol\":\"UBE2K\",\"href\":\"/api/1.0/gene/UBE2K\"},\"thresholdValue\":1.0},{\"gene\":{\"symbol\":\"UBA52\",\"href\":\"/api/1.0/gene/UBA52\"},\"thresholdValue\":1.0},{\"gene\":{\"symbol\":\"PSMC5\",\"href\":\"/api/1.0/gene/PSMC5\"},\"thresholdValue\":1.0},{\"gene\":{\"symbol\":\"NEDD4L\",\"href\":\"/api/1.0/gene/NEDD4L\"},\"thresholdValue\":1.0},{\"gene\":{\"symbol\":\"UBA7\",\"href\":\"/api/1.0/gene/UBA7\"},\"thresholdValue\":1.0},{\"gene\":{\"symbol\":\"CBLB\",\"href\":\"/api/1.0/gene/CBLB\"},\"thresholdValue\":1.0},{\"gene\":{\"symbol\":\"SPSB2\",\"href\":\"/api/1.0/gene/SPSB2\"},\"thresholdValue\":1.0},{\"gene\":{\"symbol\":\"UBB\",\"href\":\"/api/1.0/gene/UBB\"},\"thresholdValue\":1.0},{\"gene\":{\"symbol\":\"STUB1\",\"href\":\"/api/1.0/gene/STUB1\"},\"thresholdValue\":1.0},{\"gene\":{\"symbol\":\"PSMC4\",\"href\":\"/api/1.0/gene/PSMC4\"},\"thresholdValue\":1.0},{\"gene\":{\"symbol\":\"UBE3B\",\"href\":\"/api/1.0/gene/UBE3B\"},\"thresholdValue\":1.0},{\"gene\":{\"symbol\":\"PSMB5\",\"href\":\"/api/1.0/gene/PSMB5\"},\"thresholdValue\":1.0},{\"gene\":{\"symbol\":\"VHL\",\"href\":\"/api/1.0/gene/VHL\"},\"thresholdValue\":1.0},{\"gene\":{\"symbol\":\"UBR2\",\"href\":\"/api/1.0/gene/UBR2\"},\"thresholdValue\":1.0},{\"gene\":{\"symbol\":\"CDC27\",\"href\":\"/api/1.0/gene/CDC27\"},\"thresholdValue\":1.0},{\"gene\":{\"symbol\":\"RCHY1\",\"href\":\"/api/1.0/gene/RCHY1\"},\"thresholdValue\":1.0},{\"gene\":{\"symbol\":\"RPS27A\",\"href\":\"/api/1.0/gene/RPS27A\"},\"thresholdValue\":1.0},{\"gene\":{\"symbol\":\"PSMB8\",\"href\":\"/api/1.0/gene/PSMB8\"},\"thresholdValue\":1.0},{\"gene\":{\"symbol\":\"PSME1\",\"href\":\"/api/1.0/gene/PSME1\"},\"thresholdValue\":1.0},{\"gene\":{\"symbol\":\"SKP1\",\"href\":\"/api/1.0/gene/SKP1\"},\"thresholdValue\":1.0},{\"gene\":{\"symbol\":\"TRIM63\",\"href\":\"/api/1.0/gene/TRIM63\"},\"thresholdValue\":1.0},{\"gene\":{\"symbol\":\"PARK2\",\"href\":\"/api/1.0/gene/PARK2\"},\"thresholdValue\":1.0},{\"gene\":{\"symbol\":\"ASB14\",\"href\":\"/api/1.0/gene/ASB14\"},\"thresholdValue\":1.0},{\"gene\":{\"symbol\":\"UBE2E1\",\"href\":\"/api/1.0/gene/UBE2E1\"},\"thresholdValue\":1.0},{\"gene\":{\"symbol\":\"ANAPC13\",\"href\":\"/api/1.0/gene/ANAPC13\"},\"thresholdValue\":1.0},{\"gene\":{\"symbol\":\"PSMD11\",\"href\":\"/api/1.0/gene/PSMD11\"},\"thresholdValue\":1.0},{\"gene\":{\"symbol\":\"UBE2F\",\"href\":\"/api/1.0/gene/UBE2F\"},\"thresholdValue\":1.0},{\"gene\":{\"symbol\":\"ATG7\",\"href\":\"/api/1.0/gene/ATG7\"},\"thresholdValue\":1.0},{\"gene\":{\"symbol\":\"PSMF1\",\"href\":\"/api/1.0/gene/PSMF1\"},\"thresholdValue\":1.0},{\"gene\":{\"symbol\":\"PSMA4\",\"href\":\"/api/1.0/gene/PSMA4\"},\"thresholdValue\":1.0},{\"gene\":{\"symbol\":\"UBE2Q2\",\"href\":\"/api/1.0/gene/UBE2Q2\"},\"thresholdValue\":1.0},{\"gene\":{\"symbol\":\"HERC2\",\"href\":\"/api/1.0/gene/HERC2\"},\"thresholdValue\":1.0},{\"gene\":{\"symbol\":\"UBE2N\",\"href\":\"/api/1.0/gene/UBE2N\"},\"thresholdValue\":1.0},{\"gene\":{\"symbol\":\"CDC23\",\"href\":\"/api/1.0/gene/CDC23\"},\"thresholdValue\":1.0},{\"gene\":{\"symbol\":\"ANAPC1\",\"href\":\"/api/1.0/gene/ANAPC1\"},\"thresholdValue\":1.0},{\"gene\":{\"symbol\":\"UBA3\",\"href\":\"/api/1.0/gene/UBA3\"},\"thresholdValue\":1.0},{\"gene\":{\"symbol\":\"DZIP3\",\"href\":\"/api/1.0/gene/DZIP3\"},\"thresholdValue\":1.0},{\"gene\":{\"symbol\":\"PSMB9\",\"href\":\"/api/1.0/gene/PSMB9\"},\"thresholdValue\":1.0},{\"gene\":{\"symbol\":\"UBE2R2\",\"href\":\"/api/1.0/gene/UBE2R2\"},\"thresholdValue\":1.0},{\"gene\":{\"symbol\":\"PSMC2\",\"href\":\"/api/1.0/gene/PSMC2\"},\"thresholdValue\":1.0},{\"gene\":{\"symbol\":\"TPP2\",\"href\":\"/api/1.0/gene/TPP2\"},\"thresholdValue\":1.0},{\"gene\":{\"symbol\":\"RNF144B\",\"href\":\"/api/1.0/gene/RNF144B\"},\"thresholdValue\":1.0},{\"gene\":{\"symbol\":\"ASB11\",\"href\":\"/api/1.0/gene/ASB11\"},\"thresholdValue\":1.0},{\"gene\":{\"symbol\":\"ASB7\",\"href\":\"/api/1.0/gene/ASB7\"},\"thresholdValue\":1.0},{\"gene\":{\"symbol\":\"DTX3L\",\"href\":\"/api/1.0/gene/DTX3L\"},\"thresholdValue\":1.0},{\"gene\":{\"symbol\":\"PSMD7\",\"href\":\"/api/1.0/gene/PSMD7\"},\"thresholdValue\":1.0},{\"gene\":{\"symbol\":\"TRIM37\",\"href\":\"/api/1.0/gene/TRIM37\"},\"thresholdValue\":1.0},{\"gene\":{\"symbol\":\"UBE2L3\",\"href\":\"/api/1.0/gene/UBE2L3\"},\"thresholdValue\":1.0},{\"gene\":{\"symbol\":\"FBXW8\",\"href\":\"/api/1.0/gene/FBXW8\"},\"thresholdValue\":1.0},{\"gene\":{\"symbol\":\"PSMA2\",\"href\":\"/api/1.0/gene/PSMA2\"},\"thresholdValue\":1.0},{\"gene\":{\"symbol\":\"SMURF2\",\"href\":\"/api/1.0/gene/SMURF2\"},\"thresholdValue\":1.0},{\"gene\":{\"symbol\":\"UBE2E3\",\"href\":\"/api/1.0/gene/UBE2E3\"},\"thresholdValue\":1.0},{\"gene\":{\"symbol\":\"UBOX5\",\"href\":\"/api/1.0/gene/UBOX5\"},\"thresholdValue\":1.0},{\"gene\":{\"symbol\":\"PSMC3\",\"href\":\"/api/1.0/gene/PSMC3\"},\"thresholdValue\":1.0},{\"gene\":{\"symbol\":\"SOCS1\",\"href\":\"/api/1.0/gene/SOCS1\"},\"thresholdValue\":1.0},{\"gene\":{\"symbol\":\"CDC26\",\"href\":\"/api/1.0/gene/CDC26\"},\"thresholdValue\":1.0},{\"gene\":{\"symbol\":\"PSMD5\",\"href\":\"/api/1.0/gene/PSMD5\"},\"thresholdValue\":1.0},{\"gene\":{\"symbol\":\"CUL2\",\"href\":\"/api/1.0/gene/CUL2\"},\"thresholdValue\":1.0},{\"gene\":{\"symbol\":\"HUWE1\",\"href\":\"/api/1.0/gene/HUWE1\"},\"thresholdValue\":1.0},{\"gene\":{\"symbol\":\"ANAPC4\",\"href\":\"/api/1.0/gene/ANAPC4\"},\"thresholdValue\":1.0},{\"gene\":{\"symbol\":\"ASB1\",\"href\":\"/api/1.0/gene/ASB1\"},\"thresholdValue\":1.0},{\"gene\":{\"symbol\":\"PSMB7\",\"href\":\"/api/1.0/gene/PSMB7\"},\"thresholdValue\":1.0},{\"gene\":{\"symbol\":\"KLHL9\",\"href\":\"/api/1.0/gene/KLHL9\"},\"thresholdValue\":1.0},{\"gene\":{\"symbol\":\"PSMD3\",\"href\":\"/api/1.0/gene/PSMD3\"},\"thresholdValue\":1.0},{\"gene\":{\"symbol\":\"NEDD4\",\"href\":\"/api/1.0/gene/NEDD4\"},\"thresholdValue\":1.0},{\"gene\":{\"symbol\":\"RBCK1\",\"href\":\"/api/1.0/gene/RBCK1\"},\"thresholdValue\":1.0},{\"gene\":{\"symbol\":\"FZR1\",\"href\":\"/api/1.0/gene/FZR1\"},\"thresholdValue\":1.0},{\"gene\":{\"symbol\":\"UBA1\",\"href\":\"/api/1.0/gene/UBA1\"},\"thresholdValue\":1.0},{\"gene\":{\"symbol\":\"PSMD1\",\"href\":\"/api/1.0/gene/PSMD1\"},\"thresholdValue\":1.0},{\"gene\":{\"symbol\":\"PSMC1\",\"href\":\"/api/1.0/gene/PSMC1\"},\"thresholdValue\":1.0},{\"gene\":{\"symbol\":\"PSMB11\",\"href\":\"/api/1.0/gene/PSMB11\"},\"thresholdValue\":1.0},{\"gene\":{\"symbol\":\"ASB17\",\"href\":\"/api/1.0/gene/ASB17\"},\"thresholdValue\":1.0},{\"gene\":{\"symbol\":\"ASB4\",\"href\":\"/api/1.0/gene/ASB4\"},\"thresholdValue\":1.0},{\"gene\":{\"symbol\":\"UBE2V1\",\"href\":\"/api/1.0/gene/UBE2V1\"},\"thresholdValue\":1.0},{\"gene\":{\"symbol\":\"RNF138\",\"href\":\"/api/1.0/gene/RNF138\"},\"thresholdValue\":1.0},{\"gene\":{\"symbol\":\"TRIM21\",\"href\":\"/api/1.0/gene/TRIM21\"},\"thresholdValue\":1.0},{\"gene\":{\"symbol\":\"UBE2G1\",\"href\":\"/api/1.0/gene/UBE2G1\"},\"thresholdValue\":1.0},{\"gene\":{\"symbol\":\"PSMD9\",\"href\":\"/api/1.0/gene/PSMD9\"},\"thresholdValue\":1.0},{\"gene\":{\"symbol\":\"UBE2M\",\"href\":\"/api/1.0/gene/UBE2M\"},\"thresholdValue\":1.0},{\"gene\":{\"symbol\":\"TRIP12\",\"href\":\"/api/1.0/gene/TRIP12\"},\"thresholdValue\":1.0},{\"gene\":{\"symbol\":\"ASB15\",\"href\":\"/api/1.0/gene/ASB15\"},\"thresholdValue\":1.0},{\"gene\":{\"symbol\":\"RNF25\",\"href\":\"/api/1.0/gene/RNF25\"},\"thresholdValue\":1.0},{\"gene\":{\"symbol\":\"FBXO17\",\"href\":\"/api/1.0/gene/FBXO17\"},\"thresholdValue\":1.0},{\"gene\":{\"symbol\":\"FBXO3\",\"href\":\"/api/1.0/gene/FBXO3\"},\"thresholdValue\":1.0},{\"gene\":{\"symbol\":\"FBXW11\",\"href\":\"/api/1.0/gene/FBXW11\"},\"thresholdValue\":1.0},{\"gene\":{\"symbol\":\"PSMB6\",\"href\":\"/api/1.0/gene/PSMB6\"},\"thresholdValue\":1.0},{\"gene\":{\"symbol\":\"RNF123\",\"href\":\"/api/1.0/gene/RNF123\"},\"thresholdValue\":1.0},{\"gene\":{\"symbol\":\"FBXO4\",\"href\":\"/api/1.0/gene/FBXO4\"},\"thresholdValue\":1.0},{\"gene\":{\"symbol\":\"UBE2D3\",\"href\":\"/api/1.0/gene/UBE2D3\"},\"thresholdValue\":1.0},{\"gene\":{\"symbol\":\"DET1\",\"href\":\"/api/1.0/gene/DET1\"},\"thresholdValue\":1.0},{\"gene\":{\"symbol\":\"UBE2D2\",\"href\":\"/api/1.0/gene/UBE2D2\"},\"thresholdValue\":1.0},{\"gene\":{\"symbol\":\"TCEB1\",\"href\":\"/api/1.0/gene/TCEB1\"},\"thresholdValue\":1.0},{\"gene\":{\"symbol\":\"ANAPC11\",\"href\":\"/api/1.0/gene/ANAPC11\"},\"thresholdValue\":1.0},{\"gene\":{\"symbol\":\"ARIH2\",\"href\":\"/api/1.0/gene/ARIH2\"},\"thresholdValue\":1.0},{\"gene\":{\"symbol\":\"TCEB2\",\"href\":\"/api/1.0/gene/TCEB2\"},\"thresholdValue\":1.0},{\"gene\":{\"symbol\":\"UBE4A\",\"href\":\"/api/1.0/gene/UBE4A\"},\"thresholdValue\":1.0},{\"gene\":{\"symbol\":\"LNPEP\",\"href\":\"/api/1.0/gene/LNPEP\"},\"thresholdValue\":1.0},{\"gene\":{\"symbol\":\"PSMB4\",\"href\":\"/api/1.0/gene/PSMB4\"},\"thresholdValue\":1.0},{\"gene\":{\"symbol\":\"PSMA7\",\"href\":\"/api/1.0/gene/PSMA7\"},\"thresholdValue\":1.0},{\"gene\":{\"symbol\":\"UBR4\",\"href\":\"/api/1.0/gene/UBR4\"},\"thresholdValue\":1.0},{\"gene\":{\"symbol\":\"ASB16\",\"href\":\"/api/1.0/gene/ASB16\"},\"thresholdValue\":1.0},{\"gene\":{\"symbol\":\"CUL7\",\"href\":\"/api/1.0/gene/CUL7\"},\"thresholdValue\":1.0},{\"gene\":{\"symbol\":\"ASB9\",\"href\":\"/api/1.0/gene/ASB9\"},\"thresholdValue\":1.0},{\"gene\":{\"symbol\":\"PSMD13\",\"href\":\"/api/1.0/gene/PSMD13\"},\"thresholdValue\":1.0},{\"gene\":{\"symbol\":\"UBA6\",\"href\":\"/api/1.0/gene/UBA6\"},\"thresholdValue\":1.0},{\"gene\":{\"symbol\":\"ASB18\",\"href\":\"/api/1.0/gene/ASB18\"},\"thresholdValue\":1.0},{\"gene\":{\"symbol\":\"SOCS3\",\"href\":\"/api/1.0/gene/SOCS3\"},\"thresholdValue\":1.0},{\"gene\":{\"symbol\":\"UBE2H\",\"href\":\"/api/1.0/gene/UBE2H\"},\"thresholdValue\":1.0},{\"gene\":{\"symbol\":\"UBE2V2\",\"href\":\"/api/1.0/gene/UBE2V2\"},\"thresholdValue\":1.0},{\"gene\":{\"symbol\":\"PSMD10\",\"href\":\"/api/1.0/gene/PSMD10\"},\"thresholdValue\":1.0},{\"gene\":{\"symbol\":\"TRIM36\",\"href\":\"/api/1.0/gene/TRIM36\"},\"thresholdValue\":1.0},{\"gene\":{\"symbol\":\"CUL1\",\"href\":\"/api/1.0/gene/CUL1\"},\"thresholdValue\":1.0},{\"gene\":{\"symbol\":\"UBE2L6\",\"href\":\"/api/1.0/gene/UBE2L6\"},\"thresholdValue\":1.0},{\"gene\":{\"symbol\":\"BLMH\",\"href\":\"/api/1.0/gene/BLMH\"},\"thresholdValue\":1.0},{\"gene\":{\"symbol\":\"PSME2\",\"href\":\"/api/1.0/gene/PSME2\"},\"thresholdValue\":1.0},{\"gene\":{\"symbol\":\"ASB12\",\"href\":\"/api/1.0/gene/ASB12\"},\"thresholdValue\":1.0},{\"gene\":{\"symbol\":\"CUL5\",\"href\":\"/api/1.0/gene/CUL5\"},\"thresholdValue\":1.0},{\"gene\":{\"symbol\":\"SPSB4\",\"href\":\"/api/1.0/gene/SPSB4\"},\"thresholdValue\":1.0},{\"gene\":{\"symbol\":\"TRIM11\",\"href\":\"/api/1.0/gene/TRIM11\"},\"thresholdValue\":1.0},{\"gene\":{\"symbol\":\"ASB3\",\"href\":\"/api/1.0/gene/ASB3\"},\"thresholdValue\":1.0},{\"gene\":{\"symbol\":\"RNF41\",\"href\":\"/api/1.0/gene/RNF41\"},\"thresholdValue\":1.0},{\"gene\":{\"symbol\":\"GAN\",\"href\":\"/api/1.0/gene/GAN\"},\"thresholdValue\":1.0},{\"gene\":{\"symbol\":\"KLHL13\",\"href\":\"/api/1.0/gene/KLHL13\"},\"thresholdValue\":1.0},{\"gene\":{\"symbol\":\"PSMA1\",\"href\":\"/api/1.0/gene/PSMA1\"},\"thresholdValue\":1.0},{\"gene\":{\"symbol\":\"ASB8\",\"href\":\"/api/1.0/gene/ASB8\"},\"thresholdValue\":1.0},{\"gene\":{\"symbol\":\"UBE2J1\",\"href\":\"/api/1.0/gene/UBE2J1\"},\"thresholdValue\":1.0},{\"gene\":{\"symbol\":\"NPEPPS\",\"href\":\"/api/1.0/gene/NPEPPS\"},\"thresholdValue\":1.0},{\"gene\":{\"symbol\":\"FBXO2\",\"href\":\"/api/1.0/gene/FBXO2\"},\"thresholdValue\":1.0},{\"gene\":{\"symbol\":\"ASB2\",\"href\":\"/api/1.0/gene/ASB2\"},\"thresholdValue\":1.0},{\"gene\":{\"symbol\":\"LRSAM1\",\"href\":\"/api/1.0/gene/LRSAM1\"},\"thresholdValue\":1.0},{\"gene\":{\"symbol\":\"SPSB1\",\"href\":\"/api/1.0/gene/SPSB1\"},\"thresholdValue\":1.0},{\"gene\":{\"symbol\":\"PSME3\",\"href\":\"/api/1.0/gene/PSME3\"},\"thresholdValue\":1.0},{\"gene\":{\"symbol\":\"HECTD3\",\"href\":\"/api/1.0/gene/HECTD3\"},\"thresholdValue\":1.0},{\"gene\":{\"symbol\":\"PSMD12\",\"href\":\"/api/1.0/gene/PSMD12\"},\"thresholdValue\":1.0},{\"gene\":{\"symbol\":\"RNF19B\",\"href\":\"/api/1.0/gene/RNF19B\"},\"thresholdValue\":1.0},{\"gene\":{\"symbol\":\"PSMA8\",\"href\":\"/api/1.0/gene/PSMA8\"},\"thresholdValue\":1.0},{\"gene\":{\"symbol\":\"PSME4\",\"href\":\"/api/1.0/gene/PSME4\"},\"thresholdValue\":1.0},{\"gene\":{\"symbol\":\"FBXO27\",\"href\":\"/api/1.0/gene/FBXO27\"},\"thresholdValue\":1.0},{\"gene\":{\"symbol\":\"PSMA6\",\"href\":\"/api/1.0/gene/PSMA6\"},\"thresholdValue\":1.0},{\"gene\":{\"symbol\":\"RNF4\",\"href\":\"/api/1.0/gene/RNF4\"},\"thresholdValue\":1.0},{\"gene\":{\"symbol\":\"RNF111\",\"href\":\"/api/1.0/gene/RNF111\"},\"thresholdValue\":1.0},{\"gene\":{\"symbol\":\"WWP1\",\"href\":\"/api/1.0/gene/WWP1\"},\"thresholdValue\":1.0},{\"gene\":{\"symbol\":\"RNF34\",\"href\":\"/api/1.0/gene/RNF34\"},\"thresholdValue\":1.0},{\"gene\":{\"symbol\":\"PSMD2\",\"href\":\"/api/1.0/gene/PSMD2\"},\"thresholdValue\":1.0},{\"gene\":{\"symbol\":\"RBX1\",\"href\":\"/api/1.0/gene/RBX1\"},\"thresholdValue\":1.0},{\"gene\":{\"symbol\":\"MKRN1\",\"href\":\"/api/1.0/gene/MKRN1\"},\"thresholdValue\":1.0},{\"gene\":{\"symbol\":\"CDC20\",\"href\":\"/api/1.0/gene/CDC20\"},\"thresholdValue\":1.0},{\"gene\":{\"symbol\":\"PSMB2\",\"href\":\"/api/1.0/gene/PSMB2\"},\"thresholdValue\":1.0},{\"gene\":{\"symbol\":\"UBE2B\",\"href\":\"/api/1.0/gene/UBE2B\"},\"thresholdValue\":1.0},{\"gene\":{\"symbol\":\"PSMD6\",\"href\":\"/api/1.0/gene/PSMD6\"},\"thresholdValue\":1.0},{\"gene\":{\"symbol\":\"PSMB10\",\"href\":\"/api/1.0/gene/PSMB10\"},\"thresholdValue\":1.0},{\"gene\":{\"symbol\":\"KLHL21\",\"href\":\"/api/1.0/gene/KLHL21\"},\"thresholdValue\":1.0},{\"gene\":{\"symbol\":\"ANAPC5\",\"href\":\"/api/1.0/gene/ANAPC5\"},\"thresholdValue\":1.0},{\"gene\":{\"symbol\":\"PJA2\",\"href\":\"/api/1.0/gene/PJA2\"},\"thresholdValue\":1.0},{\"gene\":{\"symbol\":\"UBR1\",\"href\":\"/api/1.0/gene/UBR1\"},\"thresholdValue\":1.0},{\"gene\":{\"symbol\":\"FBXO44\",\"href\":\"/api/1.0/gene/FBXO44\"},\"thresholdValue\":1.0},{\"gene\":{\"symbol\":\"UBE2E2\",\"href\":\"/api/1.0/gene/UBE2E2\"},\"thresholdValue\":1.0},{\"gene\":{\"symbol\":\"UBE2O\",\"href\":\"/api/1.0/gene/UBE2O\"},\"thresholdValue\":1.0},{\"gene\":{\"symbol\":\"UBE2C\",\"href\":\"/api/1.0/gene/UBE2C\"},\"thresholdValue\":1.0},{\"gene\":{\"symbol\":\"UBA5\",\"href\":\"/api/1.0/gene/UBA5\"},\"thresholdValue\":1.0},{\"gene\":{\"symbol\":\"PJA1\",\"href\":\"/api/1.0/gene/PJA1\"},\"thresholdValue\":1.0},{\"gene\":{\"symbol\":\"MGRN1\",\"href\":\"/api/1.0/gene/MGRN1\"},\"thresholdValue\":1.0},{\"gene\":{\"symbol\":\"ASB13\",\"href\":\"/api/1.0/gene/ASB13\"},\"thresholdValue\":1.0},{\"gene\":{\"symbol\":\"ASB6\",\"href\":\"/api/1.0/gene/ASB6\"},\"thresholdValue\":1.0},{\"gene\":{\"symbol\":\"FBXW7\",\"href\":\"/api/1.0/gene/FBXW7\"},\"thresholdValue\":1.0},{\"gene\":{\"symbol\":\"ANAPC10\",\"href\":\"/api/1.0/gene/ANAPC10\"},\"thresholdValue\":1.0},{\"gene\":{\"symbol\":\"UBC\",\"href\":\"/api/1.0/gene/UBC\"},\"thresholdValue\":1.0},{\"gene\":{\"symbol\":\"PSMD14\",\"href\":\"/api/1.0/gene/PSMD14\"},\"thresholdValue\":1.0},{\"gene\":{\"symbol\":\"CDC34\",\"href\":\"/api/1.0/gene/CDC34\"},\"thresholdValue\":1.0},{\"gene\":{\"symbol\":\"VPRBP\",\"href\":\"/api/1.0/gene/VPRBP\"},\"thresholdValue\":1.0},{\"gene\":{\"symbol\":\"PSMB1\",\"href\":\"/api/1.0/gene/PSMB1\"},\"thresholdValue\":1.0},{\"gene\":{\"symbol\":\"BTRC\",\"href\":\"/api/1.0/gene/BTRC\"},\"thresholdValue\":1.0},{\"gene\":{\"symbol\":\"LRR1\",\"href\":\"/api/1.0/gene/LRR1\"},\"thresholdValue\":1.0},{\"gene\":{\"symbol\":\"UBE2J2\",\"href\":\"/api/1.0/gene/UBE2J2\"},\"thresholdValue\":1.0},{\"gene\":{\"symbol\":\"UBE2W\",\"href\":\"/api/1.0/gene/UBE2W\"},\"thresholdValue\":1.0},{\"gene\":{\"symbol\":\"TRIM32\",\"href\":\"/api/1.0/gene/TRIM32\"},\"thresholdValue\":1.0}]}\n",
      "\n"
     ]
    }
   ],
   "source": [
    "print(Antigen_processing.read())"
   ]
  },
  {
   "cell_type": "code",
   "execution_count": 3,
   "metadata": {},
   "outputs": [],
   "source": [
    "import re\n",
    "Antigen_processing_raw = re.findall(r':.\\w+.,','{\"attribute\":{\"name\":\"Antigen processing: Ubiquitination \\u0026 Proteasome degradation\",\"href\":\"/api/1.0/attribute/Antigen+processing%3A+Ubiquitination+%26+Proteasome+degradation\"},\"dataset\":{\"name\":\"Reactome Pathways\",\"href\":\"/api/1.0/dataset/Reactome+Pathways\"},\"associations\":[{\"gene\":{\"symbol\":\"PSMA5\",\"href\":\"/api/1.0/gene/PSMA5\"},\"thresholdValue\":1.0},{\"gene\":{\"symbol\":\"UBE2G2\",\"href\":\"/api/1.0/gene/UBE2G2\"},\"thresholdValue\":1.0},{\"gene\":{\"symbol\":\"UBE2Q1\",\"href\":\"/api/1.0/gene/UBE2Q1\"},\"thresholdValue\":1.0},{\"gene\":{\"symbol\":\"PSMC6\",\"href\":\"/api/1.0/gene/PSMC6\"},\"thresholdValue\":1.0},{\"gene\":{\"symbol\":\"RNF182\",\"href\":\"/api/1.0/gene/RNF182\"},\"thresholdValue\":1.0},{\"gene\":{\"symbol\":\"UBE2S\",\"href\":\"/api/1.0/gene/UBE2S\"},\"thresholdValue\":1.0},{\"gene\":{\"symbol\":\"ASB10\",\"href\":\"/api/1.0/gene/ASB10\"},\"thresholdValue\":1.0},{\"gene\":{\"symbol\":\"PSMD4\",\"href\":\"/api/1.0/gene/PSMD4\"},\"thresholdValue\":1.0},{\"gene\":{\"symbol\":\"UBE3A\",\"href\":\"/api/1.0/gene/UBE3A\"},\"thresholdValue\":1.0},{\"gene\":{\"symbol\":\"RNF220\",\"href\":\"/api/1.0/gene/RNF220\"},\"thresholdValue\":1.0},{\"gene\":{\"symbol\":\"RNF6\",\"href\":\"/api/1.0/gene/RNF6\"},\"thresholdValue\":1.0},{\"gene\":{\"symbol\":\"WSB1\",\"href\":\"/api/1.0/gene/WSB1\"},\"thresholdValue\":1.0},{\"gene\":{\"symbol\":\"UBE2D4\",\"href\":\"/api/1.0/gene/UBE2D4\"},\"thresholdValue\":1.0},{\"gene\":{\"symbol\":\"PSMA3\",\"href\":\"/api/1.0/gene/PSMA3\"},\"thresholdValue\":1.0},{\"gene\":{\"symbol\":\"ZBTB16\",\"href\":\"/api/1.0/gene/ZBTB16\"},\"thresholdValue\":1.0},{\"gene\":{\"symbol\":\"PSMD8\",\"href\":\"/api/1.0/gene/PSMD8\"},\"thresholdValue\":1.0},{\"gene\":{\"symbol\":\"UBE2A\",\"href\":\"/api/1.0/gene/UBE2A\"},\"thresholdValue\":1.0},{\"gene\":{\"symbol\":\"TRIM9\",\"href\":\"/api/1.0/gene/TRIM9\"},\"thresholdValue\":1.0},{\"gene\":{\"symbol\":\"CUL3\",\"href\":\"/api/1.0/gene/CUL3\"},\"thresholdValue\":1.0},{\"gene\":{\"symbol\":\"ANAPC7\",\"href\":\"/api/1.0/gene/ANAPC7\"},\"thresholdValue\":1.0},{\"gene\":{\"symbol\":\"KLHL20\",\"href\":\"/api/1.0/gene/KLHL20\"},\"thresholdValue\":1.0},{\"gene\":{\"symbol\":\"ANAPC2\",\"href\":\"/api/1.0/gene/ANAPC2\"},\"thresholdValue\":1.0},{\"gene\":{\"symbol\":\"LRRC41\",\"href\":\"/api/1.0/gene/LRRC41\"},\"thresholdValue\":1.0},{\"gene\":{\"symbol\":\"FBXO6\",\"href\":\"/api/1.0/gene/FBXO6\"},\"thresholdValue\":1.0},{\"gene\":{\"symbol\":\"CDC16\",\"href\":\"/api/1.0/gene/CDC16\"},\"thresholdValue\":1.0},{\"gene\":{\"symbol\":\"KEAP1\",\"href\":\"/api/1.0/gene/KEAP1\"},\"thresholdValue\":1.0},{\"gene\":{\"symbol\":\"UBE3C\",\"href\":\"/api/1.0/gene/UBE3C\"},\"thresholdValue\":1.0},{\"gene\":{\"symbol\":\"SKP2\",\"href\":\"/api/1.0/gene/SKP2\"},\"thresholdValue\":1.0},{\"gene\":{\"symbol\":\"UBE2Z\",\"href\":\"/api/1.0/gene/UBE2Z\"},\"thresholdValue\":1.0},{\"gene\":{\"symbol\":\"UBE2U\",\"href\":\"/api/1.0/gene/UBE2U\"},\"thresholdValue\":1.0},{\"gene\":{\"symbol\":\"ASB5\",\"href\":\"/api/1.0/gene/ASB5\"},\"thresholdValue\":1.0},{\"gene\":{\"symbol\":\"SMURF1\",\"href\":\"/api/1.0/gene/SMURF1\"},\"thresholdValue\":1.0},{\"gene\":{\"symbol\":\"ITCH\",\"href\":\"/api/1.0/gene/ITCH\"},\"thresholdValue\":1.0},{\"gene\":{\"symbol\":\"PSMB3\",\"href\":\"/api/1.0/gene/PSMB3\"},\"thresholdValue\":1.0},{\"gene\":{\"symbol\":\"UBE2D1\",\"href\":\"/api/1.0/gene/UBE2D1\"},\"thresholdValue\":1.0},{\"gene\":{\"symbol\":\"UBE2K\",\"href\":\"/api/1.0/gene/UBE2K\"},\"thresholdValue\":1.0},{\"gene\":{\"symbol\":\"UBA52\",\"href\":\"/api/1.0/gene/UBA52\"},\"thresholdValue\":1.0},{\"gene\":{\"symbol\":\"PSMC5\",\"href\":\"/api/1.0/gene/PSMC5\"},\"thresholdValue\":1.0},{\"gene\":{\"symbol\":\"NEDD4L\",\"href\":\"/api/1.0/gene/NEDD4L\"},\"thresholdValue\":1.0},{\"gene\":{\"symbol\":\"UBA7\",\"href\":\"/api/1.0/gene/UBA7\"},\"thresholdValue\":1.0},{\"gene\":{\"symbol\":\"CBLB\",\"href\":\"/api/1.0/gene/CBLB\"},\"thresholdValue\":1.0},{\"gene\":{\"symbol\":\"SPSB2\",\"href\":\"/api/1.0/gene/SPSB2\"},\"thresholdValue\":1.0},{\"gene\":{\"symbol\":\"UBB\",\"href\":\"/api/1.0/gene/UBB\"},\"thresholdValue\":1.0},{\"gene\":{\"symbol\":\"STUB1\",\"href\":\"/api/1.0/gene/STUB1\"},\"thresholdValue\":1.0},{\"gene\":{\"symbol\":\"PSMC4\",\"href\":\"/api/1.0/gene/PSMC4\"},\"thresholdValue\":1.0},{\"gene\":{\"symbol\":\"UBE3B\",\"href\":\"/api/1.0/gene/UBE3B\"},\"thresholdValue\":1.0},{\"gene\":{\"symbol\":\"PSMB5\",\"href\":\"/api/1.0/gene/PSMB5\"},\"thresholdValue\":1.0},{\"gene\":{\"symbol\":\"VHL\",\"href\":\"/api/1.0/gene/VHL\"},\"thresholdValue\":1.0},{\"gene\":{\"symbol\":\"UBR2\",\"href\":\"/api/1.0/gene/UBR2\"},\"thresholdValue\":1.0},{\"gene\":{\"symbol\":\"CDC27\",\"href\":\"/api/1.0/gene/CDC27\"},\"thresholdValue\":1.0},{\"gene\":{\"symbol\":\"RCHY1\",\"href\":\"/api/1.0/gene/RCHY1\"},\"thresholdValue\":1.0},{\"gene\":{\"symbol\":\"RPS27A\",\"href\":\"/api/1.0/gene/RPS27A\"},\"thresholdValue\":1.0},{\"gene\":{\"symbol\":\"PSMB8\",\"href\":\"/api/1.0/gene/PSMB8\"},\"thresholdValue\":1.0},{\"gene\":{\"symbol\":\"PSME1\",\"href\":\"/api/1.0/gene/PSME1\"},\"thresholdValue\":1.0},{\"gene\":{\"symbol\":\"SKP1\",\"href\":\"/api/1.0/gene/SKP1\"},\"thresholdValue\":1.0},{\"gene\":{\"symbol\":\"TRIM63\",\"href\":\"/api/1.0/gene/TRIM63\"},\"thresholdValue\":1.0},{\"gene\":{\"symbol\":\"PARK2\",\"href\":\"/api/1.0/gene/PARK2\"},\"thresholdValue\":1.0},{\"gene\":{\"symbol\":\"ASB14\",\"href\":\"/api/1.0/gene/ASB14\"},\"thresholdValue\":1.0},{\"gene\":{\"symbol\":\"UBE2E1\",\"href\":\"/api/1.0/gene/UBE2E1\"},\"thresholdValue\":1.0},{\"gene\":{\"symbol\":\"ANAPC13\",\"href\":\"/api/1.0/gene/ANAPC13\"},\"thresholdValue\":1.0},{\"gene\":{\"symbol\":\"PSMD11\",\"href\":\"/api/1.0/gene/PSMD11\"},\"thresholdValue\":1.0},{\"gene\":{\"symbol\":\"UBE2F\",\"href\":\"/api/1.0/gene/UBE2F\"},\"thresholdValue\":1.0},{\"gene\":{\"symbol\":\"ATG7\",\"href\":\"/api/1.0/gene/ATG7\"},\"thresholdValue\":1.0},{\"gene\":{\"symbol\":\"PSMF1\",\"href\":\"/api/1.0/gene/PSMF1\"},\"thresholdValue\":1.0},{\"gene\":{\"symbol\":\"PSMA4\",\"href\":\"/api/1.0/gene/PSMA4\"},\"thresholdValue\":1.0},{\"gene\":{\"symbol\":\"UBE2Q2\",\"href\":\"/api/1.0/gene/UBE2Q2\"},\"thresholdValue\":1.0},{\"gene\":{\"symbol\":\"HERC2\",\"href\":\"/api/1.0/gene/HERC2\"},\"thresholdValue\":1.0},{\"gene\":{\"symbol\":\"UBE2N\",\"href\":\"/api/1.0/gene/UBE2N\"},\"thresholdValue\":1.0},{\"gene\":{\"symbol\":\"CDC23\",\"href\":\"/api/1.0/gene/CDC23\"},\"thresholdValue\":1.0},{\"gene\":{\"symbol\":\"ANAPC1\",\"href\":\"/api/1.0/gene/ANAPC1\"},\"thresholdValue\":1.0},{\"gene\":{\"symbol\":\"UBA3\",\"href\":\"/api/1.0/gene/UBA3\"},\"thresholdValue\":1.0},{\"gene\":{\"symbol\":\"DZIP3\",\"href\":\"/api/1.0/gene/DZIP3\"},\"thresholdValue\":1.0},{\"gene\":{\"symbol\":\"PSMB9\",\"href\":\"/api/1.0/gene/PSMB9\"},\"thresholdValue\":1.0},{\"gene\":{\"symbol\":\"UBE2R2\",\"href\":\"/api/1.0/gene/UBE2R2\"},\"thresholdValue\":1.0},{\"gene\":{\"symbol\":\"PSMC2\",\"href\":\"/api/1.0/gene/PSMC2\"},\"thresholdValue\":1.0},{\"gene\":{\"symbol\":\"TPP2\",\"href\":\"/api/1.0/gene/TPP2\"},\"thresholdValue\":1.0},{\"gene\":{\"symbol\":\"RNF144B\",\"href\":\"/api/1.0/gene/RNF144B\"},\"thresholdValue\":1.0},{\"gene\":{\"symbol\":\"ASB11\",\"href\":\"/api/1.0/gene/ASB11\"},\"thresholdValue\":1.0},{\"gene\":{\"symbol\":\"ASB7\",\"href\":\"/api/1.0/gene/ASB7\"},\"thresholdValue\":1.0},{\"gene\":{\"symbol\":\"DTX3L\",\"href\":\"/api/1.0/gene/DTX3L\"},\"thresholdValue\":1.0},{\"gene\":{\"symbol\":\"PSMD7\",\"href\":\"/api/1.0/gene/PSMD7\"},\"thresholdValue\":1.0},{\"gene\":{\"symbol\":\"TRIM37\",\"href\":\"/api/1.0/gene/TRIM37\"},\"thresholdValue\":1.0},{\"gene\":{\"symbol\":\"UBE2L3\",\"href\":\"/api/1.0/gene/UBE2L3\"},\"thresholdValue\":1.0},{\"gene\":{\"symbol\":\"FBXW8\",\"href\":\"/api/1.0/gene/FBXW8\"},\"thresholdValue\":1.0},{\"gene\":{\"symbol\":\"PSMA2\",\"href\":\"/api/1.0/gene/PSMA2\"},\"thresholdValue\":1.0},{\"gene\":{\"symbol\":\"SMURF2\",\"href\":\"/api/1.0/gene/SMURF2\"},\"thresholdValue\":1.0},{\"gene\":{\"symbol\":\"UBE2E3\",\"href\":\"/api/1.0/gene/UBE2E3\"},\"thresholdValue\":1.0},{\"gene\":{\"symbol\":\"UBOX5\",\"href\":\"/api/1.0/gene/UBOX5\"},\"thresholdValue\":1.0},{\"gene\":{\"symbol\":\"PSMC3\",\"href\":\"/api/1.0/gene/PSMC3\"},\"thresholdValue\":1.0},{\"gene\":{\"symbol\":\"SOCS1\",\"href\":\"/api/1.0/gene/SOCS1\"},\"thresholdValue\":1.0},{\"gene\":{\"symbol\":\"CDC26\",\"href\":\"/api/1.0/gene/CDC26\"},\"thresholdValue\":1.0},{\"gene\":{\"symbol\":\"PSMD5\",\"href\":\"/api/1.0/gene/PSMD5\"},\"thresholdValue\":1.0},{\"gene\":{\"symbol\":\"CUL2\",\"href\":\"/api/1.0/gene/CUL2\"},\"thresholdValue\":1.0},{\"gene\":{\"symbol\":\"HUWE1\",\"href\":\"/api/1.0/gene/HUWE1\"},\"thresholdValue\":1.0},{\"gene\":{\"symbol\":\"ANAPC4\",\"href\":\"/api/1.0/gene/ANAPC4\"},\"thresholdValue\":1.0},{\"gene\":{\"symbol\":\"ASB1\",\"href\":\"/api/1.0/gene/ASB1\"},\"thresholdValue\":1.0},{\"gene\":{\"symbol\":\"PSMB7\",\"href\":\"/api/1.0/gene/PSMB7\"},\"thresholdValue\":1.0},{\"gene\":{\"symbol\":\"KLHL9\",\"href\":\"/api/1.0/gene/KLHL9\"},\"thresholdValue\":1.0},{\"gene\":{\"symbol\":\"PSMD3\",\"href\":\"/api/1.0/gene/PSMD3\"},\"thresholdValue\":1.0},{\"gene\":{\"symbol\":\"NEDD4\",\"href\":\"/api/1.0/gene/NEDD4\"},\"thresholdValue\":1.0},{\"gene\":{\"symbol\":\"RBCK1\",\"href\":\"/api/1.0/gene/RBCK1\"},\"thresholdValue\":1.0},{\"gene\":{\"symbol\":\"FZR1\",\"href\":\"/api/1.0/gene/FZR1\"},\"thresholdValue\":1.0},{\"gene\":{\"symbol\":\"UBA1\",\"href\":\"/api/1.0/gene/UBA1\"},\"thresholdValue\":1.0},{\"gene\":{\"symbol\":\"PSMD1\",\"href\":\"/api/1.0/gene/PSMD1\"},\"thresholdValue\":1.0},{\"gene\":{\"symbol\":\"PSMC1\",\"href\":\"/api/1.0/gene/PSMC1\"},\"thresholdValue\":1.0},{\"gene\":{\"symbol\":\"PSMB11\",\"href\":\"/api/1.0/gene/PSMB11\"},\"thresholdValue\":1.0},{\"gene\":{\"symbol\":\"ASB17\",\"href\":\"/api/1.0/gene/ASB17\"},\"thresholdValue\":1.0},{\"gene\":{\"symbol\":\"ASB4\",\"href\":\"/api/1.0/gene/ASB4\"},\"thresholdValue\":1.0},{\"gene\":{\"symbol\":\"UBE2V1\",\"href\":\"/api/1.0/gene/UBE2V1\"},\"thresholdValue\":1.0},{\"gene\":{\"symbol\":\"RNF138\",\"href\":\"/api/1.0/gene/RNF138\"},\"thresholdValue\":1.0},{\"gene\":{\"symbol\":\"TRIM21\",\"href\":\"/api/1.0/gene/TRIM21\"},\"thresholdValue\":1.0},{\"gene\":{\"symbol\":\"UBE2G1\",\"href\":\"/api/1.0/gene/UBE2G1\"},\"thresholdValue\":1.0},{\"gene\":{\"symbol\":\"PSMD9\",\"href\":\"/api/1.0/gene/PSMD9\"},\"thresholdValue\":1.0},{\"gene\":{\"symbol\":\"UBE2M\",\"href\":\"/api/1.0/gene/UBE2M\"},\"thresholdValue\":1.0},{\"gene\":{\"symbol\":\"TRIP12\",\"href\":\"/api/1.0/gene/TRIP12\"},\"thresholdValue\":1.0},{\"gene\":{\"symbol\":\"ASB15\",\"href\":\"/api/1.0/gene/ASB15\"},\"thresholdValue\":1.0},{\"gene\":{\"symbol\":\"RNF25\",\"href\":\"/api/1.0/gene/RNF25\"},\"thresholdValue\":1.0},{\"gene\":{\"symbol\":\"FBXO17\",\"href\":\"/api/1.0/gene/FBXO17\"},\"thresholdValue\":1.0},{\"gene\":{\"symbol\":\"FBXO3\",\"href\":\"/api/1.0/gene/FBXO3\"},\"thresholdValue\":1.0},{\"gene\":{\"symbol\":\"FBXW11\",\"href\":\"/api/1.0/gene/FBXW11\"},\"thresholdValue\":1.0},{\"gene\":{\"symbol\":\"PSMB6\",\"href\":\"/api/1.0/gene/PSMB6\"},\"thresholdValue\":1.0},{\"gene\":{\"symbol\":\"RNF123\",\"href\":\"/api/1.0/gene/RNF123\"},\"thresholdValue\":1.0},{\"gene\":{\"symbol\":\"FBXO4\",\"href\":\"/api/1.0/gene/FBXO4\"},\"thresholdValue\":1.0},{\"gene\":{\"symbol\":\"UBE2D3\",\"href\":\"/api/1.0/gene/UBE2D3\"},\"thresholdValue\":1.0},{\"gene\":{\"symbol\":\"DET1\",\"href\":\"/api/1.0/gene/DET1\"},\"thresholdValue\":1.0},{\"gene\":{\"symbol\":\"UBE2D2\",\"href\":\"/api/1.0/gene/UBE2D2\"},\"thresholdValue\":1.0},{\"gene\":{\"symbol\":\"TCEB1\",\"href\":\"/api/1.0/gene/TCEB1\"},\"thresholdValue\":1.0},{\"gene\":{\"symbol\":\"ANAPC11\",\"href\":\"/api/1.0/gene/ANAPC11\"},\"thresholdValue\":1.0},{\"gene\":{\"symbol\":\"ARIH2\",\"href\":\"/api/1.0/gene/ARIH2\"},\"thresholdValue\":1.0},{\"gene\":{\"symbol\":\"TCEB2\",\"href\":\"/api/1.0/gene/TCEB2\"},\"thresholdValue\":1.0},{\"gene\":{\"symbol\":\"UBE4A\",\"href\":\"/api/1.0/gene/UBE4A\"},\"thresholdValue\":1.0},{\"gene\":{\"symbol\":\"LNPEP\",\"href\":\"/api/1.0/gene/LNPEP\"},\"thresholdValue\":1.0},{\"gene\":{\"symbol\":\"PSMB4\",\"href\":\"/api/1.0/gene/PSMB4\"},\"thresholdValue\":1.0},{\"gene\":{\"symbol\":\"PSMA7\",\"href\":\"/api/1.0/gene/PSMA7\"},\"thresholdValue\":1.0},{\"gene\":{\"symbol\":\"UBR4\",\"href\":\"/api/1.0/gene/UBR4\"},\"thresholdValue\":1.0},{\"gene\":{\"symbol\":\"ASB16\",\"href\":\"/api/1.0/gene/ASB16\"},\"thresholdValue\":1.0},{\"gene\":{\"symbol\":\"CUL7\",\"href\":\"/api/1.0/gene/CUL7\"},\"thresholdValue\":1.0},{\"gene\":{\"symbol\":\"ASB9\",\"href\":\"/api/1.0/gene/ASB9\"},\"thresholdValue\":1.0},{\"gene\":{\"symbol\":\"PSMD13\",\"href\":\"/api/1.0/gene/PSMD13\"},\"thresholdValue\":1.0},{\"gene\":{\"symbol\":\"UBA6\",\"href\":\"/api/1.0/gene/UBA6\"},\"thresholdValue\":1.0},{\"gene\":{\"symbol\":\"ASB18\",\"href\":\"/api/1.0/gene/ASB18\"},\"thresholdValue\":1.0},{\"gene\":{\"symbol\":\"SOCS3\",\"href\":\"/api/1.0/gene/SOCS3\"},\"thresholdValue\":1.0},{\"gene\":{\"symbol\":\"UBE2H\",\"href\":\"/api/1.0/gene/UBE2H\"},\"thresholdValue\":1.0},{\"gene\":{\"symbol\":\"UBE2V2\",\"href\":\"/api/1.0/gene/UBE2V2\"},\"thresholdValue\":1.0},{\"gene\":{\"symbol\":\"PSMD10\",\"href\":\"/api/1.0/gene/PSMD10\"},\"thresholdValue\":1.0},{\"gene\":{\"symbol\":\"TRIM36\",\"href\":\"/api/1.0/gene/TRIM36\"},\"thresholdValue\":1.0},{\"gene\":{\"symbol\":\"CUL1\",\"href\":\"/api/1.0/gene/CUL1\"},\"thresholdValue\":1.0},{\"gene\":{\"symbol\":\"UBE2L6\",\"href\":\"/api/1.0/gene/UBE2L6\"},\"thresholdValue\":1.0},{\"gene\":{\"symbol\":\"BLMH\",\"href\":\"/api/1.0/gene/BLMH\"},\"thresholdValue\":1.0},{\"gene\":{\"symbol\":\"PSME2\",\"href\":\"/api/1.0/gene/PSME2\"},\"thresholdValue\":1.0},{\"gene\":{\"symbol\":\"ASB12\",\"href\":\"/api/1.0/gene/ASB12\"},\"thresholdValue\":1.0},{\"gene\":{\"symbol\":\"CUL5\",\"href\":\"/api/1.0/gene/CUL5\"},\"thresholdValue\":1.0},{\"gene\":{\"symbol\":\"SPSB4\",\"href\":\"/api/1.0/gene/SPSB4\"},\"thresholdValue\":1.0},{\"gene\":{\"symbol\":\"TRIM11\",\"href\":\"/api/1.0/gene/TRIM11\"},\"thresholdValue\":1.0},{\"gene\":{\"symbol\":\"ASB3\",\"href\":\"/api/1.0/gene/ASB3\"},\"thresholdValue\":1.0},{\"gene\":{\"symbol\":\"RNF41\",\"href\":\"/api/1.0/gene/RNF41\"},\"thresholdValue\":1.0},{\"gene\":{\"symbol\":\"GAN\",\"href\":\"/api/1.0/gene/GAN\"},\"thresholdValue\":1.0},{\"gene\":{\"symbol\":\"KLHL13\",\"href\":\"/api/1.0/gene/KLHL13\"},\"thresholdValue\":1.0},{\"gene\":{\"symbol\":\"PSMA1\",\"href\":\"/api/1.0/gene/PSMA1\"},\"thresholdValue\":1.0},{\"gene\":{\"symbol\":\"ASB8\",\"href\":\"/api/1.0/gene/ASB8\"},\"thresholdValue\":1.0},{\"gene\":{\"symbol\":\"UBE2J1\",\"href\":\"/api/1.0/gene/UBE2J1\"},\"thresholdValue\":1.0},{\"gene\":{\"symbol\":\"NPEPPS\",\"href\":\"/api/1.0/gene/NPEPPS\"},\"thresholdValue\":1.0},{\"gene\":{\"symbol\":\"FBXO2\",\"href\":\"/api/1.0/gene/FBXO2\"},\"thresholdValue\":1.0},{\"gene\":{\"symbol\":\"ASB2\",\"href\":\"/api/1.0/gene/ASB2\"},\"thresholdValue\":1.0},{\"gene\":{\"symbol\":\"LRSAM1\",\"href\":\"/api/1.0/gene/LRSAM1\"},\"thresholdValue\":1.0},{\"gene\":{\"symbol\":\"SPSB1\",\"href\":\"/api/1.0/gene/SPSB1\"},\"thresholdValue\":1.0},{\"gene\":{\"symbol\":\"PSME3\",\"href\":\"/api/1.0/gene/PSME3\"},\"thresholdValue\":1.0},{\"gene\":{\"symbol\":\"HECTD3\",\"href\":\"/api/1.0/gene/HECTD3\"},\"thresholdValue\":1.0},{\"gene\":{\"symbol\":\"PSMD12\",\"href\":\"/api/1.0/gene/PSMD12\"},\"thresholdValue\":1.0},{\"gene\":{\"symbol\":\"RNF19B\",\"href\":\"/api/1.0/gene/RNF19B\"},\"thresholdValue\":1.0},{\"gene\":{\"symbol\":\"PSMA8\",\"href\":\"/api/1.0/gene/PSMA8\"},\"thresholdValue\":1.0},{\"gene\":{\"symbol\":\"PSME4\",\"href\":\"/api/1.0/gene/PSME4\"},\"thresholdValue\":1.0},{\"gene\":{\"symbol\":\"FBXO27\",\"href\":\"/api/1.0/gene/FBXO27\"},\"thresholdValue\":1.0},{\"gene\":{\"symbol\":\"PSMA6\",\"href\":\"/api/1.0/gene/PSMA6\"},\"thresholdValue\":1.0},{\"gene\":{\"symbol\":\"RNF4\",\"href\":\"/api/1.0/gene/RNF4\"},\"thresholdValue\":1.0},{\"gene\":{\"symbol\":\"RNF111\",\"href\":\"/api/1.0/gene/RNF111\"},\"thresholdValue\":1.0},{\"gene\":{\"symbol\":\"WWP1\",\"href\":\"/api/1.0/gene/WWP1\"},\"thresholdValue\":1.0},{\"gene\":{\"symbol\":\"RNF34\",\"href\":\"/api/1.0/gene/RNF34\"},\"thresholdValue\":1.0},{\"gene\":{\"symbol\":\"PSMD2\",\"href\":\"/api/1.0/gene/PSMD2\"},\"thresholdValue\":1.0},{\"gene\":{\"symbol\":\"RBX1\",\"href\":\"/api/1.0/gene/RBX1\"},\"thresholdValue\":1.0},{\"gene\":{\"symbol\":\"MKRN1\",\"href\":\"/api/1.0/gene/MKRN1\"},\"thresholdValue\":1.0},{\"gene\":{\"symbol\":\"CDC20\",\"href\":\"/api/1.0/gene/CDC20\"},\"thresholdValue\":1.0},{\"gene\":{\"symbol\":\"PSMB2\",\"href\":\"/api/1.0/gene/PSMB2\"},\"thresholdValue\":1.0},{\"gene\":{\"symbol\":\"UBE2B\",\"href\":\"/api/1.0/gene/UBE2B\"},\"thresholdValue\":1.0},{\"gene\":{\"symbol\":\"PSMD6\",\"href\":\"/api/1.0/gene/PSMD6\"},\"thresholdValue\":1.0},{\"gene\":{\"symbol\":\"PSMB10\",\"href\":\"/api/1.0/gene/PSMB10\"},\"thresholdValue\":1.0},{\"gene\":{\"symbol\":\"KLHL21\",\"href\":\"/api/1.0/gene/KLHL21\"},\"thresholdValue\":1.0},{\"gene\":{\"symbol\":\"ANAPC5\",\"href\":\"/api/1.0/gene/ANAPC5\"},\"thresholdValue\":1.0},{\"gene\":{\"symbol\":\"PJA2\",\"href\":\"/api/1.0/gene/PJA2\"},\"thresholdValue\":1.0},{\"gene\":{\"symbol\":\"UBR1\",\"href\":\"/api/1.0/gene/UBR1\"},\"thresholdValue\":1.0},{\"gene\":{\"symbol\":\"FBXO44\",\"href\":\"/api/1.0/gene/FBXO44\"},\"thresholdValue\":1.0},{\"gene\":{\"symbol\":\"UBE2E2\",\"href\":\"/api/1.0/gene/UBE2E2\"},\"thresholdValue\":1.0},{\"gene\":{\"symbol\":\"UBE2O\",\"href\":\"/api/1.0/gene/UBE2O\"},\"thresholdValue\":1.0},{\"gene\":{\"symbol\":\"UBE2C\",\"href\":\"/api/1.0/gene/UBE2C\"},\"thresholdValue\":1.0},{\"gene\":{\"symbol\":\"UBA5\",\"href\":\"/api/1.0/gene/UBA5\"},\"thresholdValue\":1.0},{\"gene\":{\"symbol\":\"PJA1\",\"href\":\"/api/1.0/gene/PJA1\"},\"thresholdValue\":1.0},{\"gene\":{\"symbol\":\"MGRN1\",\"href\":\"/api/1.0/gene/MGRN1\"},\"thresholdValue\":1.0},{\"gene\":{\"symbol\":\"ASB13\",\"href\":\"/api/1.0/gene/ASB13\"},\"thresholdValue\":1.0},{\"gene\":{\"symbol\":\"ASB6\",\"href\":\"/api/1.0/gene/ASB6\"},\"thresholdValue\":1.0},{\"gene\":{\"symbol\":\"FBXW7\",\"href\":\"/api/1.0/gene/FBXW7\"},\"thresholdValue\":1.0},{\"gene\":{\"symbol\":\"ANAPC10\",\"href\":\"/api/1.0/gene/ANAPC10\"},\"thresholdValue\":1.0},{\"gene\":{\"symbol\":\"UBC\",\"href\":\"/api/1.0/gene/UBC\"},\"thresholdValue\":1.0},{\"gene\":{\"symbol\":\"PSMD14\",\"href\":\"/api/1.0/gene/PSMD14\"},\"thresholdValue\":1.0},{\"gene\":{\"symbol\":\"CDC34\",\"href\":\"/api/1.0/gene/CDC34\"},\"thresholdValue\":1.0},{\"gene\":{\"symbol\":\"VPRBP\",\"href\":\"/api/1.0/gene/VPRBP\"},\"thresholdValue\":1.0},{\"gene\":{\"symbol\":\"PSMB1\",\"href\":\"/api/1.0/gene/PSMB1\"},\"thresholdValue\":1.0},{\"gene\":{\"symbol\":\"BTRC\",\"href\":\"/api/1.0/gene/BTRC\"},\"thresholdValue\":1.0},{\"gene\":{\"symbol\":\"LRR1\",\"href\":\"/api/1.0/gene/LRR1\"},\"thresholdValue\":1.0},{\"gene\":{\"symbol\":\"UBE2J2\",\"href\":\"/api/1.0/gene/UBE2J2\"},\"thresholdValue\":1.0},{\"gene\":{\"symbol\":\"UBE2W\",\"href\":\"/api/1.0/gene/UBE2W\"},\"thresholdValue\":1.0},{\"gene\":{\"symbol\":\"TRIM32\",\"href\":\"/api/1.0/gene/TRIM32\"},\"thresholdValue\":1.0}]}')"
   ]
  },
  {
   "cell_type": "code",
   "execution_count": 4,
   "metadata": {},
   "outputs": [],
   "source": [
    "listToStr = ' '.join([str(elem) for elem in Antigen_processing_raw])"
   ]
  },
  {
   "cell_type": "code",
   "execution_count": 5,
   "metadata": {},
   "outputs": [
    {
     "name": "stdout",
     "output_type": "stream",
     "text": [
      ":\"PSMA5\", :\"UBE2G2\", :\"UBE2Q1\", :\"PSMC6\", :\"RNF182\", :\"UBE2S\", :\"ASB10\", :\"PSMD4\", :\"UBE3A\", :\"RNF220\", :\"RNF6\", :\"WSB1\", :\"UBE2D4\", :\"PSMA3\", :\"ZBTB16\", :\"PSMD8\", :\"UBE2A\", :\"TRIM9\", :\"CUL3\", :\"ANAPC7\", :\"KLHL20\", :\"ANAPC2\", :\"LRRC41\", :\"FBXO6\", :\"CDC16\", :\"KEAP1\", :\"UBE3C\", :\"SKP2\", :\"UBE2Z\", :\"UBE2U\", :\"ASB5\", :\"SMURF1\", :\"ITCH\", :\"PSMB3\", :\"UBE2D1\", :\"UBE2K\", :\"UBA52\", :\"PSMC5\", :\"NEDD4L\", :\"UBA7\", :\"CBLB\", :\"SPSB2\", :\"UBB\", :\"STUB1\", :\"PSMC4\", :\"UBE3B\", :\"PSMB5\", :\"VHL\", :\"UBR2\", :\"CDC27\", :\"RCHY1\", :\"RPS27A\", :\"PSMB8\", :\"PSME1\", :\"SKP1\", :\"TRIM63\", :\"PARK2\", :\"ASB14\", :\"UBE2E1\", :\"ANAPC13\", :\"PSMD11\", :\"UBE2F\", :\"ATG7\", :\"PSMF1\", :\"PSMA4\", :\"UBE2Q2\", :\"HERC2\", :\"UBE2N\", :\"CDC23\", :\"ANAPC1\", :\"UBA3\", :\"DZIP3\", :\"PSMB9\", :\"UBE2R2\", :\"PSMC2\", :\"TPP2\", :\"RNF144B\", :\"ASB11\", :\"ASB7\", :\"DTX3L\", :\"PSMD7\", :\"TRIM37\", :\"UBE2L3\", :\"FBXW8\", :\"PSMA2\", :\"SMURF2\", :\"UBE2E3\", :\"UBOX5\", :\"PSMC3\", :\"SOCS1\", :\"CDC26\", :\"PSMD5\", :\"CUL2\", :\"HUWE1\", :\"ANAPC4\", :\"ASB1\", :\"PSMB7\", :\"KLHL9\", :\"PSMD3\", :\"NEDD4\", :\"RBCK1\", :\"FZR1\", :\"UBA1\", :\"PSMD1\", :\"PSMC1\", :\"PSMB11\", :\"ASB17\", :\"ASB4\", :\"UBE2V1\", :\"RNF138\", :\"TRIM21\", :\"UBE2G1\", :\"PSMD9\", :\"UBE2M\", :\"TRIP12\", :\"ASB15\", :\"RNF25\", :\"FBXO17\", :\"FBXO3\", :\"FBXW11\", :\"PSMB6\", :\"RNF123\", :\"FBXO4\", :\"UBE2D3\", :\"DET1\", :\"UBE2D2\", :\"TCEB1\", :\"ANAPC11\", :\"ARIH2\", :\"TCEB2\", :\"UBE4A\", :\"LNPEP\", :\"PSMB4\", :\"PSMA7\", :\"UBR4\", :\"ASB16\", :\"CUL7\", :\"ASB9\", :\"PSMD13\", :\"UBA6\", :\"ASB18\", :\"SOCS3\", :\"UBE2H\", :\"UBE2V2\", :\"PSMD10\", :\"TRIM36\", :\"CUL1\", :\"UBE2L6\", :\"BLMH\", :\"PSME2\", :\"ASB12\", :\"CUL5\", :\"SPSB4\", :\"TRIM11\", :\"ASB3\", :\"RNF41\", :\"GAN\", :\"KLHL13\", :\"PSMA1\", :\"ASB8\", :\"UBE2J1\", :\"NPEPPS\", :\"FBXO2\", :\"ASB2\", :\"LRSAM1\", :\"SPSB1\", :\"PSME3\", :\"HECTD3\", :\"PSMD12\", :\"RNF19B\", :\"PSMA8\", :\"PSME4\", :\"FBXO27\", :\"PSMA6\", :\"RNF4\", :\"RNF111\", :\"WWP1\", :\"RNF34\", :\"PSMD2\", :\"RBX1\", :\"MKRN1\", :\"CDC20\", :\"PSMB2\", :\"UBE2B\", :\"PSMD6\", :\"PSMB10\", :\"KLHL21\", :\"ANAPC5\", :\"PJA2\", :\"UBR1\", :\"FBXO44\", :\"UBE2E2\", :\"UBE2O\", :\"UBE2C\", :\"UBA5\", :\"PJA1\", :\"MGRN1\", :\"ASB13\", :\"ASB6\", :\"FBXW7\", :\"ANAPC10\", :\"UBC\", :\"PSMD14\", :\"CDC34\", :\"VPRBP\", :\"PSMB1\", :\"BTRC\", :\"LRR1\", :\"UBE2J2\", :\"UBE2W\", :\"TRIM32\",\n"
     ]
    }
   ],
   "source": [
    "print(listToStr)"
   ]
  },
  {
   "cell_type": "code",
   "execution_count": 23,
   "metadata": {},
   "outputs": [],
   "source": [
    "Antigen_processing_proteins = re.findall(r'\\w+',':\"PSMA5\", :\"UBE2G2\", :\"UBE2Q1\", :\"PSMC6\", :\"RNF182\", :\"UBE2S\", :\"ASB10\", :\"PSMD4\", :\"UBE3A\", :\"RNF220\", :\"RNF6\", :\"WSB1\", :\"UBE2D4\", :\"PSMA3\", :\"ZBTB16\", :\"PSMD8\", :\"UBE2A\", :\"TRIM9\", :\"CUL3\", :\"ANAPC7\", :\"KLHL20\", :\"ANAPC2\", :\"LRRC41\", :\"FBXO6\", :\"CDC16\", :\"KEAP1\", :\"UBE3C\", :\"SKP2\", :\"UBE2Z\", :\"UBE2U\", :\"ASB5\", :\"SMURF1\", :\"ITCH\", :\"PSMB3\", :\"UBE2D1\", :\"UBE2K\", :\"UBA52\", :\"PSMC5\", :\"NEDD4L\", :\"UBA7\", :\"CBLB\", :\"SPSB2\", :\"UBB\", :\"STUB1\", :\"PSMC4\", :\"UBE3B\", :\"PSMB5\", :\"VHL\", :\"UBR2\", :\"CDC27\", :\"RCHY1\", :\"RPS27A\", :\"PSMB8\", :\"PSME1\", :\"SKP1\", :\"TRIM63\", :\"PARK2\", :\"ASB14\", :\"UBE2E1\", :\"ANAPC13\", :\"PSMD11\", :\"UBE2F\", :\"ATG7\", :\"PSMF1\", :\"PSMA4\", :\"UBE2Q2\", :\"HERC2\", :\"UBE2N\", :\"CDC23\", :\"ANAPC1\", :\"UBA3\", :\"DZIP3\", :\"PSMB9\", :\"UBE2R2\", :\"PSMC2\", :\"TPP2\", :\"RNF144B\", :\"ASB11\", :\"ASB7\", :\"DTX3L\", :\"PSMD7\", :\"TRIM37\", :\"UBE2L3\", :\"FBXW8\", :\"PSMA2\", :\"SMURF2\", :\"UBE2E3\", :\"UBOX5\", :\"PSMC3\", :\"SOCS1\", :\"CDC26\", :\"PSMD5\", :\"CUL2\", :\"HUWE1\", :\"ANAPC4\", :\"ASB1\", :\"PSMB7\", :\"KLHL9\", :\"PSMD3\", :\"NEDD4\", :\"RBCK1\", :\"FZR1\", :\"UBA1\", :\"PSMD1\", :\"PSMC1\", :\"PSMB11\", :\"ASB17\", :\"ASB4\", :\"UBE2V1\", :\"RNF138\", :\"TRIM21\", :\"UBE2G1\", :\"PSMD9\", :\"UBE2M\", :\"TRIP12\", :\"ASB15\", :\"RNF25\", :\"FBXO17\", :\"FBXO3\", :\"FBXW11\", :\"PSMB6\", :\"RNF123\", :\"FBXO4\", :\"UBE2D3\", :\"DET1\", :\"UBE2D2\", :\"TCEB1\", :\"ANAPC11\", :\"ARIH2\", :\"TCEB2\", :\"UBE4A\", :\"LNPEP\", :\"PSMB4\", :\"PSMA7\", :\"UBR4\", :\"ASB16\", :\"CUL7\", :\"ASB9\", :\"PSMD13\", :\"UBA6\", :\"ASB18\", :\"SOCS3\", :\"UBE2H\", :\"UBE2V2\", :\"PSMD10\", :\"TRIM36\", :\"CUL1\", :\"UBE2L6\", :\"BLMH\", :\"PSME2\", :\"ASB12\", :\"CUL5\", :\"SPSB4\", :\"TRIM11\", :\"ASB3\", :\"RNF41\", :\"GAN\", :\"KLHL13\", :\"PSMA1\", :\"ASB8\", :\"UBE2J1\", :\"NPEPPS\", :\"FBXO2\", :\"ASB2\", :\"LRSAM1\", :\"SPSB1\", :\"PSME3\", :\"HECTD3\", :\"PSMD12\", :\"RNF19B\", :\"PSMA8\", :\"PSME4\", :\"FBXO27\", :\"PSMA6\", :\"RNF4\", :\"RNF111\", :\"WWP1\", :\"RNF34\", :\"PSMD2\", :\"RBX1\", :\"MKRN1\", :\"CDC20\", :\"PSMB2\", :\"UBE2B\", :\"PSMD6\", :\"PSMB10\", :\"KLHL21\", :\"ANAPC5\", :\"PJA2\", :\"UBR1\", :\"FBXO44\", :\"UBE2E2\", :\"UBE2O\", :\"UBE2C\", :\"UBA5\", :\"PJA1\", :\"MGRN1\", :\"ASB13\", :\"ASB6\", :\"FBXW7\", :\"ANAPC10\", :\"UBC\", :\"PSMD14\", :\"CDC34\", :\"VPRBP\", :\"PSMB1\", :\"BTRC\", :\"LRR1\", :\"UBE2J2\", :\"UBE2W\", :\"TRIM32\",')"
   ]
  },
  {
   "cell_type": "code",
   "execution_count": 24,
   "metadata": {},
   "outputs": [],
   "source": [
    "import csv\n",
    "with open('Antigen_processing_proteins.csv', 'w') as Antigen_processing_proteins1:\n",
    "    wr = csv.writer(Antigen_processing_proteins1, quoting=csv.QUOTE_ALL)\n",
    "    wr.writerow(Antigen_processing_proteins)"
   ]
  },
  {
   "cell_type": "code",
   "execution_count": 14,
   "metadata": {},
   "outputs": [
    {
     "name": "stdout",
     "output_type": "stream",
     "text": [
      "<_io.TextIOWrapper name='Antigen_processing.txt' mode='r' encoding='UTF-8'>\n"
     ]
    }
   ],
   "source": [
    "print(Antigen_processing)"
   ]
  },
  {
   "cell_type": "code",
   "execution_count": 15,
   "metadata": {},
   "outputs": [
    {
     "name": "stdout",
     "output_type": "stream",
     "text": [
      "<_io.TextIOWrapper name='Antigen_processing_proteins.csv' mode='w' encoding='UTF-8'>\n"
     ]
    }
   ],
   "source": [
    "print(Antigen_processing_proteins)"
   ]
  },
  {
   "cell_type": "code",
   "execution_count": 18,
   "metadata": {},
   "outputs": [
    {
     "data": {
      "text/plain": [
       "['PSMA5',\n",
       " 'UBE2G2',\n",
       " 'UBE2Q1',\n",
       " 'PSMC6',\n",
       " 'RNF182',\n",
       " 'UBE2S',\n",
       " 'ASB10',\n",
       " 'PSMD4',\n",
       " 'UBE3A',\n",
       " 'RNF220',\n",
       " 'RNF6',\n",
       " 'WSB1',\n",
       " 'UBE2D4',\n",
       " 'PSMA3',\n",
       " 'ZBTB16',\n",
       " 'PSMD8',\n",
       " 'UBE2A',\n",
       " 'TRIM9',\n",
       " 'CUL3',\n",
       " 'ANAPC7',\n",
       " 'KLHL20',\n",
       " 'ANAPC2',\n",
       " 'LRRC41',\n",
       " 'FBXO6',\n",
       " 'CDC16',\n",
       " 'KEAP1',\n",
       " 'UBE3C',\n",
       " 'SKP2',\n",
       " 'UBE2Z',\n",
       " 'UBE2U',\n",
       " 'ASB5',\n",
       " 'SMURF1',\n",
       " 'ITCH',\n",
       " 'PSMB3',\n",
       " 'UBE2D1',\n",
       " 'UBE2K',\n",
       " 'UBA52',\n",
       " 'PSMC5',\n",
       " 'NEDD4L',\n",
       " 'UBA7',\n",
       " 'CBLB',\n",
       " 'SPSB2',\n",
       " 'UBB',\n",
       " 'STUB1',\n",
       " 'PSMC4',\n",
       " 'UBE3B',\n",
       " 'PSMB5',\n",
       " 'VHL',\n",
       " 'UBR2',\n",
       " 'CDC27',\n",
       " 'RCHY1',\n",
       " 'RPS27A',\n",
       " 'PSMB8',\n",
       " 'PSME1',\n",
       " 'SKP1',\n",
       " 'TRIM63',\n",
       " 'PARK2',\n",
       " 'ASB14',\n",
       " 'UBE2E1',\n",
       " 'ANAPC13',\n",
       " 'PSMD11',\n",
       " 'UBE2F',\n",
       " 'ATG7',\n",
       " 'PSMF1',\n",
       " 'PSMA4',\n",
       " 'UBE2Q2',\n",
       " 'HERC2',\n",
       " 'UBE2N',\n",
       " 'CDC23',\n",
       " 'ANAPC1',\n",
       " 'UBA3',\n",
       " 'DZIP3',\n",
       " 'PSMB9',\n",
       " 'UBE2R2',\n",
       " 'PSMC2',\n",
       " 'TPP2',\n",
       " 'RNF144B',\n",
       " 'ASB11',\n",
       " 'ASB7',\n",
       " 'DTX3L',\n",
       " 'PSMD7',\n",
       " 'TRIM37',\n",
       " 'UBE2L3',\n",
       " 'FBXW8',\n",
       " 'PSMA2',\n",
       " 'SMURF2',\n",
       " 'UBE2E3',\n",
       " 'UBOX5',\n",
       " 'PSMC3',\n",
       " 'SOCS1',\n",
       " 'CDC26',\n",
       " 'PSMD5',\n",
       " 'CUL2',\n",
       " 'HUWE1',\n",
       " 'ANAPC4',\n",
       " 'ASB1',\n",
       " 'PSMB7',\n",
       " 'KLHL9',\n",
       " 'PSMD3',\n",
       " 'NEDD4',\n",
       " 'RBCK1',\n",
       " 'FZR1',\n",
       " 'UBA1',\n",
       " 'PSMD1',\n",
       " 'PSMC1',\n",
       " 'PSMB11',\n",
       " 'ASB17',\n",
       " 'ASB4',\n",
       " 'UBE2V1',\n",
       " 'RNF138',\n",
       " 'TRIM21',\n",
       " 'UBE2G1',\n",
       " 'PSMD9',\n",
       " 'UBE2M',\n",
       " 'TRIP12',\n",
       " 'ASB15',\n",
       " 'RNF25',\n",
       " 'FBXO17',\n",
       " 'FBXO3',\n",
       " 'FBXW11',\n",
       " 'PSMB6',\n",
       " 'RNF123',\n",
       " 'FBXO4',\n",
       " 'UBE2D3',\n",
       " 'DET1',\n",
       " 'UBE2D2',\n",
       " 'TCEB1',\n",
       " 'ANAPC11',\n",
       " 'ARIH2',\n",
       " 'TCEB2',\n",
       " 'UBE4A',\n",
       " 'LNPEP',\n",
       " 'PSMB4',\n",
       " 'PSMA7',\n",
       " 'UBR4',\n",
       " 'ASB16',\n",
       " 'CUL7',\n",
       " 'ASB9',\n",
       " 'PSMD13',\n",
       " 'UBA6',\n",
       " 'ASB18',\n",
       " 'SOCS3',\n",
       " 'UBE2H',\n",
       " 'UBE2V2',\n",
       " 'PSMD10',\n",
       " 'TRIM36',\n",
       " 'CUL1',\n",
       " 'UBE2L6',\n",
       " 'BLMH',\n",
       " 'PSME2',\n",
       " 'ASB12',\n",
       " 'CUL5',\n",
       " 'SPSB4',\n",
       " 'TRIM11',\n",
       " 'ASB3',\n",
       " 'RNF41',\n",
       " 'GAN',\n",
       " 'KLHL13',\n",
       " 'PSMA1',\n",
       " 'ASB8',\n",
       " 'UBE2J1',\n",
       " 'NPEPPS',\n",
       " 'FBXO2',\n",
       " 'ASB2',\n",
       " 'LRSAM1',\n",
       " 'SPSB1',\n",
       " 'PSME3',\n",
       " 'HECTD3',\n",
       " 'PSMD12',\n",
       " 'RNF19B',\n",
       " 'PSMA8',\n",
       " 'PSME4',\n",
       " 'FBXO27',\n",
       " 'PSMA6',\n",
       " 'RNF4',\n",
       " 'RNF111',\n",
       " 'WWP1',\n",
       " 'RNF34',\n",
       " 'PSMD2',\n",
       " 'RBX1',\n",
       " 'MKRN1',\n",
       " 'CDC20',\n",
       " 'PSMB2',\n",
       " 'UBE2B',\n",
       " 'PSMD6',\n",
       " 'PSMB10',\n",
       " 'KLHL21',\n",
       " 'ANAPC5',\n",
       " 'PJA2',\n",
       " 'UBR1',\n",
       " 'FBXO44',\n",
       " 'UBE2E2',\n",
       " 'UBE2O',\n",
       " 'UBE2C',\n",
       " 'UBA5',\n",
       " 'PJA1',\n",
       " 'MGRN1',\n",
       " 'ASB13',\n",
       " 'ASB6',\n",
       " 'FBXW7',\n",
       " 'ANAPC10',\n",
       " 'UBC',\n",
       " 'PSMD14',\n",
       " 'CDC34',\n",
       " 'VPRBP',\n",
       " 'PSMB1',\n",
       " 'BTRC',\n",
       " 'LRR1',\n",
       " 'UBE2J2',\n",
       " 'UBE2W',\n",
       " 'TRIM32']"
      ]
     },
     "execution_count": 18,
     "metadata": {},
     "output_type": "execute_result"
    }
   ],
   "source": [
    "Antigen_processing_proteins"
   ]
  },
  {
   "cell_type": "code",
   "execution_count": null,
   "metadata": {},
   "outputs": [],
   "source": []
  }
 ],
 "metadata": {
  "kernelspec": {
   "display_name": "Python 3",
   "language": "python",
   "name": "python3"
  },
  "language_info": {
   "codemirror_mode": {
    "name": "ipython",
    "version": 3
   },
   "file_extension": ".py",
   "mimetype": "text/x-python",
   "name": "python",
   "nbconvert_exporter": "python",
   "pygments_lexer": "ipython3",
   "version": "3.7.4"
  }
 },
 "nbformat": 4,
 "nbformat_minor": 2
}
