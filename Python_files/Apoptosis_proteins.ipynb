{
 "cells": [
  {
   "cell_type": "code",
   "execution_count": 3,
   "metadata": {},
   "outputs": [],
   "source": [
    "Apoptosis_proteins = open(\"Apoptosis_proteins.txt\")"
   ]
  },
  {
   "cell_type": "code",
   "execution_count": 4,
   "metadata": {},
   "outputs": [
    {
     "name": "stdout",
     "output_type": "stream",
     "text": [
      "{\"attribute\":{\"name\":\"apoptosis\",\"href\":\"/api/1.0/attribute/apoptosis\"},\"dataset\":{\"name\":\"Reactome Pathways\",\"href\":\"/api/1.0/dataset/Reactome+Pathways\"},\"associations\":[{\"gene\":{\"symbol\":\"RIPK1\",\"href\":\"/api/1.0/gene/RIPK1\"},\"thresholdValue\":1.0},{\"gene\":{\"symbol\":\"PSMD6\",\"href\":\"/api/1.0/gene/PSMD6\"},\"thresholdValue\":1.0},{\"gene\":{\"symbol\":\"BAK1\",\"href\":\"/api/1.0/gene/BAK1\"},\"thresholdValue\":1.0},{\"gene\":{\"symbol\":\"CTNNB1\",\"href\":\"/api/1.0/gene/CTNNB1\"},\"thresholdValue\":1.0},{\"gene\":{\"symbol\":\"PSME4\",\"href\":\"/api/1.0/gene/PSME4\"},\"thresholdValue\":1.0},{\"gene\":{\"symbol\":\"OCLN\",\"href\":\"/api/1.0/gene/OCLN\"},\"thresholdValue\":1.0},{\"gene\":{\"symbol\":\"HIST1H1D\",\"href\":\"/api/1.0/gene/HIST1H1D\"},\"thresholdValue\":1.0},{\"gene\":{\"symbol\":\"PSMA4\",\"href\":\"/api/1.0/gene/PSMA4\"},\"thresholdValue\":1.0},{\"gene\":{\"symbol\":\"UBB\",\"href\":\"/api/1.0/gene/UBB\"},\"thresholdValue\":1.0},{\"gene\":{\"symbol\":\"BMX\",\"href\":\"/api/1.0/gene/BMX\"},\"thresholdValue\":1.0},{\"gene\":{\"symbol\":\"LMNA\",\"href\":\"/api/1.0/gene/LMNA\"},\"thresholdValue\":1.0},{\"gene\":{\"symbol\":\"AKT3\",\"href\":\"/api/1.0/gene/AKT3\"},\"thresholdValue\":1.0},{\"gene\":{\"symbol\":\"PSMD10\",\"href\":\"/api/1.0/gene/PSMD10\"},\"thresholdValue\":1.0},{\"gene\":{\"symbol\":\"LMNB1\",\"href\":\"/api/1.0/gene/LMNB1\"},\"thresholdValue\":1.0},{\"gene\":{\"symbol\":\"PTK2\",\"href\":\"/api/1.0/gene/PTK2\"},\"thresholdValue\":1.0},{\"gene\":{\"symbol\":\"HIST1H1E\",\"href\":\"/api/1.0/gene/HIST1H1E\"},\"thresholdValue\":1.0},{\"gene\":{\"symbol\":\"CLSPN\",\"href\":\"/api/1.0/gene/CLSPN\"},\"thresholdValue\":1.0},{\"gene\":{\"symbol\":\"PRKCQ\",\"href\":\"/api/1.0/gene/PRKCQ\"},\"thresholdValue\":1.0},{\"gene\":{\"symbol\":\"PSMB5\",\"href\":\"/api/1.0/gene/PSMB5\"},\"thresholdValue\":1.0},{\"gene\":{\"symbol\":\"DBNL\",\"href\":\"/api/1.0/gene/DBNL\"},\"thresholdValue\":1.0},{\"gene\":{\"symbol\":\"YWHAH\",\"href\":\"/api/1.0/gene/YWHAH\"},\"thresholdValue\":1.0},{\"gene\":{\"symbol\":\"HMGB2\",\"href\":\"/api/1.0/gene/HMGB2\"},\"thresholdValue\":1.0},{\"gene\":{\"symbol\":\"H1F0\",\"href\":\"/api/1.0/gene/H1F0\"},\"thresholdValue\":1.0},{\"gene\":{\"symbol\":\"FADD\",\"href\":\"/api/1.0/gene/FADD\"},\"thresholdValue\":1.0},{\"gene\":{\"symbol\":\"PAK2\",\"href\":\"/api/1.0/gene/PAK2\"},\"thresholdValue\":1.0},{\"gene\":{\"symbol\":\"NMT1\",\"href\":\"/api/1.0/gene/NMT1\"},\"thresholdValue\":1.0},{\"gene\":{\"symbol\":\"TFDP1\",\"href\":\"/api/1.0/gene/TFDP1\"},\"thresholdValue\":1.0},{\"gene\":{\"symbol\":\"CASP6\",\"href\":\"/api/1.0/gene/CASP6\"},\"thresholdValue\":1.0},{\"gene\":{\"symbol\":\"PSMA1\",\"href\":\"/api/1.0/gene/PSMA1\"},\"thresholdValue\":1.0},{\"gene\":{\"symbol\":\"TJP1\",\"href\":\"/api/1.0/gene/TJP1\"},\"thresholdValue\":1.0},{\"gene\":{\"symbol\":\"PSME3\",\"href\":\"/api/1.0/gene/PSME3\"},\"thresholdValue\":1.0},{\"gene\":{\"symbol\":\"MAPT\",\"href\":\"/api/1.0/gene/MAPT\"},\"thresholdValue\":1.0},{\"gene\":{\"symbol\":\"TJP2\",\"href\":\"/api/1.0/gene/TJP2\"},\"thresholdValue\":1.0},{\"gene\":{\"symbol\":\"DSG2\",\"href\":\"/api/1.0/gene/DSG2\"},\"thresholdValue\":1.0},{\"gene\":{\"symbol\":\"PSMA8\",\"href\":\"/api/1.0/gene/PSMA8\"},\"thresholdValue\":1.0},{\"gene\":{\"symbol\":\"STK26\",\"href\":\"/api/1.0/gene/STK26\"},\"thresholdValue\":1.0},{\"gene\":{\"symbol\":\"BCL2\",\"href\":\"/api/1.0/gene/BCL2\"},\"thresholdValue\":1.0},{\"gene\":{\"symbol\":\"DNM1L\",\"href\":\"/api/1.0/gene/DNM1L\"},\"thresholdValue\":1.0},{\"gene\":{\"symbol\":\"PSMB3\",\"href\":\"/api/1.0/gene/PSMB3\"},\"thresholdValue\":1.0},{\"gene\":{\"symbol\":\"DYNLL2\",\"href\":\"/api/1.0/gene/DYNLL2\"},\"thresholdValue\":1.0},{\"gene\":{\"symbol\":\"PSMD1\",\"href\":\"/api/1.0/gene/PSMD1\"},\"thresholdValue\":1.0},{\"gene\":{\"symbol\":\"DFFB\",\"href\":\"/api/1.0/gene/DFFB\"},\"thresholdValue\":1.0},{\"gene\":{\"symbol\":\"PSMA6\",\"href\":\"/api/1.0/gene/PSMA6\"},\"thresholdValue\":1.0},{\"gene\":{\"symbol\":\"PSMA5\",\"href\":\"/api/1.0/gene/PSMA5\"},\"thresholdValue\":1.0},{\"gene\":{\"symbol\":\"DSG1\",\"href\":\"/api/1.0/gene/DSG1\"},\"thresholdValue\":1.0},{\"gene\":{\"symbol\":\"PSMD14\",\"href\":\"/api/1.0/gene/PSMD14\"},\"thresholdValue\":1.0},{\"gene\":{\"symbol\":\"TNFSF10\",\"href\":\"/api/1.0/gene/TNFSF10\"},\"thresholdValue\":1.0},{\"gene\":{\"symbol\":\"PRKCD\",\"href\":\"/api/1.0/gene/PRKCD\"},\"thresholdValue\":1.0},{\"gene\":{\"symbol\":\"TP53\",\"href\":\"/api/1.0/gene/TP53\"},\"thresholdValue\":1.0},{\"gene\":{\"symbol\":\"PSMD7\",\"href\":\"/api/1.0/gene/PSMD7\"},\"thresholdValue\":1.0},{\"gene\":{\"symbol\":\"CASP8\",\"href\":\"/api/1.0/gene/CASP8\"},\"thresholdValue\":1.0},{\"gene\":{\"symbol\":\"GSN\",\"href\":\"/api/1.0/gene/GSN\"},\"thresholdValue\":1.0},{\"gene\":{\"symbol\":\"DYNLL1\",\"href\":\"/api/1.0/gene/DYNLL1\"},\"thresholdValue\":1.0},{\"gene\":{\"symbol\":\"XIAP\",\"href\":\"/api/1.0/gene/XIAP\"},\"thresholdValue\":1.0},{\"gene\":{\"symbol\":\"DSG3\",\"href\":\"/api/1.0/gene/DSG3\"},\"thresholdValue\":1.0},{\"gene\":{\"symbol\":\"PSMC1\",\"href\":\"/api/1.0/gene/PSMC1\"},\"thresholdValue\":1.0},{\"gene\":{\"symbol\":\"PSMF1\",\"href\":\"/api/1.0/gene/PSMF1\"},\"thresholdValue\":1.0},{\"gene\":{\"symbol\":\"CASP9\",\"href\":\"/api/1.0/gene/CASP9\"},\"thresholdValue\":1.0},{\"gene\":{\"symbol\":\"YWHAB\",\"href\":\"/api/1.0/gene/YWHAB\"},\"thresholdValue\":1.0},{\"gene\":{\"symbol\":\"PSME2\",\"href\":\"/api/1.0/gene/PSME2\"},\"thresholdValue\":1.0},{\"gene\":{\"symbol\":\"PSMB1\",\"href\":\"/api/1.0/gene/PSMB1\"},\"thresholdValue\":1.0},{\"gene\":{\"symbol\":\"APAF1\",\"href\":\"/api/1.0/gene/APAF1\"},\"thresholdValue\":1.0},{\"gene\":{\"symbol\":\"RPS27A\",\"href\":\"/api/1.0/gene/RPS27A\"},\"thresholdValue\":1.0},{\"gene\":{\"symbol\":\"PSMD2\",\"href\":\"/api/1.0/gene/PSMD2\"},\"thresholdValue\":1.0},{\"gene\":{\"symbol\":\"PMAIP1\",\"href\":\"/api/1.0/gene/PMAIP1\"},\"thresholdValue\":1.0},{\"gene\":{\"symbol\":\"PSMA3\",\"href\":\"/api/1.0/gene/PSMA3\"},\"thresholdValue\":1.0},{\"gene\":{\"symbol\":\"CASP3\",\"href\":\"/api/1.0/gene/CASP3\"},\"thresholdValue\":1.0},{\"gene\":{\"symbol\":\"HIST1H1A\",\"href\":\"/api/1.0/gene/HIST1H1A\"},\"thresholdValue\":1.0},{\"gene\":{\"symbol\":\"PSMD5\",\"href\":\"/api/1.0/gene/PSMD5\"},\"thresholdValue\":1.0},{\"gene\":{\"symbol\":\"PSMB11\",\"href\":\"/api/1.0/gene/PSMB11\"},\"thresholdValue\":1.0},{\"gene\":{\"symbol\":\"TNFRSF10B\",\"href\":\"/api/1.0/gene/TNFRSF10B\"},\"thresholdValue\":1.0},{\"gene\":{\"symbol\":\"HMGB1\",\"href\":\"/api/1.0/gene/HMGB1\"},\"thresholdValue\":1.0},{\"gene\":{\"symbol\":\"FNTA\",\"href\":\"/api/1.0/gene/FNTA\"},\"thresholdValue\":1.0},{\"gene\":{\"symbol\":\"BAD\",\"href\":\"/api/1.0/gene/BAD\"},\"thresholdValue\":1.0},{\"gene\":{\"symbol\":\"APC\",\"href\":\"/api/1.0/gene/APC\"},\"thresholdValue\":1.0},{\"gene\":{\"symbol\":\"KPNA1\",\"href\":\"/api/1.0/gene/KPNA1\"},\"thresholdValue\":1.0},{\"gene\":{\"symbol\":\"TRAF2\",\"href\":\"/api/1.0/gene/TRAF2\"},\"thresholdValue\":1.0},{\"gene\":{\"symbol\":\"DIABLO\",\"href\":\"/api/1.0/gene/DIABLO\"},\"thresholdValue\":1.0},{\"gene\":{\"symbol\":\"YWHAE\",\"href\":\"/api/1.0/gene/YWHAE\"},\"thresholdValue\":1.0},{\"gene\":{\"symbol\":\"CDH1\",\"href\":\"/api/1.0/gene/CDH1\"},\"thresholdValue\":1.0},{\"gene\":{\"symbol\":\"PSME1\",\"href\":\"/api/1.0/gene/PSME1\"},\"thresholdValue\":1.0},{\"gene\":{\"symbol\":\"PSMD8\",\"href\":\"/api/1.0/gene/PSMD8\"},\"thresholdValue\":1.0},{\"gene\":{\"symbol\":\"ACIN1\",\"href\":\"/api/1.0/gene/ACIN1\"},\"thresholdValue\":1.0},{\"gene\":{\"symbol\":\"PSMD13\",\"href\":\"/api/1.0/gene/PSMD13\"},\"thresholdValue\":1.0},{\"gene\":{\"symbol\":\"PPP3CC\",\"href\":\"/api/1.0/gene/PPP3CC\"},\"thresholdValue\":1.0},{\"gene\":{\"symbol\":\"BAX\",\"href\":\"/api/1.0/gene/BAX\"},\"thresholdValue\":1.0},{\"gene\":{\"symbol\":\"BCL2L1\",\"href\":\"/api/1.0/gene/BCL2L1\"},\"thresholdValue\":1.0},{\"gene\":{\"symbol\":\"ROCK1\",\"href\":\"/api/1.0/gene/ROCK1\"},\"thresholdValue\":1.0},{\"gene\":{\"symbol\":\"PSMB4\",\"href\":\"/api/1.0/gene/PSMB4\"},\"thresholdValue\":1.0},{\"gene\":{\"symbol\":\"HIST1H1C\",\"href\":\"/api/1.0/gene/HIST1H1C\"},\"thresholdValue\":1.0},{\"gene\":{\"symbol\":\"TRADD\",\"href\":\"/api/1.0/gene/TRADD\"},\"thresholdValue\":1.0},{\"gene\":{\"symbol\":\"AKT2\",\"href\":\"/api/1.0/gene/AKT2\"},\"thresholdValue\":1.0},{\"gene\":{\"symbol\":\"FAS\",\"href\":\"/api/1.0/gene/FAS\"},\"thresholdValue\":1.0},{\"gene\":{\"symbol\":\"BCL2L11\",\"href\":\"/api/1.0/gene/BCL2L11\"},\"thresholdValue\":1.0},{\"gene\":{\"symbol\":\"PSMD9\",\"href\":\"/api/1.0/gene/PSMD9\"},\"thresholdValue\":1.0},{\"gene\":{\"symbol\":\"BBC3\",\"href\":\"/api/1.0/gene/BBC3\"},\"thresholdValue\":1.0},{\"gene\":{\"symbol\":\"GAS2\",\"href\":\"/api/1.0/gene/GAS2\"},\"thresholdValue\":1.0},{\"gene\":{\"symbol\":\"AKT1\",\"href\":\"/api/1.0/gene/AKT1\"},\"thresholdValue\":1.0},{\"gene\":{\"symbol\":\"SPTAN1\",\"href\":\"/api/1.0/gene/SPTAN1\"},\"thresholdValue\":1.0},{\"gene\":{\"symbol\":\"PSMC2\",\"href\":\"/api/1.0/gene/PSMC2\"},\"thresholdValue\":1.0},{\"gene\":{\"symbol\":\"HIST1H1B\",\"href\":\"/api/1.0/gene/HIST1H1B\"},\"thresholdValue\":1.0},{\"gene\":{\"symbol\":\"CASP7\",\"href\":\"/api/1.0/gene/CASP7\"},\"thresholdValue\":1.0},{\"gene\":{\"symbol\":\"DSP\",\"href\":\"/api/1.0/gene/DSP\"},\"thresholdValue\":1.0},{\"gene\":{\"symbol\":\"YWHAQ\",\"href\":\"/api/1.0/gene/YWHAQ\"},\"thresholdValue\":1.0},{\"gene\":{\"symbol\":\"YWHAG\",\"href\":\"/api/1.0/gene/YWHAG\"},\"thresholdValue\":1.0},{\"gene\":{\"symbol\":\"PSMD12\",\"href\":\"/api/1.0/gene/PSMD12\"},\"thresholdValue\":1.0},{\"gene\":{\"symbol\":\"PSMA7\",\"href\":\"/api/1.0/gene/PSMA7\"},\"thresholdValue\":1.0},{\"gene\":{\"symbol\":\"PLEC\",\"href\":\"/api/1.0/gene/PLEC\"},\"thresholdValue\":1.0},{\"gene\":{\"symbol\":\"BCAP31\",\"href\":\"/api/1.0/gene/BCAP31\"},\"thresholdValue\":1.0},{\"gene\":{\"symbol\":\"PSMA2\",\"href\":\"/api/1.0/gene/PSMA2\"},\"thresholdValue\":1.0},{\"gene\":{\"symbol\":\"PSMB10\",\"href\":\"/api/1.0/gene/PSMB10\"},\"thresholdValue\":1.0},{\"gene\":{\"symbol\":\"KPNB1\",\"href\":\"/api/1.0/gene/KPNB1\"},\"thresholdValue\":1.0},{\"gene\":{\"symbol\":\"PSMD11\",\"href\":\"/api/1.0/gene/PSMD11\"},\"thresholdValue\":1.0},{\"gene\":{\"symbol\":\"SFN\",\"href\":\"/api/1.0/gene/SFN\"},\"thresholdValue\":1.0},{\"gene\":{\"symbol\":\"PSMB8\",\"href\":\"/api/1.0/gene/PSMB8\"},\"thresholdValue\":1.0},{\"gene\":{\"symbol\":\"PSMC5\",\"href\":\"/api/1.0/gene/PSMC5\"},\"thresholdValue\":1.0},{\"gene\":{\"symbol\":\"PSMB6\",\"href\":\"/api/1.0/gene/PSMB6\"},\"thresholdValue\":1.0},{\"gene\":{\"symbol\":\"MAPK8\",\"href\":\"/api/1.0/gene/MAPK8\"},\"thresholdValue\":1.0},{\"gene\":{\"symbol\":\"PPP3R1\",\"href\":\"/api/1.0/gene/PPP3R1\"},\"thresholdValue\":1.0},{\"gene\":{\"symbol\":\"PSMD3\",\"href\":\"/api/1.0/gene/PSMD3\"},\"thresholdValue\":1.0},{\"gene\":{\"symbol\":\"UBA52\",\"href\":\"/api/1.0/gene/UBA52\"},\"thresholdValue\":1.0},{\"gene\":{\"symbol\":\"TNFRSF10A\",\"href\":\"/api/1.0/gene/TNFRSF10A\"},\"thresholdValue\":1.0},{\"gene\":{\"symbol\":\"GZMB\",\"href\":\"/api/1.0/gene/GZMB\"},\"thresholdValue\":1.0},{\"gene\":{\"symbol\":\"ARHGAP10\",\"href\":\"/api/1.0/gene/ARHGAP10\"},\"thresholdValue\":1.0},{\"gene\":{\"symbol\":\"STK24\",\"href\":\"/api/1.0/gene/STK24\"},\"thresholdValue\":1.0},{\"gene\":{\"symbol\":\"CFLAR\",\"href\":\"/api/1.0/gene/CFLAR\"},\"thresholdValue\":1.0},{\"gene\":{\"symbol\":\"BID\",\"href\":\"/api/1.0/gene/BID\"},\"thresholdValue\":1.0},{\"gene\":{\"symbol\":\"PSMB2\",\"href\":\"/api/1.0/gene/PSMB2\"},\"thresholdValue\":1.0},{\"gene\":{\"symbol\":\"BMF\",\"href\":\"/api/1.0/gene/BMF\"},\"thresholdValue\":1.0},{\"gene\":{\"symbol\":\"PKP1\",\"href\":\"/api/1.0/gene/PKP1\"},\"thresholdValue\":1.0},{\"gene\":{\"symbol\":\"PSMB7\",\"href\":\"/api/1.0/gene/PSMB7\"},\"thresholdValue\":1.0},{\"gene\":{\"symbol\":\"PSMD4\",\"href\":\"/api/1.0/gene/PSMD4\"},\"thresholdValue\":1.0},{\"gene\":{\"symbol\":\"BIRC2\",\"href\":\"/api/1.0/gene/BIRC2\"},\"thresholdValue\":1.0},{\"gene\":{\"symbol\":\"UBC\",\"href\":\"/api/1.0/gene/UBC\"},\"thresholdValue\":1.0},{\"gene\":{\"symbol\":\"FASLG\",\"href\":\"/api/1.0/gene/FASLG\"},\"thresholdValue\":1.0},{\"gene\":{\"symbol\":\"CYCS\",\"href\":\"/api/1.0/gene/CYCS\"},\"thresholdValue\":1.0},{\"gene\":{\"symbol\":\"YWHAZ\",\"href\":\"/api/1.0/gene/YWHAZ\"},\"thresholdValue\":1.0},{\"gene\":{\"symbol\":\"PSMC4\",\"href\":\"/api/1.0/gene/PSMC4\"},\"thresholdValue\":1.0},{\"gene\":{\"symbol\":\"SATB1\",\"href\":\"/api/1.0/gene/SATB1\"},\"thresholdValue\":1.0},{\"gene\":{\"symbol\":\"PSMC3\",\"href\":\"/api/1.0/gene/PSMC3\"},\"thresholdValue\":1.0},{\"gene\":{\"symbol\":\"PSMB9\",\"href\":\"/api/1.0/gene/PSMB9\"},\"thresholdValue\":1.0},{\"gene\":{\"symbol\":\"PSMC6\",\"href\":\"/api/1.0/gene/PSMC6\"},\"thresholdValue\":1.0},{\"gene\":{\"symbol\":\"ADD1\",\"href\":\"/api/1.0/gene/ADD1\"},\"thresholdValue\":1.0},{\"gene\":{\"symbol\":\"E2F1\",\"href\":\"/api/1.0/gene/E2F1\"},\"thresholdValue\":1.0},{\"gene\":{\"symbol\":\"VIM\",\"href\":\"/api/1.0/gene/VIM\"},\"thresholdValue\":1.0},{\"gene\":{\"symbol\":\"DFFA\",\"href\":\"/api/1.0/gene/DFFA\"},\"thresholdValue\":1.0}]}\n",
      "\n"
     ]
    }
   ],
   "source": [
    "print(Apoptosis_proteins.read())"
   ]
  },
  {
   "cell_type": "code",
   "execution_count": 6,
   "metadata": {},
   "outputs": [],
   "source": [
    "import re\n",
    "Apoptosis_proteins_raw = re.findall(r':.\\w+.,','{\"attribute\":{\"name\":\"apoptosis\",\"href\":\"/api/1.0/attribute/apoptosis\"},\"dataset\":{\"name\":\"Reactome Pathways\",\"href\":\"/api/1.0/dataset/Reactome+Pathways\"},\"associations\":[{\"gene\":{\"symbol\":\"RIPK1\",\"href\":\"/api/1.0/gene/RIPK1\"},\"thresholdValue\":1.0},{\"gene\":{\"symbol\":\"PSMD6\",\"href\":\"/api/1.0/gene/PSMD6\"},\"thresholdValue\":1.0},{\"gene\":{\"symbol\":\"BAK1\",\"href\":\"/api/1.0/gene/BAK1\"},\"thresholdValue\":1.0},{\"gene\":{\"symbol\":\"CTNNB1\",\"href\":\"/api/1.0/gene/CTNNB1\"},\"thresholdValue\":1.0},{\"gene\":{\"symbol\":\"PSME4\",\"href\":\"/api/1.0/gene/PSME4\"},\"thresholdValue\":1.0},{\"gene\":{\"symbol\":\"OCLN\",\"href\":\"/api/1.0/gene/OCLN\"},\"thresholdValue\":1.0},{\"gene\":{\"symbol\":\"HIST1H1D\",\"href\":\"/api/1.0/gene/HIST1H1D\"},\"thresholdValue\":1.0},{\"gene\":{\"symbol\":\"PSMA4\",\"href\":\"/api/1.0/gene/PSMA4\"},\"thresholdValue\":1.0},{\"gene\":{\"symbol\":\"UBB\",\"href\":\"/api/1.0/gene/UBB\"},\"thresholdValue\":1.0},{\"gene\":{\"symbol\":\"BMX\",\"href\":\"/api/1.0/gene/BMX\"},\"thresholdValue\":1.0},{\"gene\":{\"symbol\":\"LMNA\",\"href\":\"/api/1.0/gene/LMNA\"},\"thresholdValue\":1.0},{\"gene\":{\"symbol\":\"AKT3\",\"href\":\"/api/1.0/gene/AKT3\"},\"thresholdValue\":1.0},{\"gene\":{\"symbol\":\"PSMD10\",\"href\":\"/api/1.0/gene/PSMD10\"},\"thresholdValue\":1.0},{\"gene\":{\"symbol\":\"LMNB1\",\"href\":\"/api/1.0/gene/LMNB1\"},\"thresholdValue\":1.0},{\"gene\":{\"symbol\":\"PTK2\",\"href\":\"/api/1.0/gene/PTK2\"},\"thresholdValue\":1.0},{\"gene\":{\"symbol\":\"HIST1H1E\",\"href\":\"/api/1.0/gene/HIST1H1E\"},\"thresholdValue\":1.0},{\"gene\":{\"symbol\":\"CLSPN\",\"href\":\"/api/1.0/gene/CLSPN\"},\"thresholdValue\":1.0},{\"gene\":{\"symbol\":\"PRKCQ\",\"href\":\"/api/1.0/gene/PRKCQ\"},\"thresholdValue\":1.0},{\"gene\":{\"symbol\":\"PSMB5\",\"href\":\"/api/1.0/gene/PSMB5\"},\"thresholdValue\":1.0},{\"gene\":{\"symbol\":\"DBNL\",\"href\":\"/api/1.0/gene/DBNL\"},\"thresholdValue\":1.0},{\"gene\":{\"symbol\":\"YWHAH\",\"href\":\"/api/1.0/gene/YWHAH\"},\"thresholdValue\":1.0},{\"gene\":{\"symbol\":\"HMGB2\",\"href\":\"/api/1.0/gene/HMGB2\"},\"thresholdValue\":1.0},{\"gene\":{\"symbol\":\"H1F0\",\"href\":\"/api/1.0/gene/H1F0\"},\"thresholdValue\":1.0},{\"gene\":{\"symbol\":\"FADD\",\"href\":\"/api/1.0/gene/FADD\"},\"thresholdValue\":1.0},{\"gene\":{\"symbol\":\"PAK2\",\"href\":\"/api/1.0/gene/PAK2\"},\"thresholdValue\":1.0},{\"gene\":{\"symbol\":\"NMT1\",\"href\":\"/api/1.0/gene/NMT1\"},\"thresholdValue\":1.0},{\"gene\":{\"symbol\":\"TFDP1\",\"href\":\"/api/1.0/gene/TFDP1\"},\"thresholdValue\":1.0},{\"gene\":{\"symbol\":\"CASP6\",\"href\":\"/api/1.0/gene/CASP6\"},\"thresholdValue\":1.0},{\"gene\":{\"symbol\":\"PSMA1\",\"href\":\"/api/1.0/gene/PSMA1\"},\"thresholdValue\":1.0},{\"gene\":{\"symbol\":\"TJP1\",\"href\":\"/api/1.0/gene/TJP1\"},\"thresholdValue\":1.0},{\"gene\":{\"symbol\":\"PSME3\",\"href\":\"/api/1.0/gene/PSME3\"},\"thresholdValue\":1.0},{\"gene\":{\"symbol\":\"MAPT\",\"href\":\"/api/1.0/gene/MAPT\"},\"thresholdValue\":1.0},{\"gene\":{\"symbol\":\"TJP2\",\"href\":\"/api/1.0/gene/TJP2\"},\"thresholdValue\":1.0},{\"gene\":{\"symbol\":\"DSG2\",\"href\":\"/api/1.0/gene/DSG2\"},\"thresholdValue\":1.0},{\"gene\":{\"symbol\":\"PSMA8\",\"href\":\"/api/1.0/gene/PSMA8\"},\"thresholdValue\":1.0},{\"gene\":{\"symbol\":\"STK26\",\"href\":\"/api/1.0/gene/STK26\"},\"thresholdValue\":1.0},{\"gene\":{\"symbol\":\"BCL2\",\"href\":\"/api/1.0/gene/BCL2\"},\"thresholdValue\":1.0},{\"gene\":{\"symbol\":\"DNM1L\",\"href\":\"/api/1.0/gene/DNM1L\"},\"thresholdValue\":1.0},{\"gene\":{\"symbol\":\"PSMB3\",\"href\":\"/api/1.0/gene/PSMB3\"},\"thresholdValue\":1.0},{\"gene\":{\"symbol\":\"DYNLL2\",\"href\":\"/api/1.0/gene/DYNLL2\"},\"thresholdValue\":1.0},{\"gene\":{\"symbol\":\"PSMD1\",\"href\":\"/api/1.0/gene/PSMD1\"},\"thresholdValue\":1.0},{\"gene\":{\"symbol\":\"DFFB\",\"href\":\"/api/1.0/gene/DFFB\"},\"thresholdValue\":1.0},{\"gene\":{\"symbol\":\"PSMA6\",\"href\":\"/api/1.0/gene/PSMA6\"},\"thresholdValue\":1.0},{\"gene\":{\"symbol\":\"PSMA5\",\"href\":\"/api/1.0/gene/PSMA5\"},\"thresholdValue\":1.0},{\"gene\":{\"symbol\":\"DSG1\",\"href\":\"/api/1.0/gene/DSG1\"},\"thresholdValue\":1.0},{\"gene\":{\"symbol\":\"PSMD14\",\"href\":\"/api/1.0/gene/PSMD14\"},\"thresholdValue\":1.0},{\"gene\":{\"symbol\":\"TNFSF10\",\"href\":\"/api/1.0/gene/TNFSF10\"},\"thresholdValue\":1.0},{\"gene\":{\"symbol\":\"PRKCD\",\"href\":\"/api/1.0/gene/PRKCD\"},\"thresholdValue\":1.0},{\"gene\":{\"symbol\":\"TP53\",\"href\":\"/api/1.0/gene/TP53\"},\"thresholdValue\":1.0},{\"gene\":{\"symbol\":\"PSMD7\",\"href\":\"/api/1.0/gene/PSMD7\"},\"thresholdValue\":1.0},{\"gene\":{\"symbol\":\"CASP8\",\"href\":\"/api/1.0/gene/CASP8\"},\"thresholdValue\":1.0},{\"gene\":{\"symbol\":\"GSN\",\"href\":\"/api/1.0/gene/GSN\"},\"thresholdValue\":1.0},{\"gene\":{\"symbol\":\"DYNLL1\",\"href\":\"/api/1.0/gene/DYNLL1\"},\"thresholdValue\":1.0},{\"gene\":{\"symbol\":\"XIAP\",\"href\":\"/api/1.0/gene/XIAP\"},\"thresholdValue\":1.0},{\"gene\":{\"symbol\":\"DSG3\",\"href\":\"/api/1.0/gene/DSG3\"},\"thresholdValue\":1.0},{\"gene\":{\"symbol\":\"PSMC1\",\"href\":\"/api/1.0/gene/PSMC1\"},\"thresholdValue\":1.0},{\"gene\":{\"symbol\":\"PSMF1\",\"href\":\"/api/1.0/gene/PSMF1\"},\"thresholdValue\":1.0},{\"gene\":{\"symbol\":\"CASP9\",\"href\":\"/api/1.0/gene/CASP9\"},\"thresholdValue\":1.0},{\"gene\":{\"symbol\":\"YWHAB\",\"href\":\"/api/1.0/gene/YWHAB\"},\"thresholdValue\":1.0},{\"gene\":{\"symbol\":\"PSME2\",\"href\":\"/api/1.0/gene/PSME2\"},\"thresholdValue\":1.0},{\"gene\":{\"symbol\":\"PSMB1\",\"href\":\"/api/1.0/gene/PSMB1\"},\"thresholdValue\":1.0},{\"gene\":{\"symbol\":\"APAF1\",\"href\":\"/api/1.0/gene/APAF1\"},\"thresholdValue\":1.0},{\"gene\":{\"symbol\":\"RPS27A\",\"href\":\"/api/1.0/gene/RPS27A\"},\"thresholdValue\":1.0},{\"gene\":{\"symbol\":\"PSMD2\",\"href\":\"/api/1.0/gene/PSMD2\"},\"thresholdValue\":1.0},{\"gene\":{\"symbol\":\"PMAIP1\",\"href\":\"/api/1.0/gene/PMAIP1\"},\"thresholdValue\":1.0},{\"gene\":{\"symbol\":\"PSMA3\",\"href\":\"/api/1.0/gene/PSMA3\"},\"thresholdValue\":1.0},{\"gene\":{\"symbol\":\"CASP3\",\"href\":\"/api/1.0/gene/CASP3\"},\"thresholdValue\":1.0},{\"gene\":{\"symbol\":\"HIST1H1A\",\"href\":\"/api/1.0/gene/HIST1H1A\"},\"thresholdValue\":1.0},{\"gene\":{\"symbol\":\"PSMD5\",\"href\":\"/api/1.0/gene/PSMD5\"},\"thresholdValue\":1.0},{\"gene\":{\"symbol\":\"PSMB11\",\"href\":\"/api/1.0/gene/PSMB11\"},\"thresholdValue\":1.0},{\"gene\":{\"symbol\":\"TNFRSF10B\",\"href\":\"/api/1.0/gene/TNFRSF10B\"},\"thresholdValue\":1.0},{\"gene\":{\"symbol\":\"HMGB1\",\"href\":\"/api/1.0/gene/HMGB1\"},\"thresholdValue\":1.0},{\"gene\":{\"symbol\":\"FNTA\",\"href\":\"/api/1.0/gene/FNTA\"},\"thresholdValue\":1.0},{\"gene\":{\"symbol\":\"BAD\",\"href\":\"/api/1.0/gene/BAD\"},\"thresholdValue\":1.0},{\"gene\":{\"symbol\":\"APC\",\"href\":\"/api/1.0/gene/APC\"},\"thresholdValue\":1.0},{\"gene\":{\"symbol\":\"KPNA1\",\"href\":\"/api/1.0/gene/KPNA1\"},\"thresholdValue\":1.0},{\"gene\":{\"symbol\":\"TRAF2\",\"href\":\"/api/1.0/gene/TRAF2\"},\"thresholdValue\":1.0},{\"gene\":{\"symbol\":\"DIABLO\",\"href\":\"/api/1.0/gene/DIABLO\"},\"thresholdValue\":1.0},{\"gene\":{\"symbol\":\"YWHAE\",\"href\":\"/api/1.0/gene/YWHAE\"},\"thresholdValue\":1.0},{\"gene\":{\"symbol\":\"CDH1\",\"href\":\"/api/1.0/gene/CDH1\"},\"thresholdValue\":1.0},{\"gene\":{\"symbol\":\"PSME1\",\"href\":\"/api/1.0/gene/PSME1\"},\"thresholdValue\":1.0},{\"gene\":{\"symbol\":\"PSMD8\",\"href\":\"/api/1.0/gene/PSMD8\"},\"thresholdValue\":1.0},{\"gene\":{\"symbol\":\"ACIN1\",\"href\":\"/api/1.0/gene/ACIN1\"},\"thresholdValue\":1.0},{\"gene\":{\"symbol\":\"PSMD13\",\"href\":\"/api/1.0/gene/PSMD13\"},\"thresholdValue\":1.0},{\"gene\":{\"symbol\":\"PPP3CC\",\"href\":\"/api/1.0/gene/PPP3CC\"},\"thresholdValue\":1.0},{\"gene\":{\"symbol\":\"BAX\",\"href\":\"/api/1.0/gene/BAX\"},\"thresholdValue\":1.0},{\"gene\":{\"symbol\":\"BCL2L1\",\"href\":\"/api/1.0/gene/BCL2L1\"},\"thresholdValue\":1.0},{\"gene\":{\"symbol\":\"ROCK1\",\"href\":\"/api/1.0/gene/ROCK1\"},\"thresholdValue\":1.0},{\"gene\":{\"symbol\":\"PSMB4\",\"href\":\"/api/1.0/gene/PSMB4\"},\"thresholdValue\":1.0},{\"gene\":{\"symbol\":\"HIST1H1C\",\"href\":\"/api/1.0/gene/HIST1H1C\"},\"thresholdValue\":1.0},{\"gene\":{\"symbol\":\"TRADD\",\"href\":\"/api/1.0/gene/TRADD\"},\"thresholdValue\":1.0},{\"gene\":{\"symbol\":\"AKT2\",\"href\":\"/api/1.0/gene/AKT2\"},\"thresholdValue\":1.0},{\"gene\":{\"symbol\":\"FAS\",\"href\":\"/api/1.0/gene/FAS\"},\"thresholdValue\":1.0},{\"gene\":{\"symbol\":\"BCL2L11\",\"href\":\"/api/1.0/gene/BCL2L11\"},\"thresholdValue\":1.0},{\"gene\":{\"symbol\":\"PSMD9\",\"href\":\"/api/1.0/gene/PSMD9\"},\"thresholdValue\":1.0},{\"gene\":{\"symbol\":\"BBC3\",\"href\":\"/api/1.0/gene/BBC3\"},\"thresholdValue\":1.0},{\"gene\":{\"symbol\":\"GAS2\",\"href\":\"/api/1.0/gene/GAS2\"},\"thresholdValue\":1.0},{\"gene\":{\"symbol\":\"AKT1\",\"href\":\"/api/1.0/gene/AKT1\"},\"thresholdValue\":1.0},{\"gene\":{\"symbol\":\"SPTAN1\",\"href\":\"/api/1.0/gene/SPTAN1\"},\"thresholdValue\":1.0},{\"gene\":{\"symbol\":\"PSMC2\",\"href\":\"/api/1.0/gene/PSMC2\"},\"thresholdValue\":1.0},{\"gene\":{\"symbol\":\"HIST1H1B\",\"href\":\"/api/1.0/gene/HIST1H1B\"},\"thresholdValue\":1.0},{\"gene\":{\"symbol\":\"CASP7\",\"href\":\"/api/1.0/gene/CASP7\"},\"thresholdValue\":1.0},{\"gene\":{\"symbol\":\"DSP\",\"href\":\"/api/1.0/gene/DSP\"},\"thresholdValue\":1.0},{\"gene\":{\"symbol\":\"YWHAQ\",\"href\":\"/api/1.0/gene/YWHAQ\"},\"thresholdValue\":1.0},{\"gene\":{\"symbol\":\"YWHAG\",\"href\":\"/api/1.0/gene/YWHAG\"},\"thresholdValue\":1.0},{\"gene\":{\"symbol\":\"PSMD12\",\"href\":\"/api/1.0/gene/PSMD12\"},\"thresholdValue\":1.0},{\"gene\":{\"symbol\":\"PSMA7\",\"href\":\"/api/1.0/gene/PSMA7\"},\"thresholdValue\":1.0},{\"gene\":{\"symbol\":\"PLEC\",\"href\":\"/api/1.0/gene/PLEC\"},\"thresholdValue\":1.0},{\"gene\":{\"symbol\":\"BCAP31\",\"href\":\"/api/1.0/gene/BCAP31\"},\"thresholdValue\":1.0},{\"gene\":{\"symbol\":\"PSMA2\",\"href\":\"/api/1.0/gene/PSMA2\"},\"thresholdValue\":1.0},{\"gene\":{\"symbol\":\"PSMB10\",\"href\":\"/api/1.0/gene/PSMB10\"},\"thresholdValue\":1.0},{\"gene\":{\"symbol\":\"KPNB1\",\"href\":\"/api/1.0/gene/KPNB1\"},\"thresholdValue\":1.0},{\"gene\":{\"symbol\":\"PSMD11\",\"href\":\"/api/1.0/gene/PSMD11\"},\"thresholdValue\":1.0},{\"gene\":{\"symbol\":\"SFN\",\"href\":\"/api/1.0/gene/SFN\"},\"thresholdValue\":1.0},{\"gene\":{\"symbol\":\"PSMB8\",\"href\":\"/api/1.0/gene/PSMB8\"},\"thresholdValue\":1.0},{\"gene\":{\"symbol\":\"PSMC5\",\"href\":\"/api/1.0/gene/PSMC5\"},\"thresholdValue\":1.0},{\"gene\":{\"symbol\":\"PSMB6\",\"href\":\"/api/1.0/gene/PSMB6\"},\"thresholdValue\":1.0},{\"gene\":{\"symbol\":\"MAPK8\",\"href\":\"/api/1.0/gene/MAPK8\"},\"thresholdValue\":1.0},{\"gene\":{\"symbol\":\"PPP3R1\",\"href\":\"/api/1.0/gene/PPP3R1\"},\"thresholdValue\":1.0},{\"gene\":{\"symbol\":\"PSMD3\",\"href\":\"/api/1.0/gene/PSMD3\"},\"thresholdValue\":1.0},{\"gene\":{\"symbol\":\"UBA52\",\"href\":\"/api/1.0/gene/UBA52\"},\"thresholdValue\":1.0},{\"gene\":{\"symbol\":\"TNFRSF10A\",\"href\":\"/api/1.0/gene/TNFRSF10A\"},\"thresholdValue\":1.0},{\"gene\":{\"symbol\":\"GZMB\",\"href\":\"/api/1.0/gene/GZMB\"},\"thresholdValue\":1.0},{\"gene\":{\"symbol\":\"ARHGAP10\",\"href\":\"/api/1.0/gene/ARHGAP10\"},\"thresholdValue\":1.0},{\"gene\":{\"symbol\":\"STK24\",\"href\":\"/api/1.0/gene/STK24\"},\"thresholdValue\":1.0},{\"gene\":{\"symbol\":\"CFLAR\",\"href\":\"/api/1.0/gene/CFLAR\"},\"thresholdValue\":1.0},{\"gene\":{\"symbol\":\"BID\",\"href\":\"/api/1.0/gene/BID\"},\"thresholdValue\":1.0},{\"gene\":{\"symbol\":\"PSMB2\",\"href\":\"/api/1.0/gene/PSMB2\"},\"thresholdValue\":1.0},{\"gene\":{\"symbol\":\"BMF\",\"href\":\"/api/1.0/gene/BMF\"},\"thresholdValue\":1.0},{\"gene\":{\"symbol\":\"PKP1\",\"href\":\"/api/1.0/gene/PKP1\"},\"thresholdValue\":1.0},{\"gene\":{\"symbol\":\"PSMB7\",\"href\":\"/api/1.0/gene/PSMB7\"},\"thresholdValue\":1.0},{\"gene\":{\"symbol\":\"PSMD4\",\"href\":\"/api/1.0/gene/PSMD4\"},\"thresholdValue\":1.0},{\"gene\":{\"symbol\":\"BIRC2\",\"href\":\"/api/1.0/gene/BIRC2\"},\"thresholdValue\":1.0},{\"gene\":{\"symbol\":\"UBC\",\"href\":\"/api/1.0/gene/UBC\"},\"thresholdValue\":1.0},{\"gene\":{\"symbol\":\"FASLG\",\"href\":\"/api/1.0/gene/FASLG\"},\"thresholdValue\":1.0},{\"gene\":{\"symbol\":\"CYCS\",\"href\":\"/api/1.0/gene/CYCS\"},\"thresholdValue\":1.0},{\"gene\":{\"symbol\":\"YWHAZ\",\"href\":\"/api/1.0/gene/YWHAZ\"},\"thresholdValue\":1.0},{\"gene\":{\"symbol\":\"PSMC4\",\"href\":\"/api/1.0/gene/PSMC4\"},\"thresholdValue\":1.0},{\"gene\":{\"symbol\":\"SATB1\",\"href\":\"/api/1.0/gene/SATB1\"},\"thresholdValue\":1.0},{\"gene\":{\"symbol\":\"PSMC3\",\"href\":\"/api/1.0/gene/PSMC3\"},\"thresholdValue\":1.0},{\"gene\":{\"symbol\":\"PSMB9\",\"href\":\"/api/1.0/gene/PSMB9\"},\"thresholdValue\":1.0},{\"gene\":{\"symbol\":\"PSMC6\",\"href\":\"/api/1.0/gene/PSMC6\"},\"thresholdValue\":1.0},{\"gene\":{\"symbol\":\"ADD1\",\"href\":\"/api/1.0/gene/ADD1\"},\"thresholdValue\":1.0},{\"gene\":{\"symbol\":\"E2F1\",\"href\":\"/api/1.0/gene/E2F1\"},\"thresholdValue\":1.0},{\"gene\":{\"symbol\":\"VIM\",\"href\":\"/api/1.0/gene/VIM\"},\"thresholdValue\":1.0},{\"gene\":{\"symbol\":\"DFFA\",\"href\":\"/api/1.0/gene/DFFA\"},\"thresholdValue\":1.0}]}')"
   ]
  },
  {
   "cell_type": "code",
   "execution_count": 7,
   "metadata": {},
   "outputs": [],
   "source": [
    "listToStr = ' '.join([str(elem) for elem in Apoptosis_proteins_raw])"
   ]
  },
  {
   "cell_type": "code",
   "execution_count": 8,
   "metadata": {},
   "outputs": [
    {
     "name": "stdout",
     "output_type": "stream",
     "text": [
      ":\"apoptosis\", :\"RIPK1\", :\"PSMD6\", :\"BAK1\", :\"CTNNB1\", :\"PSME4\", :\"OCLN\", :\"HIST1H1D\", :\"PSMA4\", :\"UBB\", :\"BMX\", :\"LMNA\", :\"AKT3\", :\"PSMD10\", :\"LMNB1\", :\"PTK2\", :\"HIST1H1E\", :\"CLSPN\", :\"PRKCQ\", :\"PSMB5\", :\"DBNL\", :\"YWHAH\", :\"HMGB2\", :\"H1F0\", :\"FADD\", :\"PAK2\", :\"NMT1\", :\"TFDP1\", :\"CASP6\", :\"PSMA1\", :\"TJP1\", :\"PSME3\", :\"MAPT\", :\"TJP2\", :\"DSG2\", :\"PSMA8\", :\"STK26\", :\"BCL2\", :\"DNM1L\", :\"PSMB3\", :\"DYNLL2\", :\"PSMD1\", :\"DFFB\", :\"PSMA6\", :\"PSMA5\", :\"DSG1\", :\"PSMD14\", :\"TNFSF10\", :\"PRKCD\", :\"TP53\", :\"PSMD7\", :\"CASP8\", :\"GSN\", :\"DYNLL1\", :\"XIAP\", :\"DSG3\", :\"PSMC1\", :\"PSMF1\", :\"CASP9\", :\"YWHAB\", :\"PSME2\", :\"PSMB1\", :\"APAF1\", :\"RPS27A\", :\"PSMD2\", :\"PMAIP1\", :\"PSMA3\", :\"CASP3\", :\"HIST1H1A\", :\"PSMD5\", :\"PSMB11\", :\"TNFRSF10B\", :\"HMGB1\", :\"FNTA\", :\"BAD\", :\"APC\", :\"KPNA1\", :\"TRAF2\", :\"DIABLO\", :\"YWHAE\", :\"CDH1\", :\"PSME1\", :\"PSMD8\", :\"ACIN1\", :\"PSMD13\", :\"PPP3CC\", :\"BAX\", :\"BCL2L1\", :\"ROCK1\", :\"PSMB4\", :\"HIST1H1C\", :\"TRADD\", :\"AKT2\", :\"FAS\", :\"BCL2L11\", :\"PSMD9\", :\"BBC3\", :\"GAS2\", :\"AKT1\", :\"SPTAN1\", :\"PSMC2\", :\"HIST1H1B\", :\"CASP7\", :\"DSP\", :\"YWHAQ\", :\"YWHAG\", :\"PSMD12\", :\"PSMA7\", :\"PLEC\", :\"BCAP31\", :\"PSMA2\", :\"PSMB10\", :\"KPNB1\", :\"PSMD11\", :\"SFN\", :\"PSMB8\", :\"PSMC5\", :\"PSMB6\", :\"MAPK8\", :\"PPP3R1\", :\"PSMD3\", :\"UBA52\", :\"TNFRSF10A\", :\"GZMB\", :\"ARHGAP10\", :\"STK24\", :\"CFLAR\", :\"BID\", :\"PSMB2\", :\"BMF\", :\"PKP1\", :\"PSMB7\", :\"PSMD4\", :\"BIRC2\", :\"UBC\", :\"FASLG\", :\"CYCS\", :\"YWHAZ\", :\"PSMC4\", :\"SATB1\", :\"PSMC3\", :\"PSMB9\", :\"PSMC6\", :\"ADD1\", :\"E2F1\", :\"VIM\", :\"DFFA\",\n"
     ]
    }
   ],
   "source": [
    "print(listToStr)"
   ]
  },
  {
   "cell_type": "code",
   "execution_count": 9,
   "metadata": {},
   "outputs": [],
   "source": [
    "Apoptosis_proteins = re.findall(r'\\w+',':\"apoptosis\", :\"RIPK1\", :\"PSMD6\", :\"BAK1\", :\"CTNNB1\", :\"PSME4\", :\"OCLN\", :\"HIST1H1D\", :\"PSMA4\", :\"UBB\", :\"BMX\", :\"LMNA\", :\"AKT3\", :\"PSMD10\", :\"LMNB1\", :\"PTK2\", :\"HIST1H1E\", :\"CLSPN\", :\"PRKCQ\", :\"PSMB5\", :\"DBNL\", :\"YWHAH\", :\"HMGB2\", :\"H1F0\", :\"FADD\", :\"PAK2\", :\"NMT1\", :\"TFDP1\", :\"CASP6\", :\"PSMA1\", :\"TJP1\", :\"PSME3\", :\"MAPT\", :\"TJP2\", :\"DSG2\", :\"PSMA8\", :\"STK26\", :\"BCL2\", :\"DNM1L\", :\"PSMB3\", :\"DYNLL2\", :\"PSMD1\", :\"DFFB\", :\"PSMA6\", :\"PSMA5\", :\"DSG1\", :\"PSMD14\", :\"TNFSF10\", :\"PRKCD\", :\"TP53\", :\"PSMD7\", :\"CASP8\", :\"GSN\", :\"DYNLL1\", :\"XIAP\", :\"DSG3\", :\"PSMC1\", :\"PSMF1\", :\"CASP9\", :\"YWHAB\", :\"PSME2\", :\"PSMB1\", :\"APAF1\", :\"RPS27A\", :\"PSMD2\", :\"PMAIP1\", :\"PSMA3\", :\"CASP3\", :\"HIST1H1A\", :\"PSMD5\", :\"PSMB11\", :\"TNFRSF10B\", :\"HMGB1\", :\"FNTA\", :\"BAD\", :\"APC\", :\"KPNA1\", :\"TRAF2\", :\"DIABLO\", :\"YWHAE\", :\"CDH1\", :\"PSME1\", :\"PSMD8\", :\"ACIN1\", :\"PSMD13\", :\"PPP3CC\", :\"BAX\", :\"BCL2L1\", :\"ROCK1\", :\"PSMB4\", :\"HIST1H1C\", :\"TRADD\", :\"AKT2\", :\"FAS\", :\"BCL2L11\", :\"PSMD9\", :\"BBC3\", :\"GAS2\", :\"AKT1\", :\"SPTAN1\", :\"PSMC2\", :\"HIST1H1B\", :\"CASP7\", :\"DSP\", :\"YWHAQ\", :\"YWHAG\", :\"PSMD12\", :\"PSMA7\", :\"PLEC\", :\"BCAP31\", :\"PSMA2\", :\"PSMB10\", :\"KPNB1\", :\"PSMD11\", :\"SFN\", :\"PSMB8\", :\"PSMC5\", :\"PSMB6\", :\"MAPK8\", :\"PPP3R1\", :\"PSMD3\", :\"UBA52\", :\"TNFRSF10A\", :\"GZMB\", :\"ARHGAP10\", :\"STK24\", :\"CFLAR\", :\"BID\", :\"PSMB2\", :\"BMF\", :\"PKP1\", :\"PSMB7\", :\"PSMD4\", :\"BIRC2\", :\"UBC\", :\"FASLG\", :\"CYCS\", :\"YWHAZ\", :\"PSMC4\", :\"SATB1\", :\"PSMC3\", :\"PSMB9\", :\"PSMC6\", :\"ADD1\", :\"E2F1\", :\"VIM\", :\"DFFA\",')"
   ]
  },
  {
   "cell_type": "code",
   "execution_count": 10,
   "metadata": {},
   "outputs": [
    {
     "data": {
      "text/plain": [
       "['apoptosis',\n",
       " 'RIPK1',\n",
       " 'PSMD6',\n",
       " 'BAK1',\n",
       " 'CTNNB1',\n",
       " 'PSME4',\n",
       " 'OCLN',\n",
       " 'HIST1H1D',\n",
       " 'PSMA4',\n",
       " 'UBB',\n",
       " 'BMX',\n",
       " 'LMNA',\n",
       " 'AKT3',\n",
       " 'PSMD10',\n",
       " 'LMNB1',\n",
       " 'PTK2',\n",
       " 'HIST1H1E',\n",
       " 'CLSPN',\n",
       " 'PRKCQ',\n",
       " 'PSMB5',\n",
       " 'DBNL',\n",
       " 'YWHAH',\n",
       " 'HMGB2',\n",
       " 'H1F0',\n",
       " 'FADD',\n",
       " 'PAK2',\n",
       " 'NMT1',\n",
       " 'TFDP1',\n",
       " 'CASP6',\n",
       " 'PSMA1',\n",
       " 'TJP1',\n",
       " 'PSME3',\n",
       " 'MAPT',\n",
       " 'TJP2',\n",
       " 'DSG2',\n",
       " 'PSMA8',\n",
       " 'STK26',\n",
       " 'BCL2',\n",
       " 'DNM1L',\n",
       " 'PSMB3',\n",
       " 'DYNLL2',\n",
       " 'PSMD1',\n",
       " 'DFFB',\n",
       " 'PSMA6',\n",
       " 'PSMA5',\n",
       " 'DSG1',\n",
       " 'PSMD14',\n",
       " 'TNFSF10',\n",
       " 'PRKCD',\n",
       " 'TP53',\n",
       " 'PSMD7',\n",
       " 'CASP8',\n",
       " 'GSN',\n",
       " 'DYNLL1',\n",
       " 'XIAP',\n",
       " 'DSG3',\n",
       " 'PSMC1',\n",
       " 'PSMF1',\n",
       " 'CASP9',\n",
       " 'YWHAB',\n",
       " 'PSME2',\n",
       " 'PSMB1',\n",
       " 'APAF1',\n",
       " 'RPS27A',\n",
       " 'PSMD2',\n",
       " 'PMAIP1',\n",
       " 'PSMA3',\n",
       " 'CASP3',\n",
       " 'HIST1H1A',\n",
       " 'PSMD5',\n",
       " 'PSMB11',\n",
       " 'TNFRSF10B',\n",
       " 'HMGB1',\n",
       " 'FNTA',\n",
       " 'BAD',\n",
       " 'APC',\n",
       " 'KPNA1',\n",
       " 'TRAF2',\n",
       " 'DIABLO',\n",
       " 'YWHAE',\n",
       " 'CDH1',\n",
       " 'PSME1',\n",
       " 'PSMD8',\n",
       " 'ACIN1',\n",
       " 'PSMD13',\n",
       " 'PPP3CC',\n",
       " 'BAX',\n",
       " 'BCL2L1',\n",
       " 'ROCK1',\n",
       " 'PSMB4',\n",
       " 'HIST1H1C',\n",
       " 'TRADD',\n",
       " 'AKT2',\n",
       " 'FAS',\n",
       " 'BCL2L11',\n",
       " 'PSMD9',\n",
       " 'BBC3',\n",
       " 'GAS2',\n",
       " 'AKT1',\n",
       " 'SPTAN1',\n",
       " 'PSMC2',\n",
       " 'HIST1H1B',\n",
       " 'CASP7',\n",
       " 'DSP',\n",
       " 'YWHAQ',\n",
       " 'YWHAG',\n",
       " 'PSMD12',\n",
       " 'PSMA7',\n",
       " 'PLEC',\n",
       " 'BCAP31',\n",
       " 'PSMA2',\n",
       " 'PSMB10',\n",
       " 'KPNB1',\n",
       " 'PSMD11',\n",
       " 'SFN',\n",
       " 'PSMB8',\n",
       " 'PSMC5',\n",
       " 'PSMB6',\n",
       " 'MAPK8',\n",
       " 'PPP3R1',\n",
       " 'PSMD3',\n",
       " 'UBA52',\n",
       " 'TNFRSF10A',\n",
       " 'GZMB',\n",
       " 'ARHGAP10',\n",
       " 'STK24',\n",
       " 'CFLAR',\n",
       " 'BID',\n",
       " 'PSMB2',\n",
       " 'BMF',\n",
       " 'PKP1',\n",
       " 'PSMB7',\n",
       " 'PSMD4',\n",
       " 'BIRC2',\n",
       " 'UBC',\n",
       " 'FASLG',\n",
       " 'CYCS',\n",
       " 'YWHAZ',\n",
       " 'PSMC4',\n",
       " 'SATB1',\n",
       " 'PSMC3',\n",
       " 'PSMB9',\n",
       " 'PSMC6',\n",
       " 'ADD1',\n",
       " 'E2F1',\n",
       " 'VIM',\n",
       " 'DFFA']"
      ]
     },
     "execution_count": 10,
     "metadata": {},
     "output_type": "execute_result"
    }
   ],
   "source": [
    "Apoptosis_proteins"
   ]
  },
  {
   "cell_type": "code",
   "execution_count": 11,
   "metadata": {},
   "outputs": [],
   "source": [
    "import csv\n",
    "with open('Apoptosis_proteins.csv', 'w') as Apoptosis_proteins1:\n",
    "    wr = csv.writer(Apoptosis_proteins1, quoting=csv.QUOTE_ALL)\n",
    "    wr.writerow(Apoptosis_proteins)"
   ]
  },
  {
   "cell_type": "code",
   "execution_count": null,
   "metadata": {},
   "outputs": [],
   "source": []
  }
 ],
 "metadata": {
  "kernelspec": {
   "display_name": "Python 3",
   "language": "python",
   "name": "python3"
  },
  "language_info": {
   "codemirror_mode": {
    "name": "ipython",
    "version": 3
   },
   "file_extension": ".py",
   "mimetype": "text/x-python",
   "name": "python",
   "nbconvert_exporter": "python",
   "pygments_lexer": "ipython3",
   "version": "3.7.4"
  }
 },
 "nbformat": 4,
 "nbformat_minor": 2
}
