{
 "cells": [
  {
   "cell_type": "code",
   "execution_count": 1,
   "metadata": {},
   "outputs": [],
   "source": [
    "ATF4_binding = open(\"ATF4_binding.txt\", 'r')\n",
    "import re\n",
    "ATF4_binding_raw = re.findall(r':.\\w+.,', ATF4_binding.read())\n",
    "listToStr = ' '.join([str(elem) for elem in ATF4_binding_raw])\n",
    "ATF4_binding = re.findall(r'\\w+',listToStr)\n",
    "import csv\n",
    "with open('ATF4_binding.csv', 'w') as ATF4_binding1:\n",
    "    wr = csv.writer(ATF4_binding1, quoting=csv.QUOTE_ALL)\n",
    "    wr.writerow(ATF4_binding)"
   ]
  },
  {
   "cell_type": "code",
   "execution_count": null,
   "metadata": {},
   "outputs": [],
   "source": []
  }
 ],
 "metadata": {
  "kernelspec": {
   "display_name": "Python 3",
   "language": "python",
   "name": "python3"
  },
  "language_info": {
   "codemirror_mode": {
    "name": "ipython",
    "version": 3
   },
   "file_extension": ".py",
   "mimetype": "text/x-python",
   "name": "python",
   "nbconvert_exporter": "python",
   "pygments_lexer": "ipython3",
   "version": "3.7.4"
  }
 },
 "nbformat": 4,
 "nbformat_minor": 2
}
