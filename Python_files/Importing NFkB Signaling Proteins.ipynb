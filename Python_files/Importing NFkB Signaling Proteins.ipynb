{
 "cells": [
  {
   "cell_type": "code",
   "execution_count": 3,
   "metadata": {},
   "outputs": [],
   "source": [
    "NFkB = open(\"NFkB_raw.txt\")"
   ]
  },
  {
   "cell_type": "code",
   "execution_count": 4,
   "metadata": {},
   "outputs": [
    {
     "name": "stdout",
     "output_type": "stream",
     "text": [
      "<_io.TextIOWrapper name='NFkB_raw.txt' mode='r' encoding='UTF-8'>\n"
     ]
    }
   ],
   "source": [
    "print(NFkB)"
   ]
  },
  {
   "cell_type": "code",
   "execution_count": 5,
   "metadata": {},
   "outputs": [
    {
     "name": "stdout",
     "output_type": "stream",
     "text": [
      "{\"attribute\":{\"name\":\"Activation of NF-kappaB in B cells\",\"href\":\"/api/1.0/attribute/Activation+of+NF-kappaB+in+B+cells\"},\"dataset\":{\"name\":\"Reactome Pathways\",\"href\":\"/api/1.0/dataset/Reactome+Pathways\"},\"associations\":[{\"gene\":{\"symbol\":\"PSMD8\",\"href\":\"/api/1.0/gene/PSMD8\"},\"thresholdValue\":1.0},{\"gene\":{\"symbol\":\"PSMB2\",\"href\":\"/api/1.0/gene/PSMB2\"},\"thresholdValue\":1.0},{\"gene\":{\"symbol\":\"CARD11\",\"href\":\"/api/1.0/gene/CARD11\"},\"thresholdValue\":1.0},{\"gene\":{\"symbol\":\"PSMB11\",\"href\":\"/api/1.0/gene/PSMB11\"},\"thresholdValue\":1.0},{\"gene\":{\"symbol\":\"PSMF1\",\"href\":\"/api/1.0/gene/PSMF1\"},\"thresholdValue\":1.0},{\"gene\":{\"symbol\":\"PSMC4\",\"href\":\"/api/1.0/gene/PSMC4\"},\"thresholdValue\":1.0},{\"gene\":{\"symbol\":\"NFKBIA\",\"href\":\"/api/1.0/gene/NFKBIA\"},\"thresholdValue\":1.0},{\"gene\":{\"symbol\":\"UBB\",\"href\":\"/api/1.0/gene/UBB\"},\"thresholdValue\":1.0},{\"gene\":{\"symbol\":\"PSMD2\",\"href\":\"/api/1.0/gene/PSMD2\"},\"thresholdValue\":1.0},{\"gene\":{\"symbol\":\"PSMB9\",\"href\":\"/api/1.0/gene/PSMB9\"},\"thresholdValue\":1.0},{\"gene\":{\"symbol\":\"PSMC1\",\"href\":\"/api/1.0/gene/PSMC1\"},\"thresholdValue\":1.0},{\"gene\":{\"symbol\":\"PSMD7\",\"href\":\"/api/1.0/gene/PSMD7\"},\"thresholdValue\":1.0},{\"gene\":{\"symbol\":\"PSMD5\",\"href\":\"/api/1.0/gene/PSMD5\"},\"thresholdValue\":1.0},{\"gene\":{\"symbol\":\"PSMC5\",\"href\":\"/api/1.0/gene/PSMC5\"},\"thresholdValue\":1.0},{\"gene\":{\"symbol\":\"PSMA2\",\"href\":\"/api/1.0/gene/PSMA2\"},\"thresholdValue\":1.0},{\"gene\":{\"symbol\":\"PSMD10\",\"href\":\"/api/1.0/gene/PSMD10\"},\"thresholdValue\":1.0},{\"gene\":{\"symbol\":\"PSMB8\",\"href\":\"/api/1.0/gene/PSMB8\"},\"thresholdValue\":1.0},{\"gene\":{\"symbol\":\"PSMD9\",\"href\":\"/api/1.0/gene/PSMD9\"},\"thresholdValue\":1.0},{\"gene\":{\"symbol\":\"NFKBIE\",\"href\":\"/api/1.0/gene/NFKBIE\"},\"thresholdValue\":1.0},{\"gene\":{\"symbol\":\"CHUK\",\"href\":\"/api/1.0/gene/CHUK\"},\"thresholdValue\":1.0},{\"gene\":{\"symbol\":\"PSMA3\",\"href\":\"/api/1.0/gene/PSMA3\"},\"thresholdValue\":1.0},{\"gene\":{\"symbol\":\"PSMC6\",\"href\":\"/api/1.0/gene/PSMC6\"},\"thresholdValue\":1.0},{\"gene\":{\"symbol\":\"PSMD6\",\"href\":\"/api/1.0/gene/PSMD6\"},\"thresholdValue\":1.0},{\"gene\":{\"symbol\":\"PSMC3\",\"href\":\"/api/1.0/gene/PSMC3\"},\"thresholdValue\":1.0},{\"gene\":{\"symbol\":\"PSMD4\",\"href\":\"/api/1.0/gene/PSMD4\"},\"thresholdValue\":1.0},{\"gene\":{\"symbol\":\"PSMD13\",\"href\":\"/api/1.0/gene/PSMD13\"},\"thresholdValue\":1.0},{\"gene\":{\"symbol\":\"PSMA8\",\"href\":\"/api/1.0/gene/PSMA8\"},\"thresholdValue\":1.0},{\"gene\":{\"symbol\":\"IKBKB\",\"href\":\"/api/1.0/gene/IKBKB\"},\"thresholdValue\":1.0},{\"gene\":{\"symbol\":\"NFKBIB\",\"href\":\"/api/1.0/gene/NFKBIB\"},\"thresholdValue\":1.0},{\"gene\":{\"symbol\":\"PSMD14\",\"href\":\"/api/1.0/gene/PSMD14\"},\"thresholdValue\":1.0},{\"gene\":{\"symbol\":\"PSMB6\",\"href\":\"/api/1.0/gene/PSMB6\"},\"thresholdValue\":1.0},{\"gene\":{\"symbol\":\"RELA\",\"href\":\"/api/1.0/gene/RELA\"},\"thresholdValue\":1.0},{\"gene\":{\"symbol\":\"PSMA7\",\"href\":\"/api/1.0/gene/PSMA7\"},\"thresholdValue\":1.0},{\"gene\":{\"symbol\":\"RPS27A\",\"href\":\"/api/1.0/gene/RPS27A\"},\"thresholdValue\":1.0},{\"gene\":{\"symbol\":\"PSME3\",\"href\":\"/api/1.0/gene/PSME3\"},\"thresholdValue\":1.0},{\"gene\":{\"symbol\":\"CUL1\",\"href\":\"/api/1.0/gene/CUL1\"},\"thresholdValue\":1.0},{\"gene\":{\"symbol\":\"PSME2\",\"href\":\"/api/1.0/gene/PSME2\"},\"thresholdValue\":1.0},{\"gene\":{\"symbol\":\"PSMD11\",\"href\":\"/api/1.0/gene/PSMD11\"},\"thresholdValue\":1.0},{\"gene\":{\"symbol\":\"IKBKG\",\"href\":\"/api/1.0/gene/IKBKG\"},\"thresholdValue\":1.0},{\"gene\":{\"symbol\":\"SKP1\",\"href\":\"/api/1.0/gene/SKP1\"},\"thresholdValue\":1.0},{\"gene\":{\"symbol\":\"PSMC2\",\"href\":\"/api/1.0/gene/PSMC2\"},\"thresholdValue\":1.0},{\"gene\":{\"symbol\":\"PSME1\",\"href\":\"/api/1.0/gene/PSME1\"},\"thresholdValue\":1.0},{\"gene\":{\"symbol\":\"BTRC\",\"href\":\"/api/1.0/gene/BTRC\"},\"thresholdValue\":1.0},{\"gene\":{\"symbol\":\"PRKCB\",\"href\":\"/api/1.0/gene/PRKCB\"},\"thresholdValue\":1.0},{\"gene\":{\"symbol\":\"MALT1\",\"href\":\"/api/1.0/gene/MALT1\"},\"thresholdValue\":1.0},{\"gene\":{\"symbol\":\"MAP3K7\",\"href\":\"/api/1.0/gene/MAP3K7\"},\"thresholdValue\":1.0},{\"gene\":{\"symbol\":\"REL\",\"href\":\"/api/1.0/gene/REL\"},\"thresholdValue\":1.0},{\"gene\":{\"symbol\":\"PSMD3\",\"href\":\"/api/1.0/gene/PSMD3\"},\"thresholdValue\":1.0},{\"gene\":{\"symbol\":\"PSMA4\",\"href\":\"/api/1.0/gene/PSMA4\"},\"thresholdValue\":1.0},{\"gene\":{\"symbol\":\"PSMB3\",\"href\":\"/api/1.0/gene/PSMB3\"},\"thresholdValue\":1.0},{\"gene\":{\"symbol\":\"NFKB1\",\"href\":\"/api/1.0/gene/NFKB1\"},\"thresholdValue\":1.0},{\"gene\":{\"symbol\":\"FBXW11\",\"href\":\"/api/1.0/gene/FBXW11\"},\"thresholdValue\":1.0},{\"gene\":{\"symbol\":\"UBA52\",\"href\":\"/api/1.0/gene/UBA52\"},\"thresholdValue\":1.0},{\"gene\":{\"symbol\":\"UBC\",\"href\":\"/api/1.0/gene/UBC\"},\"thresholdValue\":1.0},{\"gene\":{\"symbol\":\"PSMB1\",\"href\":\"/api/1.0/gene/PSMB1\"},\"thresholdValue\":1.0},{\"gene\":{\"symbol\":\"PSMB7\",\"href\":\"/api/1.0/gene/PSMB7\"},\"thresholdValue\":1.0},{\"gene\":{\"symbol\":\"PSMB4\",\"href\":\"/api/1.0/gene/PSMB4\"},\"thresholdValue\":1.0},{\"gene\":{\"symbol\":\"BCL10\",\"href\":\"/api/1.0/gene/BCL10\"},\"thresholdValue\":1.0},{\"gene\":{\"symbol\":\"PSMD12\",\"href\":\"/api/1.0/gene/PSMD12\"},\"thresholdValue\":1.0},{\"gene\":{\"symbol\":\"PSME4\",\"href\":\"/api/1.0/gene/PSME4\"},\"thresholdValue\":1.0},{\"gene\":{\"symbol\":\"PSMD1\",\"href\":\"/api/1.0/gene/PSMD1\"},\"thresholdValue\":1.0},{\"gene\":{\"symbol\":\"PSMA1\",\"href\":\"/api/1.0/gene/PSMA1\"},\"thresholdValue\":1.0},{\"gene\":{\"symbol\":\"PSMB10\",\"href\":\"/api/1.0/gene/PSMB10\"},\"thresholdValue\":1.0},{\"gene\":{\"symbol\":\"PSMA5\",\"href\":\"/api/1.0/gene/PSMA5\"},\"thresholdValue\":1.0},{\"gene\":{\"symbol\":\"PSMA6\",\"href\":\"/api/1.0/gene/PSMA6\"},\"thresholdValue\":1.0},{\"gene\":{\"symbol\":\"PSMB5\",\"href\":\"/api/1.0/gene/PSMB5\"},\"thresholdValue\":1.0}]}\n",
      "\n"
     ]
    }
   ],
   "source": [
    "print(NFkB.read())"
   ]
  },
  {
   "cell_type": "code",
   "execution_count": 13,
   "metadata": {},
   "outputs": [],
   "source": [
    "import re\n",
    "NFkB_raw = re.findall(r':.\\w+.,', '{\"attribute\":{\"name\":\"Activation of NF-kappaB in B cells\",\"href\":\"/api/1.0/attribute/Activation+of+NF-kappaB+in+B+cells\"},\"dataset\":{\"name\":\"Reactome Pathways\",\"href\":\"/api/1.0/dataset/Reactome+Pathways\"},\"associations\":[{\"gene\":{\"symbol\":\"PSMD8\",\"href\":\"/api/1.0/gene/PSMD8\"},\"thresholdValue\":1.0},{\"gene\":{\"symbol\":\"PSMB2\",\"href\":\"/api/1.0/gene/PSMB2\"},\"thresholdValue\":1.0},{\"gene\":{\"symbol\":\"CARD11\",\"href\":\"/api/1.0/gene/CARD11\"},\"thresholdValue\":1.0},{\"gene\":{\"symbol\":\"PSMB11\",\"href\":\"/api/1.0/gene/PSMB11\"},\"thresholdValue\":1.0},{\"gene\":{\"symbol\":\"PSMF1\",\"href\":\"/api/1.0/gene/PSMF1\"},\"thresholdValue\":1.0},{\"gene\":{\"symbol\":\"PSMC4\",\"href\":\"/api/1.0/gene/PSMC4\"},\"thresholdValue\":1.0},{\"gene\":{\"symbol\":\"NFKBIA\",\"href\":\"/api/1.0/gene/NFKBIA\"},\"thresholdValue\":1.0},{\"gene\":{\"symbol\":\"UBB\",\"href\":\"/api/1.0/gene/UBB\"},\"thresholdValue\":1.0},{\"gene\":{\"symbol\":\"PSMD2\",\"href\":\"/api/1.0/gene/PSMD2\"},\"thresholdValue\":1.0},{\"gene\":{\"symbol\":\"PSMB9\",\"href\":\"/api/1.0/gene/PSMB9\"},\"thresholdValue\":1.0},{\"gene\":{\"symbol\":\"PSMC1\",\"href\":\"/api/1.0/gene/PSMC1\"},\"thresholdValue\":1.0},{\"gene\":{\"symbol\":\"PSMD7\",\"href\":\"/api/1.0/gene/PSMD7\"},\"thresholdValue\":1.0},{\"gene\":{\"symbol\":\"PSMD5\",\"href\":\"/api/1.0/gene/PSMD5\"},\"thresholdValue\":1.0},{\"gene\":{\"symbol\":\"PSMC5\",\"href\":\"/api/1.0/gene/PSMC5\"},\"thresholdValue\":1.0},{\"gene\":{\"symbol\":\"PSMA2\",\"href\":\"/api/1.0/gene/PSMA2\"},\"thresholdValue\":1.0},{\"gene\":{\"symbol\":\"PSMD10\",\"href\":\"/api/1.0/gene/PSMD10\"},\"thresholdValue\":1.0},{\"gene\":{\"symbol\":\"PSMB8\",\"href\":\"/api/1.0/gene/PSMB8\"},\"thresholdValue\":1.0},{\"gene\":{\"symbol\":\"PSMD9\",\"href\":\"/api/1.0/gene/PSMD9\"},\"thresholdValue\":1.0},{\"gene\":{\"symbol\":\"NFKBIE\",\"href\":\"/api/1.0/gene/NFKBIE\"},\"thresholdValue\":1.0},{\"gene\":{\"symbol\":\"CHUK\",\"href\":\"/api/1.0/gene/CHUK\"},\"thresholdValue\":1.0},{\"gene\":{\"symbol\":\"PSMA3\",\"href\":\"/api/1.0/gene/PSMA3\"},\"thresholdValue\":1.0},{\"gene\":{\"symbol\":\"PSMC6\",\"href\":\"/api/1.0/gene/PSMC6\"},\"thresholdValue\":1.0},{\"gene\":{\"symbol\":\"PSMD6\",\"href\":\"/api/1.0/gene/PSMD6\"},\"thresholdValue\":1.0},{\"gene\":{\"symbol\":\"PSMC3\",\"href\":\"/api/1.0/gene/PSMC3\"},\"thresholdValue\":1.0},{\"gene\":{\"symbol\":\"PSMD4\",\"href\":\"/api/1.0/gene/PSMD4\"},\"thresholdValue\":1.0},{\"gene\":{\"symbol\":\"PSMD13\",\"href\":\"/api/1.0/gene/PSMD13\"},\"thresholdValue\":1.0},{\"gene\":{\"symbol\":\"PSMA8\",\"href\":\"/api/1.0/gene/PSMA8\"},\"thresholdValue\":1.0},{\"gene\":{\"symbol\":\"IKBKB\",\"href\":\"/api/1.0/gene/IKBKB\"},\"thresholdValue\":1.0},{\"gene\":{\"symbol\":\"NFKBIB\",\"href\":\"/api/1.0/gene/NFKBIB\"},\"thresholdValue\":1.0},{\"gene\":{\"symbol\":\"PSMD14\",\"href\":\"/api/1.0/gene/PSMD14\"},\"thresholdValue\":1.0},{\"gene\":{\"symbol\":\"PSMB6\",\"href\":\"/api/1.0/gene/PSMB6\"},\"thresholdValue\":1.0},{\"gene\":{\"symbol\":\"RELA\",\"href\":\"/api/1.0/gene/RELA\"},\"thresholdValue\":1.0},{\"gene\":{\"symbol\":\"PSMA7\",\"href\":\"/api/1.0/gene/PSMA7\"},\"thresholdValue\":1.0},{\"gene\":{\"symbol\":\"RPS27A\",\"href\":\"/api/1.0/gene/RPS27A\"},\"thresholdValue\":1.0},{\"gene\":{\"symbol\":\"PSME3\",\"href\":\"/api/1.0/gene/PSME3\"},\"thresholdValue\":1.0},{\"gene\":{\"symbol\":\"CUL1\",\"href\":\"/api/1.0/gene/CUL1\"},\"thresholdValue\":1.0},{\"gene\":{\"symbol\":\"PSME2\",\"href\":\"/api/1.0/gene/PSME2\"},\"thresholdValue\":1.0},{\"gene\":{\"symbol\":\"PSMD11\",\"href\":\"/api/1.0/gene/PSMD11\"},\"thresholdValue\":1.0},{\"gene\":{\"symbol\":\"IKBKG\",\"href\":\"/api/1.0/gene/IKBKG\"},\"thresholdValue\":1.0},{\"gene\":{\"symbol\":\"SKP1\",\"href\":\"/api/1.0/gene/SKP1\"},\"thresholdValue\":1.0},{\"gene\":{\"symbol\":\"PSMC2\",\"href\":\"/api/1.0/gene/PSMC2\"},\"thresholdValue\":1.0},{\"gene\":{\"symbol\":\"PSME1\",\"href\":\"/api/1.0/gene/PSME1\"},\"thresholdValue\":1.0},{\"gene\":{\"symbol\":\"BTRC\",\"href\":\"/api/1.0/gene/BTRC\"},\"thresholdValue\":1.0},{\"gene\":{\"symbol\":\"PRKCB\",\"href\":\"/api/1.0/gene/PRKCB\"},\"thresholdValue\":1.0},{\"gene\":{\"symbol\":\"MALT1\",\"href\":\"/api/1.0/gene/MALT1\"},\"thresholdValue\":1.0},{\"gene\":{\"symbol\":\"MAP3K7\",\"href\":\"/api/1.0/gene/MAP3K7\"},\"thresholdValue\":1.0},{\"gene\":{\"symbol\":\"REL\",\"href\":\"/api/1.0/gene/REL\"},\"thresholdValue\":1.0},{\"gene\":{\"symbol\":\"PSMD3\",\"href\":\"/api/1.0/gene/PSMD3\"},\"thresholdValue\":1.0},{\"gene\":{\"symbol\":\"PSMA4\",\"href\":\"/api/1.0/gene/PSMA4\"},\"thresholdValue\":1.0},{\"gene\":{\"symbol\":\"PSMB3\",\"href\":\"/api/1.0/gene/PSMB3\"},\"thresholdValue\":1.0},{\"gene\":{\"symbol\":\"NFKB1\",\"href\":\"/api/1.0/gene/NFKB1\"},\"thresholdValue\":1.0},{\"gene\":{\"symbol\":\"FBXW11\",\"href\":\"/api/1.0/gene/FBXW11\"},\"thresholdValue\":1.0},{\"gene\":{\"symbol\":\"UBA52\",\"href\":\"/api/1.0/gene/UBA52\"},\"thresholdValue\":1.0},{\"gene\":{\"symbol\":\"UBC\",\"href\":\"/api/1.0/gene/UBC\"},\"thresholdValue\":1.0},{\"gene\":{\"symbol\":\"PSMB1\",\"href\":\"/api/1.0/gene/PSMB1\"},\"thresholdValue\":1.0},{\"gene\":{\"symbol\":\"PSMB7\",\"href\":\"/api/1.0/gene/PSMB7\"},\"thresholdValue\":1.0},{\"gene\":{\"symbol\":\"PSMB4\",\"href\":\"/api/1.0/gene/PSMB4\"},\"thresholdValue\":1.0},{\"gene\":{\"symbol\":\"BCL10\",\"href\":\"/api/1.0/gene/BCL10\"},\"thresholdValue\":1.0},{\"gene\":{\"symbol\":\"PSMD12\",\"href\":\"/api/1.0/gene/PSMD12\"},\"thresholdValue\":1.0},{\"gene\":{\"symbol\":\"PSME4\",\"href\":\"/api/1.0/gene/PSME4\"},\"thresholdValue\":1.0},{\"gene\":{\"symbol\":\"PSMD1\",\"href\":\"/api/1.0/gene/PSMD1\"},\"thresholdValue\":1.0},{\"gene\":{\"symbol\":\"PSMA1\",\"href\":\"/api/1.0/gene/PSMA1\"},\"thresholdValue\":1.0},{\"gene\":{\"symbol\":\"PSMB10\",\"href\":\"/api/1.0/gene/PSMB10\"},\"thresholdValue\":1.0},{\"gene\":{\"symbol\":\"PSMA5\",\"href\":\"/api/1.0/gene/PSMA5\"},\"thresholdValue\":1.0},{\"gene\":{\"symbol\":\"PSMA6\",\"href\":\"/api/1.0/gene/PSMA6\"},\"thresholdValue\":1.0},{\"gene\":{\"symbol\":\"PSMB5\",\"href\":\"/api/1.0/gene/PSMB5\"},\"thresholdValue\":1.0}]}')"
   ]
  },
  {
   "cell_type": "code",
   "execution_count": 16,
   "metadata": {},
   "outputs": [],
   "source": [
    "listToStr = ' '.join([str(elem) for elem in NFkB_raw])"
   ]
  },
  {
   "cell_type": "code",
   "execution_count": 17,
   "metadata": {},
   "outputs": [
    {
     "name": "stdout",
     "output_type": "stream",
     "text": [
      ":\"PSMD8\", :\"PSMB2\", :\"CARD11\", :\"PSMB11\", :\"PSMF1\", :\"PSMC4\", :\"NFKBIA\", :\"UBB\", :\"PSMD2\", :\"PSMB9\", :\"PSMC1\", :\"PSMD7\", :\"PSMD5\", :\"PSMC5\", :\"PSMA2\", :\"PSMD10\", :\"PSMB8\", :\"PSMD9\", :\"NFKBIE\", :\"CHUK\", :\"PSMA3\", :\"PSMC6\", :\"PSMD6\", :\"PSMC3\", :\"PSMD4\", :\"PSMD13\", :\"PSMA8\", :\"IKBKB\", :\"NFKBIB\", :\"PSMD14\", :\"PSMB6\", :\"RELA\", :\"PSMA7\", :\"RPS27A\", :\"PSME3\", :\"CUL1\", :\"PSME2\", :\"PSMD11\", :\"IKBKG\", :\"SKP1\", :\"PSMC2\", :\"PSME1\", :\"BTRC\", :\"PRKCB\", :\"MALT1\", :\"MAP3K7\", :\"REL\", :\"PSMD3\", :\"PSMA4\", :\"PSMB3\", :\"NFKB1\", :\"FBXW11\", :\"UBA52\", :\"UBC\", :\"PSMB1\", :\"PSMB7\", :\"PSMB4\", :\"BCL10\", :\"PSMD12\", :\"PSME4\", :\"PSMD1\", :\"PSMA1\", :\"PSMB10\", :\"PSMA5\", :\"PSMA6\", :\"PSMB5\",\n"
     ]
    }
   ],
   "source": [
    "print(listToStr)"
   ]
  },
  {
   "cell_type": "code",
   "execution_count": 29,
   "metadata": {},
   "outputs": [],
   "source": [
    "NFkB_proteins = re.findall(r'\\w+',':\"PSMD8\", :\"PSMB2\", :\"CARD11\", :\"PSMB11\", :\"PSMF1\", :\"PSMC4\", :\"NFKBIA\", :\"UBB\", :\"PSMD2\", :\"PSMB9\", :\"PSMC1\", :\"PSMD7\", :\"PSMD5\", :\"PSMC5\", :\"PSMA2\", :\"PSMD10\", :\"PSMB8\", :\"PSMD9\", :\"NFKBIE\", :\"CHUK\", :\"PSMA3\", :\"PSMC6\", :\"PSMD6\", :\"PSMC3\", :\"PSMD4\", :\"PSMD13\", :\"PSMA8\", :\"IKBKB\", :\"NFKBIB\", :\"PSMD14\", :\"PSMB6\", :\"RELA\", :\"PSMA7\", :\"RPS27A\", :\"PSME3\", :\"CUL1\", :\"PSME2\", :\"PSMD11\", :\"IKBKG\", :\"SKP1\", :\"PSMC2\", :\"PSME1\", :\"BTRC\", :\"PRKCB\", :\"MALT1\", :\"MAP3K7\", :\"REL\", :\"PSMD3\", :\"PSMA4\", :\"PSMB3\", :\"NFKB1\", :\"FBXW11\", :\"UBA52\", :\"UBC\", :\"PSMB1\", :\"PSMB7\", :\"PSMB4\", :\"BCL10\", :\"PSMD12\", :\"PSME4\", :\"PSMD1\", :\"PSMA1\", :\"PSMB10\", :\"PSMA5\", :\"PSMA6\", :\"PSMB5\",')"
   ]
  },
  {
   "cell_type": "code",
   "execution_count": 30,
   "metadata": {},
   "outputs": [
    {
     "name": "stdout",
     "output_type": "stream",
     "text": [
      "['PSMD8', 'PSMB2', 'CARD11', 'PSMB11', 'PSMF1', 'PSMC4', 'NFKBIA', 'UBB', 'PSMD2', 'PSMB9', 'PSMC1', 'PSMD7', 'PSMD5', 'PSMC5', 'PSMA2', 'PSMD10', 'PSMB8', 'PSMD9', 'NFKBIE', 'CHUK', 'PSMA3', 'PSMC6', 'PSMD6', 'PSMC3', 'PSMD4', 'PSMD13', 'PSMA8', 'IKBKB', 'NFKBIB', 'PSMD14', 'PSMB6', 'RELA', 'PSMA7', 'RPS27A', 'PSME3', 'CUL1', 'PSME2', 'PSMD11', 'IKBKG', 'SKP1', 'PSMC2', 'PSME1', 'BTRC', 'PRKCB', 'MALT1', 'MAP3K7', 'REL', 'PSMD3', 'PSMA4', 'PSMB3', 'NFKB1', 'FBXW11', 'UBA52', 'UBC', 'PSMB1', 'PSMB7', 'PSMB4', 'BCL10', 'PSMD12', 'PSME4', 'PSMD1', 'PSMA1', 'PSMB10', 'PSMA5', 'PSMA6', 'PSMB5']\n"
     ]
    }
   ],
   "source": [
    "print(NFkB_proteins)"
   ]
  },
  {
   "cell_type": "code",
   "execution_count": 31,
   "metadata": {},
   "outputs": [
    {
     "data": {
      "text/plain": [
       "['PSMD8',\n",
       " 'PSMB2',\n",
       " 'CARD11',\n",
       " 'PSMB11',\n",
       " 'PSMF1',\n",
       " 'PSMC4',\n",
       " 'NFKBIA',\n",
       " 'UBB',\n",
       " 'PSMD2',\n",
       " 'PSMB9',\n",
       " 'PSMC1',\n",
       " 'PSMD7',\n",
       " 'PSMD5',\n",
       " 'PSMC5',\n",
       " 'PSMA2',\n",
       " 'PSMD10',\n",
       " 'PSMB8',\n",
       " 'PSMD9',\n",
       " 'NFKBIE',\n",
       " 'CHUK',\n",
       " 'PSMA3',\n",
       " 'PSMC6',\n",
       " 'PSMD6',\n",
       " 'PSMC3',\n",
       " 'PSMD4',\n",
       " 'PSMD13',\n",
       " 'PSMA8',\n",
       " 'IKBKB',\n",
       " 'NFKBIB',\n",
       " 'PSMD14',\n",
       " 'PSMB6',\n",
       " 'RELA',\n",
       " 'PSMA7',\n",
       " 'RPS27A',\n",
       " 'PSME3',\n",
       " 'CUL1',\n",
       " 'PSME2',\n",
       " 'PSMD11',\n",
       " 'IKBKG',\n",
       " 'SKP1',\n",
       " 'PSMC2',\n",
       " 'PSME1',\n",
       " 'BTRC',\n",
       " 'PRKCB',\n",
       " 'MALT1',\n",
       " 'MAP3K7',\n",
       " 'REL',\n",
       " 'PSMD3',\n",
       " 'PSMA4',\n",
       " 'PSMB3',\n",
       " 'NFKB1',\n",
       " 'FBXW11',\n",
       " 'UBA52',\n",
       " 'UBC',\n",
       " 'PSMB1',\n",
       " 'PSMB7',\n",
       " 'PSMB4',\n",
       " 'BCL10',\n",
       " 'PSMD12',\n",
       " 'PSME4',\n",
       " 'PSMD1',\n",
       " 'PSMA1',\n",
       " 'PSMB10',\n",
       " 'PSMA5',\n",
       " 'PSMA6',\n",
       " 'PSMB5']"
      ]
     },
     "execution_count": 31,
     "metadata": {},
     "output_type": "execute_result"
    }
   ],
   "source": [
    "NFkB_proteins"
   ]
  },
  {
   "cell_type": "code",
   "execution_count": 32,
   "metadata": {},
   "outputs": [],
   "source": [
    "import csv\n",
    "with open('NFkB_proteins.csv', 'w') as NFkB_signal_proteins:\n",
    "    wr = csv.writer(NFkB_signal_proteins, quoting=csv.QUOTE_ALL)\n",
    "    wr.writerow(NFkB_proteins)"
   ]
  },
  {
   "cell_type": "markdown",
   "metadata": {},
   "source": []
  }
 ],
 "metadata": {
  "kernelspec": {
   "display_name": "Python 3",
   "language": "python",
   "name": "python3"
  },
  "language_info": {
   "codemirror_mode": {
    "name": "ipython",
    "version": 3
   },
   "file_extension": ".py",
   "mimetype": "text/x-python",
   "name": "python",
   "nbconvert_exporter": "python",
   "pygments_lexer": "ipython3",
   "version": "3.7.4"
  }
 },
 "nbformat": 4,
 "nbformat_minor": 2
}
