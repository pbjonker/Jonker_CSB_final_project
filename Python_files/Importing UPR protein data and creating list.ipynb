{
 "cells": [
  {
   "cell_type": "code",
   "execution_count": 2,
   "metadata": {},
   "outputs": [
    {
     "ename": "ModuleNotFoundError",
     "evalue": "No module named 'upr_proteins_raw'",
     "output_type": "error",
     "traceback": [
      "\u001b[0;31m---------------------------------------------------------------------------\u001b[0m",
      "\u001b[0;31mModuleNotFoundError\u001b[0m                       Traceback (most recent call last)",
      "\u001b[0;32m<ipython-input-2-9caad8b87c97>\u001b[0m in \u001b[0;36m<module>\u001b[0;34m\u001b[0m\n\u001b[0;32m----> 1\u001b[0;31m \u001b[0;32mimport\u001b[0m \u001b[0mupr_proteins_raw\u001b[0m\u001b[0;34m\u001b[0m\u001b[0;34m\u001b[0m\u001b[0m\n\u001b[0m",
      "\u001b[0;31mModuleNotFoundError\u001b[0m: No module named 'upr_proteins_raw'"
     ]
    }
   ],
   "source": [
    "import upr_proteins_raw"
   ]
  },
  {
   "cell_type": "code",
   "execution_count": 4,
   "metadata": {},
   "outputs": [
    {
     "ename": "ModuleNotFoundError",
     "evalue": "No module named 'PyRTF'",
     "output_type": "error",
     "traceback": [
      "\u001b[0;31m---------------------------------------------------------------------------\u001b[0m",
      "\u001b[0;31mModuleNotFoundError\u001b[0m                       Traceback (most recent call last)",
      "\u001b[0;32m<ipython-input-4-9d5e1fc869c9>\u001b[0m in \u001b[0;36m<module>\u001b[0;34m\u001b[0m\n\u001b[0;32m----> 1\u001b[0;31m \u001b[0;32mimport\u001b[0m \u001b[0mPyRTF\u001b[0m\u001b[0;34m.\u001b[0m\u001b[0mgz\u001b[0m\u001b[0;34m\u001b[0m\u001b[0;34m\u001b[0m\u001b[0m\n\u001b[0m",
      "\u001b[0;31mModuleNotFoundError\u001b[0m: No module named 'PyRTF'"
     ]
    }
   ],
   "source": [
    "import PyRTF.gz"
   ]
  },
  {
   "cell_type": "code",
   "execution_count": 16,
   "metadata": {},
   "outputs": [],
   "source": [
    "upr = open(\"upr_proteins_raw.txt\")"
   ]
  },
  {
   "cell_type": "code",
   "execution_count": 17,
   "metadata": {},
   "outputs": [
    {
     "data": {
      "text/plain": [
       "<_io.TextIOWrapper name='upr_proteins_raw.txt' mode='r' encoding='UTF-8'>"
      ]
     },
     "execution_count": 17,
     "metadata": {},
     "output_type": "execute_result"
    }
   ],
   "source": [
    "upr"
   ]
  },
  {
   "cell_type": "code",
   "execution_count": 18,
   "metadata": {},
   "outputs": [
    {
     "name": "stdout",
     "output_type": "stream",
     "text": [
      "{\"attribute\":{\"name\":\"Unfolded Protein Response (UPR)\",\"href\":\"/api/1.0/attribute/Unfolded+Protein+Response+%28UPR%29\"},\"dataset\":{\"name\":\"Reactome Pathways\",\"href\":\"/api/1.0/dataset/Reactome+Pathways\"},\"associations\":[{\"gene\":{\"symbol\":\"PLA2G4B\",\"href\":\"/api/1.0/gene/PLA2G4B\"},\"thresholdValue\":1.0},{\"gene\":{\"symbol\":\"EIF2AK3\",\"href\":\"/api/1.0/gene/EIF2AK3\"},\"thresholdValue\":1.0},{\"gene\":{\"symbol\":\"DNAJC3\",\"href\":\"/api/1.0/gene/DNAJC3\"},\"thresholdValue\":1.0},{\"gene\":{\"symbol\":\"EXTL3\",\"href\":\"/api/1.0/gene/EXTL3\"},\"thresholdValue\":1.0},{\"gene\":{\"symbol\":\"ATP6V0D1\",\"href\":\"/api/1.0/gene/ATP6V0D1\"},\"thresholdValue\":1.0},{\"gene\":{\"symbol\":\"DNAJB11\",\"href\":\"/api/1.0/gene/DNAJB11\"},\"thresholdValue\":1.0},{\"gene\":{\"symbol\":\"DCP2\",\"href\":\"/api/1.0/gene/DCP2\"},\"thresholdValue\":1.0},{\"gene\":{\"symbol\":\"PREB\",\"href\":\"/api/1.0/gene/PREB\"},\"thresholdValue\":1.0},{\"gene\":{\"symbol\":\"SSR1\",\"href\":\"/api/1.0/gene/SSR1\"},\"thresholdValue\":1.0},{\"gene\":{\"symbol\":\"PARN\",\"href\":\"/api/1.0/gene/PARN\"},\"thresholdValue\":1.0},{\"gene\":{\"symbol\":\"SRPR\",\"href\":\"/api/1.0/gene/SRPR\"},\"thresholdValue\":1.0},{\"gene\":{\"symbol\":\"EXOSC6\",\"href\":\"/api/1.0/gene/EXOSC6\"},\"thresholdValue\":1.0},{\"gene\":{\"symbol\":\"CTDSP2\",\"href\":\"/api/1.0/gene/CTDSP2\"},\"thresholdValue\":1.0},{\"gene\":{\"symbol\":\"ARFGAP1\",\"href\":\"/api/1.0/gene/ARFGAP1\"},\"thresholdValue\":1.0},{\"gene\":{\"symbol\":\"EXOSC5\",\"href\":\"/api/1.0/gene/EXOSC5\"},\"thresholdValue\":1.0},{\"gene\":{\"symbol\":\"EXOSC3\",\"href\":\"/api/1.0/gene/EXOSC3\"},\"thresholdValue\":1.0},{\"gene\":{\"symbol\":\"SERP1\",\"href\":\"/api/1.0/gene/SERP1\"},\"thresholdValue\":1.0},{\"gene\":{\"symbol\":\"SYVN1\",\"href\":\"/api/1.0/gene/SYVN1\"},\"thresholdValue\":1.0},{\"gene\":{\"symbol\":\"MBTPS2\",\"href\":\"/api/1.0/gene/MBTPS2\"},\"thresholdValue\":1.0},{\"gene\":{\"symbol\":\"TATDN2\",\"href\":\"/api/1.0/gene/TATDN2\"},\"thresholdValue\":1.0},{\"gene\":{\"symbol\":\"HSPA5\",\"href\":\"/api/1.0/gene/HSPA5\"},\"thresholdValue\":1.0},{\"gene\":{\"symbol\":\"DCTN1\",\"href\":\"/api/1.0/gene/DCTN1\"},\"thresholdValue\":1.0},{\"gene\":{\"symbol\":\"KLHDC3\",\"href\":\"/api/1.0/gene/KLHDC3\"},\"thresholdValue\":1.0},{\"gene\":{\"symbol\":\"HYOU1\",\"href\":\"/api/1.0/gene/HYOU1\"},\"thresholdValue\":1.0},{\"gene\":{\"symbol\":\"ATF6\",\"href\":\"/api/1.0/gene/ATF6\"},\"thresholdValue\":1.0},{\"gene\":{\"symbol\":\"CCL2\",\"href\":\"/api/1.0/gene/CCL2\"},\"thresholdValue\":1.0},{\"gene\":{\"symbol\":\"XBP1\",\"href\":\"/api/1.0/gene/XBP1\"},\"thresholdValue\":1.0},{\"gene\":{\"symbol\":\"DIS3\",\"href\":\"/api/1.0/gene/DIS3\"},\"thresholdValue\":1.0},{\"gene\":{\"symbol\":\"SEC31A\",\"href\":\"/api/1.0/gene/SEC31A\"},\"thresholdValue\":1.0},{\"gene\":{\"symbol\":\"CXCL8\",\"href\":\"/api/1.0/gene/CXCL8\"},\"thresholdValue\":1.0},{\"gene\":{\"symbol\":\"YIF1A\",\"href\":\"/api/1.0/gene/YIF1A\"},\"thresholdValue\":1.0},{\"gene\":{\"symbol\":\"ERN1\",\"href\":\"/api/1.0/gene/ERN1\"},\"thresholdValue\":1.0},{\"gene\":{\"symbol\":\"NFYC\",\"href\":\"/api/1.0/gene/NFYC\"},\"thresholdValue\":1.0},{\"gene\":{\"symbol\":\"ATF4\",\"href\":\"/api/1.0/gene/ATF4\"},\"thresholdValue\":1.0},{\"gene\":{\"symbol\":\"ASNS\",\"href\":\"/api/1.0/gene/ASNS\"},\"thresholdValue\":1.0},{\"gene\":{\"symbol\":\"NFYB\",\"href\":\"/api/1.0/gene/NFYB\"},\"thresholdValue\":1.0},{\"gene\":{\"symbol\":\"WFS1\",\"href\":\"/api/1.0/gene/WFS1\"},\"thresholdValue\":1.0},{\"gene\":{\"symbol\":\"SHC1\",\"href\":\"/api/1.0/gene/SHC1\"},\"thresholdValue\":1.0},{\"gene\":{\"symbol\":\"EIF2S1\",\"href\":\"/api/1.0/gene/EIF2S1\"},\"thresholdValue\":1.0},{\"gene\":{\"symbol\":\"FKBP14\",\"href\":\"/api/1.0/gene/FKBP14\"},\"thresholdValue\":1.0},{\"gene\":{\"symbol\":\"CALR\",\"href\":\"/api/1.0/gene/CALR\"},\"thresholdValue\":1.0},{\"gene\":{\"symbol\":\"TSPYL2\",\"href\":\"/api/1.0/gene/TSPYL2\"},\"thresholdValue\":1.0},{\"gene\":{\"symbol\":\"TPP1\",\"href\":\"/api/1.0/gene/TPP1\"},\"thresholdValue\":1.0},{\"gene\":{\"symbol\":\"SULT1A3\",\"href\":\"/api/1.0/gene/SULT1A3\"},\"thresholdValue\":1.0},{\"gene\":{\"symbol\":\"ATF3\",\"href\":\"/api/1.0/gene/ATF3\"},\"thresholdValue\":1.0},{\"gene\":{\"symbol\":\"HDGF\",\"href\":\"/api/1.0/gene/HDGF\"},\"thresholdValue\":1.0},{\"gene\":{\"symbol\":\"TLN1\",\"href\":\"/api/1.0/gene/TLN1\"},\"thresholdValue\":1.0},{\"gene\":{\"symbol\":\"HERPUD1\",\"href\":\"/api/1.0/gene/HERPUD1\"},\"thresholdValue\":1.0},{\"gene\":{\"symbol\":\"WIPI1\",\"href\":\"/api/1.0/gene/WIPI1\"},\"thresholdValue\":1.0},{\"gene\":{\"symbol\":\"EXOSC8\",\"href\":\"/api/1.0/gene/EXOSC8\"},\"thresholdValue\":1.0},{\"gene\":{\"symbol\":\"GOSR2\",\"href\":\"/api/1.0/gene/GOSR2\"},\"thresholdValue\":1.0},{\"gene\":{\"symbol\":\"CXXC1\",\"href\":\"/api/1.0/gene/CXXC1\"},\"thresholdValue\":1.0},{\"gene\":{\"symbol\":\"KHSRP\",\"href\":\"/api/1.0/gene/KHSRP\"},\"thresholdValue\":1.0},{\"gene\":{\"symbol\":\"ADD1\",\"href\":\"/api/1.0/gene/ADD1\"},\"thresholdValue\":1.0},{\"gene\":{\"symbol\":\"NFYA\",\"href\":\"/api/1.0/gene/NFYA\"},\"thresholdValue\":1.0},{\"gene\":{\"symbol\":\"ACADVL\",\"href\":\"/api/1.0/gene/ACADVL\"},\"thresholdValue\":1.0},{\"gene\":{\"symbol\":\"PDIA6\",\"href\":\"/api/1.0/gene/PDIA6\"},\"thresholdValue\":1.0},{\"gene\":{\"symbol\":\"ZBTB17\",\"href\":\"/api/1.0/gene/ZBTB17\"},\"thresholdValue\":1.0},{\"gene\":{\"symbol\":\"DDIT3\",\"href\":\"/api/1.0/gene/DDIT3\"},\"thresholdValue\":1.0},{\"gene\":{\"symbol\":\"EDEM1\",\"href\":\"/api/1.0/gene/EDEM1\"},\"thresholdValue\":1.0},{\"gene\":{\"symbol\":\"PDIA5\",\"href\":\"/api/1.0/gene/PDIA5\"},\"thresholdValue\":1.0},{\"gene\":{\"symbol\":\"KDELR3\",\"href\":\"/api/1.0/gene/KDELR3\"},\"thresholdValue\":1.0},{\"gene\":{\"symbol\":\"EXOSC7\",\"href\":\"/api/1.0/gene/EXOSC7\"},\"thresholdValue\":1.0},{\"gene\":{\"symbol\":\"GSK3A\",\"href\":\"/api/1.0/gene/GSK3A\"},\"thresholdValue\":1.0},{\"gene\":{\"symbol\":\"LMNA\",\"href\":\"/api/1.0/gene/LMNA\"},\"thresholdValue\":1.0},{\"gene\":{\"symbol\":\"MBTPS1\",\"href\":\"/api/1.0/gene/MBTPS1\"},\"thresholdValue\":1.0},{\"gene\":{\"symbol\":\"PPP2R5B\",\"href\":\"/api/1.0/gene/PPP2R5B\"},\"thresholdValue\":1.0},{\"gene\":{\"symbol\":\"DDX11\",\"href\":\"/api/1.0/gene/DDX11\"},\"thresholdValue\":1.0},{\"gene\":{\"symbol\":\"EXOSC9\",\"href\":\"/api/1.0/gene/EXOSC9\"},\"thresholdValue\":1.0},{\"gene\":{\"symbol\":\"EXOSC2\",\"href\":\"/api/1.0/gene/EXOSC2\"},\"thresholdValue\":1.0},{\"gene\":{\"symbol\":\"EXOSC1\",\"href\":\"/api/1.0/gene/EXOSC1\"},\"thresholdValue\":1.0},{\"gene\":{\"symbol\":\"GFPT1\",\"href\":\"/api/1.0/gene/GFPT1\"},\"thresholdValue\":1.0},{\"gene\":{\"symbol\":\"SRPRB\",\"href\":\"/api/1.0/gene/SRPRB\"},\"thresholdValue\":1.0},{\"gene\":{\"symbol\":\"HSP90B1\",\"href\":\"/api/1.0/gene/HSP90B1\"},\"thresholdValue\":1.0},{\"gene\":{\"symbol\":\"MYDGF\",\"href\":\"/api/1.0/gene/MYDGF\"},\"thresholdValue\":1.0},{\"gene\":{\"symbol\":\"CUL7\",\"href\":\"/api/1.0/gene/CUL7\"},\"thresholdValue\":1.0},{\"gene\":{\"symbol\":\"IGFBP1\",\"href\":\"/api/1.0/gene/IGFBP1\"},\"thresholdValue\":1.0},{\"gene\":{\"symbol\":\"DNAJB9\",\"href\":\"/api/1.0/gene/DNAJB9\"},\"thresholdValue\":1.0},{\"gene\":{\"symbol\":\"EXOSC4\",\"href\":\"/api/1.0/gene/EXOSC4\"},\"thresholdValue\":1.0}]}\n",
      "\n"
     ]
    }
   ],
   "source": [
    "print(upr.read())"
   ]
  },
  {
   "cell_type": "code",
   "execution_count": 19,
   "metadata": {},
   "outputs": [],
   "source": [
    "import re"
   ]
  },
  {
   "cell_type": "code",
   "execution_count": 32,
   "metadata": {},
   "outputs": [
    {
     "data": {
      "text/plain": [
       "[]"
      ]
     },
     "execution_count": 32,
     "metadata": {},
     "output_type": "execute_result"
    }
   ],
   "source": [
    "re.findall(r':?\\w+?,','{\"attribute\":{\"name\":\"Unfolded Protein Response (UPR)\",\"href\":\"/api/1.0/attribute/Unfolded+Protein+Response+%28UPR%29\"},\"dataset\":{\"name\":\"Reactome Pathways\",\"href\":\"/api/1.0/dataset/Reactome+Pathways\"},\"associations\":[{\"gene\":{\"symbol\":\"PLA2G4B\",\"href\":\"/api/1.0/gene/PLA2G4B\"},\"thresholdValue\":1.0},{\"gene\":{\"symbol\":\"EIF2AK3\",\"href\":\"/api/1.0/gene/EIF2AK3\"},\"thresholdValue\":1.0},{\"gene\":{\"symbol\":\"DNAJC3\",\"href\":\"/api/1.0/gene/DNAJC3\"},\"thresholdValue\":1.0},{\"gene\":{\"symbol\":\"EXTL3\",\"href\":\"/api/1.0/gene/EXTL3\"},\"thresholdValue\":1.0},{\"gene\":{\"symbol\":\"ATP6V0D1\",\"href\":\"/api/1.0/gene/ATP6V0D1\"},\"thresholdValue\":1.0},{\"gene\":{\"symbol\":\"DNAJB11\",\"href\":\"/api/1.0/gene/DNAJB11\"},\"thresholdValue\":1.0},{\"gene\":{\"symbol\":\"DCP2\",\"href\":\"/api/1.0/gene/DCP2\"},\"thresholdValue\":1.0},{\"gene\":{\"symbol\":\"PREB\",\"href\":\"/api/1.0/gene/PREB\"},\"thresholdValue\":1.0},{\"gene\":{\"symbol\":\"SSR1\",\"href\":\"/api/1.0/gene/SSR1\"},\"thresholdValue\":1.0},{\"gene\":{\"symbol\":\"PARN\",\"href\":\"/api/1.0/gene/PARN\"},\"thresholdValue\":1.0},{\"gene\":{\"symbol\":\"SRPR\",\"href\":\"/api/1.0/gene/SRPR\"},\"thresholdValue\":1.0},{\"gene\":{\"symbol\":\"EXOSC6\",\"href\":\"/api/1.0/gene/EXOSC6\"},\"thresholdValue\":1.0},{\"gene\":{\"symbol\":\"CTDSP2\",\"href\":\"/api/1.0/gene/CTDSP2\"},\"thresholdValue\":1.0},{\"gene\":{\"symbol\":\"ARFGAP1\",\"href\":\"/api/1.0/gene/ARFGAP1\"},\"thresholdValue\":1.0},{\"gene\":{\"symbol\":\"EXOSC5\",\"href\":\"/api/1.0/gene/EXOSC5\"},\"thresholdValue\":1.0},{\"gene\":{\"symbol\":\"EXOSC3\",\"href\":\"/api/1.0/gene/EXOSC3\"},\"thresholdValue\":1.0},{\"gene\":{\"symbol\":\"SERP1\",\"href\":\"/api/1.0/gene/SERP1\"},\"thresholdValue\":1.0},{\"gene\":{\"symbol\":\"SYVN1\",\"href\":\"/api/1.0/gene/SYVN1\"},\"thresholdValue\":1.0},{\"gene\":{\"symbol\":\"MBTPS2\",\"href\":\"/api/1.0/gene/MBTPS2\"},\"thresholdValue\":1.0},{\"gene\":{\"symbol\":\"TATDN2\",\"href\":\"/api/1.0/gene/TATDN2\"},\"thresholdValue\":1.0},{\"gene\":{\"symbol\":\"HSPA5\",\"href\":\"/api/1.0/gene/HSPA5\"},\"thresholdValue\":1.0},{\"gene\":{\"symbol\":\"DCTN1\",\"href\":\"/api/1.0/gene/DCTN1\"},\"thresholdValue\":1.0},{\"gene\":{\"symbol\":\"KLHDC3\",\"href\":\"/api/1.0/gene/KLHDC3\"},\"thresholdValue\":1.0},{\"gene\":{\"symbol\":\"HYOU1\",\"href\":\"/api/1.0/gene/HYOU1\"},\"thresholdValue\":1.0},{\"gene\":{\"symbol\":\"ATF6\",\"href\":\"/api/1.0/gene/ATF6\"},\"thresholdValue\":1.0},{\"gene\":{\"symbol\":\"CCL2\",\"href\":\"/api/1.0/gene/CCL2\"},\"thresholdValue\":1.0},{\"gene\":{\"symbol\":\"XBP1\",\"href\":\"/api/1.0/gene/XBP1\"},\"thresholdValue\":1.0},{\"gene\":{\"symbol\":\"DIS3\",\"href\":\"/api/1.0/gene/DIS3\"},\"thresholdValue\":1.0},{\"gene\":{\"symbol\":\"SEC31A\",\"href\":\"/api/1.0/gene/SEC31A\"},\"thresholdValue\":1.0},{\"gene\":{\"symbol\":\"CXCL8\",\"href\":\"/api/1.0/gene/CXCL8\"},\"thresholdValue\":1.0},{\"gene\":{\"symbol\":\"YIF1A\",\"href\":\"/api/1.0/gene/YIF1A\"},\"thresholdValue\":1.0},{\"gene\":{\"symbol\":\"ERN1\",\"href\":\"/api/1.0/gene/ERN1\"},\"thresholdValue\":1.0},{\"gene\":{\"symbol\":\"NFYC\",\"href\":\"/api/1.0/gene/NFYC\"},\"thresholdValue\":1.0},{\"gene\":{\"symbol\":\"ATF4\",\"href\":\"/api/1.0/gene/ATF4\"},\"thresholdValue\":1.0},{\"gene\":{\"symbol\":\"ASNS\",\"href\":\"/api/1.0/gene/ASNS\"},\"thresholdValue\":1.0},{\"gene\":{\"symbol\":\"NFYB\",\"href\":\"/api/1.0/gene/NFYB\"},\"thresholdValue\":1.0},{\"gene\":{\"symbol\":\"WFS1\",\"href\":\"/api/1.0/gene/WFS1\"},\"thresholdValue\":1.0},{\"gene\":{\"symbol\":\"SHC1\",\"href\":\"/api/1.0/gene/SHC1\"},\"thresholdValue\":1.0},{\"gene\":{\"symbol\":\"EIF2S1\",\"href\":\"/api/1.0/gene/EIF2S1\"},\"thresholdValue\":1.0},{\"gene\":{\"symbol\":\"FKBP14\",\"href\":\"/api/1.0/gene/FKBP14\"},\"thresholdValue\":1.0},{\"gene\":{\"symbol\":\"CALR\",\"href\":\"/api/1.0/gene/CALR\"},\"thresholdValue\":1.0},{\"gene\":{\"symbol\":\"TSPYL2\",\"href\":\"/api/1.0/gene/TSPYL2\"},\"thresholdValue\":1.0},{\"gene\":{\"symbol\":\"TPP1\",\"href\":\"/api/1.0/gene/TPP1\"},\"thresholdValue\":1.0},{\"gene\":{\"symbol\":\"SULT1A3\",\"href\":\"/api/1.0/gene/SULT1A3\"},\"thresholdValue\":1.0},{\"gene\":{\"symbol\":\"ATF3\",\"href\":\"/api/1.0/gene/ATF3\"},\"thresholdValue\":1.0},{\"gene\":{\"symbol\":\"HDGF\",\"href\":\"/api/1.0/gene/HDGF\"},\"thresholdValue\":1.0},{\"gene\":{\"symbol\":\"TLN1\",\"href\":\"/api/1.0/gene/TLN1\"},\"thresholdValue\":1.0},{\"gene\":{\"symbol\":\"HERPUD1\",\"href\":\"/api/1.0/gene/HERPUD1\"},\"thresholdValue\":1.0},{\"gene\":{\"symbol\":\"WIPI1\",\"href\":\"/api/1.0/gene/WIPI1\"},\"thresholdValue\":1.0},{\"gene\":{\"symbol\":\"EXOSC8\",\"href\":\"/api/1.0/gene/EXOSC8\"},\"thresholdValue\":1.0},{\"gene\":{\"symbol\":\"GOSR2\",\"href\":\"/api/1.0/gene/GOSR2\"},\"thresholdValue\":1.0},{\"gene\":{\"symbol\":\"CXXC1\",\"href\":\"/api/1.0/gene/CXXC1\"},\"thresholdValue\":1.0},{\"gene\":{\"symbol\":\"KHSRP\",\"href\":\"/api/1.0/gene/KHSRP\"},\"thresholdValue\":1.0},{\"gene\":{\"symbol\":\"ADD1\",\"href\":\"/api/1.0/gene/ADD1\"},\"thresholdValue\":1.0},{\"gene\":{\"symbol\":\"NFYA\",\"href\":\"/api/1.0/gene/NFYA\"},\"thresholdValue\":1.0},{\"gene\":{\"symbol\":\"ACADVL\",\"href\":\"/api/1.0/gene/ACADVL\"},\"thresholdValue\":1.0},{\"gene\":{\"symbol\":\"PDIA6\",\"href\":\"/api/1.0/gene/PDIA6\"},\"thresholdValue\":1.0},{\"gene\":{\"symbol\":\"ZBTB17\",\"href\":\"/api/1.0/gene/ZBTB17\"},\"thresholdValue\":1.0},{\"gene\":{\"symbol\":\"DDIT3\",\"href\":\"/api/1.0/gene/DDIT3\"},\"thresholdValue\":1.0},{\"gene\":{\"symbol\":\"EDEM1\",\"href\":\"/api/1.0/gene/EDEM1\"},\"thresholdValue\":1.0},{\"gene\":{\"symbol\":\"PDIA5\",\"href\":\"/api/1.0/gene/PDIA5\"},\"thresholdValue\":1.0},{\"gene\":{\"symbol\":\"KDELR3\",\"href\":\"/api/1.0/gene/KDELR3\"},\"thresholdValue\":1.0},{\"gene\":{\"symbol\":\"EXOSC7\",\"href\":\"/api/1.0/gene/EXOSC7\"},\"thresholdValue\":1.0},{\"gene\":{\"symbol\":\"GSK3A\",\"href\":\"/api/1.0/gene/GSK3A\"},\"thresholdValue\":1.0},{\"gene\":{\"symbol\":\"LMNA\",\"href\":\"/api/1.0/gene/LMNA\"},\"thresholdValue\":1.0},{\"gene\":{\"symbol\":\"MBTPS1\",\"href\":\"/api/1.0/gene/MBTPS1\"},\"thresholdValue\":1.0},{\"gene\":{\"symbol\":\"PPP2R5B\",\"href\":\"/api/1.0/gene/PPP2R5B\"},\"thresholdValue\":1.0},{\"gene\":{\"symbol\":\"DDX11\",\"href\":\"/api/1.0/gene/DDX11\"},\"thresholdValue\":1.0},{\"gene\":{\"symbol\":\"EXOSC9\",\"href\":\"/api/1.0/gene/EXOSC9\"},\"thresholdValue\":1.0},{\"gene\":{\"symbol\":\"EXOSC2\",\"href\":\"/api/1.0/gene/EXOSC2\"},\"thresholdValue\":1.0},{\"gene\":{\"symbol\":\"EXOSC1\",\"href\":\"/api/1.0/gene/EXOSC1\"},\"thresholdValue\":1.0},{\"gene\":{\"symbol\":\"GFPT1\",\"href\":\"/api/1.0/gene/GFPT1\"},\"thresholdValue\":1.0},{\"gene\":{\"symbol\":\"SRPRB\",\"href\":\"/api/1.0/gene/SRPRB\"},\"thresholdValue\":1.0},{\"gene\":{\"symbol\":\"HSP90B1\",\"href\":\"/api/1.0/gene/HSP90B1\"},\"thresholdValue\":1.0},{\"gene\":{\"symbol\":\"MYDGF\",\"href\":\"/api/1.0/gene/MYDGF\"},\"thresholdValue\":1.0},{\"gene\":{\"symbol\":\"CUL7\",\"href\":\"/api/1.0/gene/CUL7\"},\"thresholdValue\":1.0},{\"gene\":{\"symbol\":\"IGFBP1\",\"href\":\"/api/1.0/gene/IGFBP1\"},\"thresholdValue\":1.0},{\"gene\":{\"symbol\":\"DNAJB9\",\"href\":\"/api/1.0/gene/DNAJB9\"},\"thresholdValue\":1.0},{\"gene\":{\"symbol\":\"EXOSC4\",\"href\":\"/api/1.0/gene/EXOSC4\"},\"thresholdValue\":1.0}]},)')"
   ]
  },
  {
   "cell_type": "code",
   "execution_count": 39,
   "metadata": {},
   "outputs": [
    {
     "data": {
      "text/plain": [
       "[':hello:', ':world:']"
      ]
     },
     "execution_count": 39,
     "metadata": {},
     "output_type": "execute_result"
    }
   ],
   "source": [
    "re.findall(r':\\w+:',':hello: :world: hello')"
   ]
  },
  {
   "cell_type": "code",
   "execution_count": 46,
   "metadata": {},
   "outputs": [
    {
     "data": {
      "text/plain": [
       "[':\"PLA2G4B\",',\n",
       " ':\"EIF2AK3\",',\n",
       " ':\"DNAJC3\",',\n",
       " ':\"EXTL3\",',\n",
       " ':\"ATP6V0D1\",',\n",
       " ':\"DNAJB11\",',\n",
       " ':\"DCP2\",',\n",
       " ':\"PREB\",',\n",
       " ':\"SSR1\",',\n",
       " ':\"PARN\",',\n",
       " ':\"SRPR\",',\n",
       " ':\"EXOSC6\",',\n",
       " ':\"CTDSP2\",',\n",
       " ':\"ARFGAP1\",',\n",
       " ':\"EXOSC5\",',\n",
       " ':\"EXOSC3\",',\n",
       " ':\"SERP1\",',\n",
       " ':\"SYVN1\",',\n",
       " ':\"MBTPS2\",',\n",
       " ':\"TATDN2\",',\n",
       " ':\"HSPA5\",',\n",
       " ':\"DCTN1\",',\n",
       " ':\"KLHDC3\",',\n",
       " ':\"HYOU1\",',\n",
       " ':\"ATF6\",',\n",
       " ':\"CCL2\",',\n",
       " ':\"XBP1\",',\n",
       " ':\"DIS3\",',\n",
       " ':\"SEC31A\",',\n",
       " ':\"CXCL8\",',\n",
       " ':\"YIF1A\",',\n",
       " ':\"ERN1\",',\n",
       " ':\"NFYC\",',\n",
       " ':\"ATF4\",',\n",
       " ':\"ASNS\",',\n",
       " ':\"NFYB\",',\n",
       " ':\"WFS1\",',\n",
       " ':\"SHC1\",',\n",
       " ':\"EIF2S1\",',\n",
       " ':\"FKBP14\",',\n",
       " ':\"CALR\",',\n",
       " ':\"TSPYL2\",',\n",
       " ':\"TPP1\",',\n",
       " ':\"SULT1A3\",',\n",
       " ':\"ATF3\",',\n",
       " ':\"HDGF\",',\n",
       " ':\"TLN1\",',\n",
       " ':\"HERPUD1\",',\n",
       " ':\"WIPI1\",',\n",
       " ':\"EXOSC8\",',\n",
       " ':\"GOSR2\",',\n",
       " ':\"CXXC1\",',\n",
       " ':\"KHSRP\",',\n",
       " ':\"ADD1\",',\n",
       " ':\"NFYA\",',\n",
       " ':\"ACADVL\",',\n",
       " ':\"PDIA6\",',\n",
       " ':\"ZBTB17\",',\n",
       " ':\"DDIT3\",',\n",
       " ':\"EDEM1\",',\n",
       " ':\"PDIA5\",',\n",
       " ':\"KDELR3\",',\n",
       " ':\"EXOSC7\",',\n",
       " ':\"GSK3A\",',\n",
       " ':\"LMNA\",',\n",
       " ':\"MBTPS1\",',\n",
       " ':\"PPP2R5B\",',\n",
       " ':\"DDX11\",',\n",
       " ':\"EXOSC9\",',\n",
       " ':\"EXOSC2\",',\n",
       " ':\"EXOSC1\",',\n",
       " ':\"GFPT1\",',\n",
       " ':\"SRPRB\",',\n",
       " ':\"HSP90B1\",',\n",
       " ':\"MYDGF\",',\n",
       " ':\"CUL7\",',\n",
       " ':\"IGFBP1\",',\n",
       " ':\"DNAJB9\",',\n",
       " ':\"EXOSC4\",']"
      ]
     },
     "execution_count": 46,
     "metadata": {},
     "output_type": "execute_result"
    }
   ],
   "source": [
    "re.findall(r':.\\w+.,','{\"attribute\":{\"name\":\"Unfolded Protein Response (UPR)\",\"href\":\"/api/1.0/attribute/Unfolded+Protein+Response+%28UPR%29\"},\"dataset\":{\"name\":\"Reactome Pathways\",\"href\":\"/api/1.0/dataset/Reactome+Pathways\"},\"associations\":[{\"gene\":{\"symbol\":\"PLA2G4B\",\"href\":\"/api/1.0/gene/PLA2G4B\"},\"thresholdValue\":1.0},{\"gene\":{\"symbol\":\"EIF2AK3\",\"href\":\"/api/1.0/gene/EIF2AK3\"},\"thresholdValue\":1.0},{\"gene\":{\"symbol\":\"DNAJC3\",\"href\":\"/api/1.0/gene/DNAJC3\"},\"thresholdValue\":1.0},{\"gene\":{\"symbol\":\"EXTL3\",\"href\":\"/api/1.0/gene/EXTL3\"},\"thresholdValue\":1.0},{\"gene\":{\"symbol\":\"ATP6V0D1\",\"href\":\"/api/1.0/gene/ATP6V0D1\"},\"thresholdValue\":1.0},{\"gene\":{\"symbol\":\"DNAJB11\",\"href\":\"/api/1.0/gene/DNAJB11\"},\"thresholdValue\":1.0},{\"gene\":{\"symbol\":\"DCP2\",\"href\":\"/api/1.0/gene/DCP2\"},\"thresholdValue\":1.0},{\"gene\":{\"symbol\":\"PREB\",\"href\":\"/api/1.0/gene/PREB\"},\"thresholdValue\":1.0},{\"gene\":{\"symbol\":\"SSR1\",\"href\":\"/api/1.0/gene/SSR1\"},\"thresholdValue\":1.0},{\"gene\":{\"symbol\":\"PARN\",\"href\":\"/api/1.0/gene/PARN\"},\"thresholdValue\":1.0},{\"gene\":{\"symbol\":\"SRPR\",\"href\":\"/api/1.0/gene/SRPR\"},\"thresholdValue\":1.0},{\"gene\":{\"symbol\":\"EXOSC6\",\"href\":\"/api/1.0/gene/EXOSC6\"},\"thresholdValue\":1.0},{\"gene\":{\"symbol\":\"CTDSP2\",\"href\":\"/api/1.0/gene/CTDSP2\"},\"thresholdValue\":1.0},{\"gene\":{\"symbol\":\"ARFGAP1\",\"href\":\"/api/1.0/gene/ARFGAP1\"},\"thresholdValue\":1.0},{\"gene\":{\"symbol\":\"EXOSC5\",\"href\":\"/api/1.0/gene/EXOSC5\"},\"thresholdValue\":1.0},{\"gene\":{\"symbol\":\"EXOSC3\",\"href\":\"/api/1.0/gene/EXOSC3\"},\"thresholdValue\":1.0},{\"gene\":{\"symbol\":\"SERP1\",\"href\":\"/api/1.0/gene/SERP1\"},\"thresholdValue\":1.0},{\"gene\":{\"symbol\":\"SYVN1\",\"href\":\"/api/1.0/gene/SYVN1\"},\"thresholdValue\":1.0},{\"gene\":{\"symbol\":\"MBTPS2\",\"href\":\"/api/1.0/gene/MBTPS2\"},\"thresholdValue\":1.0},{\"gene\":{\"symbol\":\"TATDN2\",\"href\":\"/api/1.0/gene/TATDN2\"},\"thresholdValue\":1.0},{\"gene\":{\"symbol\":\"HSPA5\",\"href\":\"/api/1.0/gene/HSPA5\"},\"thresholdValue\":1.0},{\"gene\":{\"symbol\":\"DCTN1\",\"href\":\"/api/1.0/gene/DCTN1\"},\"thresholdValue\":1.0},{\"gene\":{\"symbol\":\"KLHDC3\",\"href\":\"/api/1.0/gene/KLHDC3\"},\"thresholdValue\":1.0},{\"gene\":{\"symbol\":\"HYOU1\",\"href\":\"/api/1.0/gene/HYOU1\"},\"thresholdValue\":1.0},{\"gene\":{\"symbol\":\"ATF6\",\"href\":\"/api/1.0/gene/ATF6\"},\"thresholdValue\":1.0},{\"gene\":{\"symbol\":\"CCL2\",\"href\":\"/api/1.0/gene/CCL2\"},\"thresholdValue\":1.0},{\"gene\":{\"symbol\":\"XBP1\",\"href\":\"/api/1.0/gene/XBP1\"},\"thresholdValue\":1.0},{\"gene\":{\"symbol\":\"DIS3\",\"href\":\"/api/1.0/gene/DIS3\"},\"thresholdValue\":1.0},{\"gene\":{\"symbol\":\"SEC31A\",\"href\":\"/api/1.0/gene/SEC31A\"},\"thresholdValue\":1.0},{\"gene\":{\"symbol\":\"CXCL8\",\"href\":\"/api/1.0/gene/CXCL8\"},\"thresholdValue\":1.0},{\"gene\":{\"symbol\":\"YIF1A\",\"href\":\"/api/1.0/gene/YIF1A\"},\"thresholdValue\":1.0},{\"gene\":{\"symbol\":\"ERN1\",\"href\":\"/api/1.0/gene/ERN1\"},\"thresholdValue\":1.0},{\"gene\":{\"symbol\":\"NFYC\",\"href\":\"/api/1.0/gene/NFYC\"},\"thresholdValue\":1.0},{\"gene\":{\"symbol\":\"ATF4\",\"href\":\"/api/1.0/gene/ATF4\"},\"thresholdValue\":1.0},{\"gene\":{\"symbol\":\"ASNS\",\"href\":\"/api/1.0/gene/ASNS\"},\"thresholdValue\":1.0},{\"gene\":{\"symbol\":\"NFYB\",\"href\":\"/api/1.0/gene/NFYB\"},\"thresholdValue\":1.0},{\"gene\":{\"symbol\":\"WFS1\",\"href\":\"/api/1.0/gene/WFS1\"},\"thresholdValue\":1.0},{\"gene\":{\"symbol\":\"SHC1\",\"href\":\"/api/1.0/gene/SHC1\"},\"thresholdValue\":1.0},{\"gene\":{\"symbol\":\"EIF2S1\",\"href\":\"/api/1.0/gene/EIF2S1\"},\"thresholdValue\":1.0},{\"gene\":{\"symbol\":\"FKBP14\",\"href\":\"/api/1.0/gene/FKBP14\"},\"thresholdValue\":1.0},{\"gene\":{\"symbol\":\"CALR\",\"href\":\"/api/1.0/gene/CALR\"},\"thresholdValue\":1.0},{\"gene\":{\"symbol\":\"TSPYL2\",\"href\":\"/api/1.0/gene/TSPYL2\"},\"thresholdValue\":1.0},{\"gene\":{\"symbol\":\"TPP1\",\"href\":\"/api/1.0/gene/TPP1\"},\"thresholdValue\":1.0},{\"gene\":{\"symbol\":\"SULT1A3\",\"href\":\"/api/1.0/gene/SULT1A3\"},\"thresholdValue\":1.0},{\"gene\":{\"symbol\":\"ATF3\",\"href\":\"/api/1.0/gene/ATF3\"},\"thresholdValue\":1.0},{\"gene\":{\"symbol\":\"HDGF\",\"href\":\"/api/1.0/gene/HDGF\"},\"thresholdValue\":1.0},{\"gene\":{\"symbol\":\"TLN1\",\"href\":\"/api/1.0/gene/TLN1\"},\"thresholdValue\":1.0},{\"gene\":{\"symbol\":\"HERPUD1\",\"href\":\"/api/1.0/gene/HERPUD1\"},\"thresholdValue\":1.0},{\"gene\":{\"symbol\":\"WIPI1\",\"href\":\"/api/1.0/gene/WIPI1\"},\"thresholdValue\":1.0},{\"gene\":{\"symbol\":\"EXOSC8\",\"href\":\"/api/1.0/gene/EXOSC8\"},\"thresholdValue\":1.0},{\"gene\":{\"symbol\":\"GOSR2\",\"href\":\"/api/1.0/gene/GOSR2\"},\"thresholdValue\":1.0},{\"gene\":{\"symbol\":\"CXXC1\",\"href\":\"/api/1.0/gene/CXXC1\"},\"thresholdValue\":1.0},{\"gene\":{\"symbol\":\"KHSRP\",\"href\":\"/api/1.0/gene/KHSRP\"},\"thresholdValue\":1.0},{\"gene\":{\"symbol\":\"ADD1\",\"href\":\"/api/1.0/gene/ADD1\"},\"thresholdValue\":1.0},{\"gene\":{\"symbol\":\"NFYA\",\"href\":\"/api/1.0/gene/NFYA\"},\"thresholdValue\":1.0},{\"gene\":{\"symbol\":\"ACADVL\",\"href\":\"/api/1.0/gene/ACADVL\"},\"thresholdValue\":1.0},{\"gene\":{\"symbol\":\"PDIA6\",\"href\":\"/api/1.0/gene/PDIA6\"},\"thresholdValue\":1.0},{\"gene\":{\"symbol\":\"ZBTB17\",\"href\":\"/api/1.0/gene/ZBTB17\"},\"thresholdValue\":1.0},{\"gene\":{\"symbol\":\"DDIT3\",\"href\":\"/api/1.0/gene/DDIT3\"},\"thresholdValue\":1.0},{\"gene\":{\"symbol\":\"EDEM1\",\"href\":\"/api/1.0/gene/EDEM1\"},\"thresholdValue\":1.0},{\"gene\":{\"symbol\":\"PDIA5\",\"href\":\"/api/1.0/gene/PDIA5\"},\"thresholdValue\":1.0},{\"gene\":{\"symbol\":\"KDELR3\",\"href\":\"/api/1.0/gene/KDELR3\"},\"thresholdValue\":1.0},{\"gene\":{\"symbol\":\"EXOSC7\",\"href\":\"/api/1.0/gene/EXOSC7\"},\"thresholdValue\":1.0},{\"gene\":{\"symbol\":\"GSK3A\",\"href\":\"/api/1.0/gene/GSK3A\"},\"thresholdValue\":1.0},{\"gene\":{\"symbol\":\"LMNA\",\"href\":\"/api/1.0/gene/LMNA\"},\"thresholdValue\":1.0},{\"gene\":{\"symbol\":\"MBTPS1\",\"href\":\"/api/1.0/gene/MBTPS1\"},\"thresholdValue\":1.0},{\"gene\":{\"symbol\":\"PPP2R5B\",\"href\":\"/api/1.0/gene/PPP2R5B\"},\"thresholdValue\":1.0},{\"gene\":{\"symbol\":\"DDX11\",\"href\":\"/api/1.0/gene/DDX11\"},\"thresholdValue\":1.0},{\"gene\":{\"symbol\":\"EXOSC9\",\"href\":\"/api/1.0/gene/EXOSC9\"},\"thresholdValue\":1.0},{\"gene\":{\"symbol\":\"EXOSC2\",\"href\":\"/api/1.0/gene/EXOSC2\"},\"thresholdValue\":1.0},{\"gene\":{\"symbol\":\"EXOSC1\",\"href\":\"/api/1.0/gene/EXOSC1\"},\"thresholdValue\":1.0},{\"gene\":{\"symbol\":\"GFPT1\",\"href\":\"/api/1.0/gene/GFPT1\"},\"thresholdValue\":1.0},{\"gene\":{\"symbol\":\"SRPRB\",\"href\":\"/api/1.0/gene/SRPRB\"},\"thresholdValue\":1.0},{\"gene\":{\"symbol\":\"HSP90B1\",\"href\":\"/api/1.0/gene/HSP90B1\"},\"thresholdValue\":1.0},{\"gene\":{\"symbol\":\"MYDGF\",\"href\":\"/api/1.0/gene/MYDGF\"},\"thresholdValue\":1.0},{\"gene\":{\"symbol\":\"CUL7\",\"href\":\"/api/1.0/gene/CUL7\"},\"thresholdValue\":1.0},{\"gene\":{\"symbol\":\"IGFBP1\",\"href\":\"/api/1.0/gene/IGFBP1\"},\"thresholdValue\":1.0},{\"gene\":{\"symbol\":\"DNAJB9\",\"href\":\"/api/1.0/gene/DNAJB9\"},\"thresholdValue\":1.0},{\"gene\":{\"symbol\":\"EXOSC4\",\"href\":\"/api/1.0/gene/EXOSC4\"},\"thresholdValue\":1.0}]}')"
   ]
  },
  {
   "cell_type": "code",
   "execution_count": 49,
   "metadata": {},
   "outputs": [],
   "source": [
    "proteins_raw = re.findall(r':.\\w+.,','{\"attribute\":{\"name\":\"Unfolded Protein Response (UPR)\",\"href\":\"/api/1.0/attribute/Unfolded+Protein+Response+%28UPR%29\"},\"dataset\":{\"name\":\"Reactome Pathways\",\"href\":\"/api/1.0/dataset/Reactome+Pathways\"},\"associations\":[{\"gene\":{\"symbol\":\"PLA2G4B\",\"href\":\"/api/1.0/gene/PLA2G4B\"},\"thresholdValue\":1.0},{\"gene\":{\"symbol\":\"EIF2AK3\",\"href\":\"/api/1.0/gene/EIF2AK3\"},\"thresholdValue\":1.0},{\"gene\":{\"symbol\":\"DNAJC3\",\"href\":\"/api/1.0/gene/DNAJC3\"},\"thresholdValue\":1.0},{\"gene\":{\"symbol\":\"EXTL3\",\"href\":\"/api/1.0/gene/EXTL3\"},\"thresholdValue\":1.0},{\"gene\":{\"symbol\":\"ATP6V0D1\",\"href\":\"/api/1.0/gene/ATP6V0D1\"},\"thresholdValue\":1.0},{\"gene\":{\"symbol\":\"DNAJB11\",\"href\":\"/api/1.0/gene/DNAJB11\"},\"thresholdValue\":1.0},{\"gene\":{\"symbol\":\"DCP2\",\"href\":\"/api/1.0/gene/DCP2\"},\"thresholdValue\":1.0},{\"gene\":{\"symbol\":\"PREB\",\"href\":\"/api/1.0/gene/PREB\"},\"thresholdValue\":1.0},{\"gene\":{\"symbol\":\"SSR1\",\"href\":\"/api/1.0/gene/SSR1\"},\"thresholdValue\":1.0},{\"gene\":{\"symbol\":\"PARN\",\"href\":\"/api/1.0/gene/PARN\"},\"thresholdValue\":1.0},{\"gene\":{\"symbol\":\"SRPR\",\"href\":\"/api/1.0/gene/SRPR\"},\"thresholdValue\":1.0},{\"gene\":{\"symbol\":\"EXOSC6\",\"href\":\"/api/1.0/gene/EXOSC6\"},\"thresholdValue\":1.0},{\"gene\":{\"symbol\":\"CTDSP2\",\"href\":\"/api/1.0/gene/CTDSP2\"},\"thresholdValue\":1.0},{\"gene\":{\"symbol\":\"ARFGAP1\",\"href\":\"/api/1.0/gene/ARFGAP1\"},\"thresholdValue\":1.0},{\"gene\":{\"symbol\":\"EXOSC5\",\"href\":\"/api/1.0/gene/EXOSC5\"},\"thresholdValue\":1.0},{\"gene\":{\"symbol\":\"EXOSC3\",\"href\":\"/api/1.0/gene/EXOSC3\"},\"thresholdValue\":1.0},{\"gene\":{\"symbol\":\"SERP1\",\"href\":\"/api/1.0/gene/SERP1\"},\"thresholdValue\":1.0},{\"gene\":{\"symbol\":\"SYVN1\",\"href\":\"/api/1.0/gene/SYVN1\"},\"thresholdValue\":1.0},{\"gene\":{\"symbol\":\"MBTPS2\",\"href\":\"/api/1.0/gene/MBTPS2\"},\"thresholdValue\":1.0},{\"gene\":{\"symbol\":\"TATDN2\",\"href\":\"/api/1.0/gene/TATDN2\"},\"thresholdValue\":1.0},{\"gene\":{\"symbol\":\"HSPA5\",\"href\":\"/api/1.0/gene/HSPA5\"},\"thresholdValue\":1.0},{\"gene\":{\"symbol\":\"DCTN1\",\"href\":\"/api/1.0/gene/DCTN1\"},\"thresholdValue\":1.0},{\"gene\":{\"symbol\":\"KLHDC3\",\"href\":\"/api/1.0/gene/KLHDC3\"},\"thresholdValue\":1.0},{\"gene\":{\"symbol\":\"HYOU1\",\"href\":\"/api/1.0/gene/HYOU1\"},\"thresholdValue\":1.0},{\"gene\":{\"symbol\":\"ATF6\",\"href\":\"/api/1.0/gene/ATF6\"},\"thresholdValue\":1.0},{\"gene\":{\"symbol\":\"CCL2\",\"href\":\"/api/1.0/gene/CCL2\"},\"thresholdValue\":1.0},{\"gene\":{\"symbol\":\"XBP1\",\"href\":\"/api/1.0/gene/XBP1\"},\"thresholdValue\":1.0},{\"gene\":{\"symbol\":\"DIS3\",\"href\":\"/api/1.0/gene/DIS3\"},\"thresholdValue\":1.0},{\"gene\":{\"symbol\":\"SEC31A\",\"href\":\"/api/1.0/gene/SEC31A\"},\"thresholdValue\":1.0},{\"gene\":{\"symbol\":\"CXCL8\",\"href\":\"/api/1.0/gene/CXCL8\"},\"thresholdValue\":1.0},{\"gene\":{\"symbol\":\"YIF1A\",\"href\":\"/api/1.0/gene/YIF1A\"},\"thresholdValue\":1.0},{\"gene\":{\"symbol\":\"ERN1\",\"href\":\"/api/1.0/gene/ERN1\"},\"thresholdValue\":1.0},{\"gene\":{\"symbol\":\"NFYC\",\"href\":\"/api/1.0/gene/NFYC\"},\"thresholdValue\":1.0},{\"gene\":{\"symbol\":\"ATF4\",\"href\":\"/api/1.0/gene/ATF4\"},\"thresholdValue\":1.0},{\"gene\":{\"symbol\":\"ASNS\",\"href\":\"/api/1.0/gene/ASNS\"},\"thresholdValue\":1.0},{\"gene\":{\"symbol\":\"NFYB\",\"href\":\"/api/1.0/gene/NFYB\"},\"thresholdValue\":1.0},{\"gene\":{\"symbol\":\"WFS1\",\"href\":\"/api/1.0/gene/WFS1\"},\"thresholdValue\":1.0},{\"gene\":{\"symbol\":\"SHC1\",\"href\":\"/api/1.0/gene/SHC1\"},\"thresholdValue\":1.0},{\"gene\":{\"symbol\":\"EIF2S1\",\"href\":\"/api/1.0/gene/EIF2S1\"},\"thresholdValue\":1.0},{\"gene\":{\"symbol\":\"FKBP14\",\"href\":\"/api/1.0/gene/FKBP14\"},\"thresholdValue\":1.0},{\"gene\":{\"symbol\":\"CALR\",\"href\":\"/api/1.0/gene/CALR\"},\"thresholdValue\":1.0},{\"gene\":{\"symbol\":\"TSPYL2\",\"href\":\"/api/1.0/gene/TSPYL2\"},\"thresholdValue\":1.0},{\"gene\":{\"symbol\":\"TPP1\",\"href\":\"/api/1.0/gene/TPP1\"},\"thresholdValue\":1.0},{\"gene\":{\"symbol\":\"SULT1A3\",\"href\":\"/api/1.0/gene/SULT1A3\"},\"thresholdValue\":1.0},{\"gene\":{\"symbol\":\"ATF3\",\"href\":\"/api/1.0/gene/ATF3\"},\"thresholdValue\":1.0},{\"gene\":{\"symbol\":\"HDGF\",\"href\":\"/api/1.0/gene/HDGF\"},\"thresholdValue\":1.0},{\"gene\":{\"symbol\":\"TLN1\",\"href\":\"/api/1.0/gene/TLN1\"},\"thresholdValue\":1.0},{\"gene\":{\"symbol\":\"HERPUD1\",\"href\":\"/api/1.0/gene/HERPUD1\"},\"thresholdValue\":1.0},{\"gene\":{\"symbol\":\"WIPI1\",\"href\":\"/api/1.0/gene/WIPI1\"},\"thresholdValue\":1.0},{\"gene\":{\"symbol\":\"EXOSC8\",\"href\":\"/api/1.0/gene/EXOSC8\"},\"thresholdValue\":1.0},{\"gene\":{\"symbol\":\"GOSR2\",\"href\":\"/api/1.0/gene/GOSR2\"},\"thresholdValue\":1.0},{\"gene\":{\"symbol\":\"CXXC1\",\"href\":\"/api/1.0/gene/CXXC1\"},\"thresholdValue\":1.0},{\"gene\":{\"symbol\":\"KHSRP\",\"href\":\"/api/1.0/gene/KHSRP\"},\"thresholdValue\":1.0},{\"gene\":{\"symbol\":\"ADD1\",\"href\":\"/api/1.0/gene/ADD1\"},\"thresholdValue\":1.0},{\"gene\":{\"symbol\":\"NFYA\",\"href\":\"/api/1.0/gene/NFYA\"},\"thresholdValue\":1.0},{\"gene\":{\"symbol\":\"ACADVL\",\"href\":\"/api/1.0/gene/ACADVL\"},\"thresholdValue\":1.0},{\"gene\":{\"symbol\":\"PDIA6\",\"href\":\"/api/1.0/gene/PDIA6\"},\"thresholdValue\":1.0},{\"gene\":{\"symbol\":\"ZBTB17\",\"href\":\"/api/1.0/gene/ZBTB17\"},\"thresholdValue\":1.0},{\"gene\":{\"symbol\":\"DDIT3\",\"href\":\"/api/1.0/gene/DDIT3\"},\"thresholdValue\":1.0},{\"gene\":{\"symbol\":\"EDEM1\",\"href\":\"/api/1.0/gene/EDEM1\"},\"thresholdValue\":1.0},{\"gene\":{\"symbol\":\"PDIA5\",\"href\":\"/api/1.0/gene/PDIA5\"},\"thresholdValue\":1.0},{\"gene\":{\"symbol\":\"KDELR3\",\"href\":\"/api/1.0/gene/KDELR3\"},\"thresholdValue\":1.0},{\"gene\":{\"symbol\":\"EXOSC7\",\"href\":\"/api/1.0/gene/EXOSC7\"},\"thresholdValue\":1.0},{\"gene\":{\"symbol\":\"GSK3A\",\"href\":\"/api/1.0/gene/GSK3A\"},\"thresholdValue\":1.0},{\"gene\":{\"symbol\":\"LMNA\",\"href\":\"/api/1.0/gene/LMNA\"},\"thresholdValue\":1.0},{\"gene\":{\"symbol\":\"MBTPS1\",\"href\":\"/api/1.0/gene/MBTPS1\"},\"thresholdValue\":1.0},{\"gene\":{\"symbol\":\"PPP2R5B\",\"href\":\"/api/1.0/gene/PPP2R5B\"},\"thresholdValue\":1.0},{\"gene\":{\"symbol\":\"DDX11\",\"href\":\"/api/1.0/gene/DDX11\"},\"thresholdValue\":1.0},{\"gene\":{\"symbol\":\"EXOSC9\",\"href\":\"/api/1.0/gene/EXOSC9\"},\"thresholdValue\":1.0},{\"gene\":{\"symbol\":\"EXOSC2\",\"href\":\"/api/1.0/gene/EXOSC2\"},\"thresholdValue\":1.0},{\"gene\":{\"symbol\":\"EXOSC1\",\"href\":\"/api/1.0/gene/EXOSC1\"},\"thresholdValue\":1.0},{\"gene\":{\"symbol\":\"GFPT1\",\"href\":\"/api/1.0/gene/GFPT1\"},\"thresholdValue\":1.0},{\"gene\":{\"symbol\":\"SRPRB\",\"href\":\"/api/1.0/gene/SRPRB\"},\"thresholdValue\":1.0},{\"gene\":{\"symbol\":\"HSP90B1\",\"href\":\"/api/1.0/gene/HSP90B1\"},\"thresholdValue\":1.0},{\"gene\":{\"symbol\":\"MYDGF\",\"href\":\"/api/1.0/gene/MYDGF\"},\"thresholdValue\":1.0},{\"gene\":{\"symbol\":\"CUL7\",\"href\":\"/api/1.0/gene/CUL7\"},\"thresholdValue\":1.0},{\"gene\":{\"symbol\":\"IGFBP1\",\"href\":\"/api/1.0/gene/IGFBP1\"},\"thresholdValue\":1.0},{\"gene\":{\"symbol\":\"DNAJB9\",\"href\":\"/api/1.0/gene/DNAJB9\"},\"thresholdValue\":1.0},{\"gene\":{\"symbol\":\"EXOSC4\",\"href\":\"/api/1.0/gene/EXOSC4\"},\"thresholdValue\":1.0}]}')"
   ]
  },
  {
   "cell_type": "code",
   "execution_count": 50,
   "metadata": {},
   "outputs": [
    {
     "data": {
      "text/plain": [
       "[':\"PLA2G4B\",',\n",
       " ':\"EIF2AK3\",',\n",
       " ':\"DNAJC3\",',\n",
       " ':\"EXTL3\",',\n",
       " ':\"ATP6V0D1\",',\n",
       " ':\"DNAJB11\",',\n",
       " ':\"DCP2\",',\n",
       " ':\"PREB\",',\n",
       " ':\"SSR1\",',\n",
       " ':\"PARN\",',\n",
       " ':\"SRPR\",',\n",
       " ':\"EXOSC6\",',\n",
       " ':\"CTDSP2\",',\n",
       " ':\"ARFGAP1\",',\n",
       " ':\"EXOSC5\",',\n",
       " ':\"EXOSC3\",',\n",
       " ':\"SERP1\",',\n",
       " ':\"SYVN1\",',\n",
       " ':\"MBTPS2\",',\n",
       " ':\"TATDN2\",',\n",
       " ':\"HSPA5\",',\n",
       " ':\"DCTN1\",',\n",
       " ':\"KLHDC3\",',\n",
       " ':\"HYOU1\",',\n",
       " ':\"ATF6\",',\n",
       " ':\"CCL2\",',\n",
       " ':\"XBP1\",',\n",
       " ':\"DIS3\",',\n",
       " ':\"SEC31A\",',\n",
       " ':\"CXCL8\",',\n",
       " ':\"YIF1A\",',\n",
       " ':\"ERN1\",',\n",
       " ':\"NFYC\",',\n",
       " ':\"ATF4\",',\n",
       " ':\"ASNS\",',\n",
       " ':\"NFYB\",',\n",
       " ':\"WFS1\",',\n",
       " ':\"SHC1\",',\n",
       " ':\"EIF2S1\",',\n",
       " ':\"FKBP14\",',\n",
       " ':\"CALR\",',\n",
       " ':\"TSPYL2\",',\n",
       " ':\"TPP1\",',\n",
       " ':\"SULT1A3\",',\n",
       " ':\"ATF3\",',\n",
       " ':\"HDGF\",',\n",
       " ':\"TLN1\",',\n",
       " ':\"HERPUD1\",',\n",
       " ':\"WIPI1\",',\n",
       " ':\"EXOSC8\",',\n",
       " ':\"GOSR2\",',\n",
       " ':\"CXXC1\",',\n",
       " ':\"KHSRP\",',\n",
       " ':\"ADD1\",',\n",
       " ':\"NFYA\",',\n",
       " ':\"ACADVL\",',\n",
       " ':\"PDIA6\",',\n",
       " ':\"ZBTB17\",',\n",
       " ':\"DDIT3\",',\n",
       " ':\"EDEM1\",',\n",
       " ':\"PDIA5\",',\n",
       " ':\"KDELR3\",',\n",
       " ':\"EXOSC7\",',\n",
       " ':\"GSK3A\",',\n",
       " ':\"LMNA\",',\n",
       " ':\"MBTPS1\",',\n",
       " ':\"PPP2R5B\",',\n",
       " ':\"DDX11\",',\n",
       " ':\"EXOSC9\",',\n",
       " ':\"EXOSC2\",',\n",
       " ':\"EXOSC1\",',\n",
       " ':\"GFPT1\",',\n",
       " ':\"SRPRB\",',\n",
       " ':\"HSP90B1\",',\n",
       " ':\"MYDGF\",',\n",
       " ':\"CUL7\",',\n",
       " ':\"IGFBP1\",',\n",
       " ':\"DNAJB9\",',\n",
       " ':\"EXOSC4\",']"
      ]
     },
     "execution_count": 50,
     "metadata": {},
     "output_type": "execute_result"
    }
   ],
   "source": [
    "proteins_raw"
   ]
  },
  {
   "cell_type": "code",
   "execution_count": 48,
   "metadata": {},
   "outputs": [
    {
     "data": {
      "text/plain": [
       "[':\"PLA2G4B\",',\n",
       " ':\"EIF2AK3\",',\n",
       " ':\"DNAJC3\",',\n",
       " ':\"EXTL3\",',\n",
       " ':\"ATP6V0D1\",',\n",
       " ':\"DNAJB11\",',\n",
       " ':\"DCP2\",',\n",
       " ':\"PREB\",',\n",
       " ':\"SSR1\",',\n",
       " ':\"PARN\",',\n",
       " ':\"SRPR\",',\n",
       " ':\"EXOSC6\",',\n",
       " ':\"CTDSP2\",',\n",
       " ':\"ARFGAP1\",',\n",
       " ':\"EXOSC5\",',\n",
       " ':\"EXOSC3\",',\n",
       " ':\"SERP1\",',\n",
       " ':\"SYVN1\",',\n",
       " ':\"MBTPS2\",',\n",
       " ':\"TATDN2\",',\n",
       " ':\"HSPA5\",',\n",
       " ':\"DCTN1\",',\n",
       " ':\"KLHDC3\",',\n",
       " ':\"HYOU1\",',\n",
       " ':\"ATF6\",',\n",
       " ':\"CCL2\",',\n",
       " ':\"XBP1\",',\n",
       " ':\"DIS3\",',\n",
       " ':\"SEC31A\",',\n",
       " ':\"CXCL8\",',\n",
       " ':\"YIF1A\",',\n",
       " ':\"ERN1\",',\n",
       " ':\"NFYC\",',\n",
       " ':\"ATF4\",',\n",
       " ':\"ASNS\",',\n",
       " ':\"NFYB\",',\n",
       " ':\"WFS1\",',\n",
       " ':\"SHC1\",',\n",
       " ':\"EIF2S1\",',\n",
       " ':\"FKBP14\",',\n",
       " ':\"CALR\",',\n",
       " ':\"TSPYL2\",',\n",
       " ':\"TPP1\",',\n",
       " ':\"SULT1A3\",',\n",
       " ':\"ATF3\",',\n",
       " ':\"HDGF\",',\n",
       " ':\"TLN1\",',\n",
       " ':\"HERPUD1\",',\n",
       " ':\"WIPI1\",',\n",
       " ':\"EXOSC8\",',\n",
       " ':\"GOSR2\",',\n",
       " ':\"CXXC1\",',\n",
       " ':\"KHSRP\",',\n",
       " ':\"ADD1\",',\n",
       " ':\"NFYA\",',\n",
       " ':\"ACADVL\",',\n",
       " ':\"PDIA6\",',\n",
       " ':\"ZBTB17\",',\n",
       " ':\"DDIT3\",',\n",
       " ':\"EDEM1\",',\n",
       " ':\"PDIA5\",',\n",
       " ':\"KDELR3\",',\n",
       " ':\"EXOSC7\",',\n",
       " ':\"GSK3A\",',\n",
       " ':\"LMNA\",',\n",
       " ':\"MBTPS1\",',\n",
       " ':\"PPP2R5B\",',\n",
       " ':\"DDX11\",',\n",
       " ':\"EXOSC9\",',\n",
       " ':\"EXOSC2\",',\n",
       " ':\"EXOSC1\",',\n",
       " ':\"GFPT1\",',\n",
       " ':\"SRPRB\",',\n",
       " ':\"HSP90B1\",',\n",
       " ':\"MYDGF\",',\n",
       " ':\"CUL7\",',\n",
       " ':\"IGFBP1\",',\n",
       " ':\"DNAJB9\",',\n",
       " ':\"EXOSC4\",']"
      ]
     },
     "execution_count": 48,
     "metadata": {},
     "output_type": "execute_result"
    }
   ],
   "source": [
    "proteins"
   ]
  },
  {
   "cell_type": "code",
   "execution_count": 108,
   "metadata": {},
   "outputs": [
    {
     "ename": "SyntaxError",
     "evalue": "EOL while scanning string literal (<ipython-input-108-e1c9377b3283>, line 1)",
     "output_type": "error",
     "traceback": [
      "\u001b[0;36m  File \u001b[0;32m\"<ipython-input-108-e1c9377b3283>\"\u001b[0;36m, line \u001b[0;32m1\u001b[0m\n\u001b[0;31m    re.findall(r'\\w+','{['\"PLA2G4B\"'\u001b[0m\n\u001b[0m                                    ^\u001b[0m\n\u001b[0;31mSyntaxError\u001b[0m\u001b[0;31m:\u001b[0m EOL while scanning string literal\n"
     ]
    }
   ],
   "source": [
    "re.findall(r'\\w+','{['\"PLA2G4B\"'\n",
    " ':\"EIF2AK3\"'\n",
    " ':\"DNAJC3\"'\n",
    " ':\"EXTL3\"'\n",
    " ':\"ATP6V0D1\"'\n",
    " ':\"DNAJB11\"'\n",
    " ':\"DCP2\"'\n",
    " ':\"PREB\"\n",
    " ':\"SSR1\"'\n",
    " ':\"PARN\"'\n",
    " ':\"SRPR\"'\n",
    " ':\"EXOSC6\"'\n",
    " ':\"CTDSP2\"'\n",
    " ':\"ARFGAP1\"'\n",
    " ':\"EXOSC5\"'\n",
    " ':\"EXOSC3\"'\n",
    " ':\"SERP1\"'\n",
    " ':\"SYVN1\"\n",
    " ':\"MBTPS2\"'\n",
    " ':\"TATDN2\"'\n",
    " ':\"HSPA5\"'\n",
    " ':\"DCTN1\"'\n",
    " ':\"KLHDC3\"'\n",
    " ':\"HYOU1\"'\n",
    " ':\"ATF6\"'\n",
    " ':\"CCL2\"\n",
    " ':\"XBP1\"'\n",
    " ':\"DIS3\"'\n",
    " ':\"SEC31A\"'\n",
    " ':\"CXCL8\"'\n",
    " ':\"YIF1A\"'\n",
    " ':\"ERN1\"'\n",
    " ':\"NFYC\"'\n",
    " ':\"ATF4\"'\n",
    " ':\"ASNS\"'\n",
    " ':\"NFYB\"'\n",
    " ':\"WFS1\"'\n",
    " ':\"SHC1\"'\n",
    " ':\"EIF2S1\"'\n",
    " ':\"FKBP14\"'\n",
    " ':\"CALR\",'\n",
    " ':\"TSPYL2\"'\n",
    " ':\"TPP1\"\n",
    " ':\"SULT1A3\"'\n",
    " ':\"ATF3\"'\n",
    " ':\"HDGF\"'\n",
    " ':\"TLN1\"'\n",
    " ':\"HERPUD1\"'\n",
    " ':\"WIPI1\"'\n",
    " ':\"EXOSC8\"'\n",
    " ':\"GOSR2\"'\n",
    " ':\"CXXC1\"'\n",
    " ':\"KHSRP\"'\n",
    " ':\"ADD1\"'\n",
    " ':\"NFYA\"'\n",
    " ':\"ACADVL\"'\n",
    " ':\"PDIA6\"'\n",
    " ':\"ZBTB17\"'\n",
    " ':\"DDIT3\"'\n",
    " ':\"EDEM1\"'\n",
    " ':\"PDIA5\"'\n",
    " ':\"KDELR3'\n",
    " ':\"EXOSC7\"'\n",
    " ':\"GSK3A\"'\n",
    " ':\"LMNA\"'\n",
    " ':\"MBTPS1\"'\n",
    " ':\"PPP2R5B\n",
    " ':\"DDX11\"'\n",
    " ':\"EXOSC9\"'\n",
    " ':\"EXOSC2\"'\n",
    " ':\"EXOSC1\"'\n",
    " ':\"GFPT1\"'\n",
    " ':\"SRPRB\"'\n",
    " ':\"HSP90B1\"'\n",
    " ':\"MYDGF\"'\n",
    " ':\"CUL7'\n",
    " ':\"IGFBP1\"'\n",
    " ':\"DNAJB9\"'\n",
    " ':\"EXOSC4\"']}')"
   ]
  },
  {
   "cell_type": "code",
   "execution_count": null,
   "metadata": {},
   "outputs": [],
   "source": []
  },
  {
   "cell_type": "code",
   "execution_count": null,
   "metadata": {},
   "outputs": [],
   "source": []
  },
  {
   "cell_type": "code",
   "execution_count": null,
   "metadata": {},
   "outputs": [],
   "source": []
  },
  {
   "cell_type": "code",
   "execution_count": null,
   "metadata": {},
   "outputs": [],
   "source": []
  },
  {
   "cell_type": "code",
   "execution_count": null,
   "metadata": {},
   "outputs": [],
   "source": []
  },
  {
   "cell_type": "code",
   "execution_count": 83,
   "metadata": {},
   "outputs": [
    {
     "data": {
      "text/plain": [
       "79"
      ]
     },
     "execution_count": 83,
     "metadata": {},
     "output_type": "execute_result"
    }
   ],
   "source": [
    "len(proteins_raw)"
   ]
  },
  {
   "cell_type": "code",
   "execution_count": 87,
   "metadata": {},
   "outputs": [],
   "source": [
    "r = re.compile('\\w+')"
   ]
  },
  {
   "cell_type": "code",
   "execution_count": 89,
   "metadata": {},
   "outputs": [
    {
     "data": {
      "text/plain": [
       "[]"
      ]
     },
     "execution_count": 89,
     "metadata": {},
     "output_type": "execute_result"
    }
   ],
   "source": [
    "list(filter(r.match, proteins_raw))"
   ]
  },
  {
   "cell_type": "code",
   "execution_count": 90,
   "metadata": {},
   "outputs": [
    {
     "name": "stdout",
     "output_type": "stream",
     "text": [
      "[':\"PLA2G4B\",', ':\"EIF2AK3\",', ':\"DNAJC3\",', ':\"EXTL3\",', ':\"ATP6V0D1\",', ':\"DNAJB11\",', ':\"DCP2\",', ':\"PREB\",', ':\"SSR1\",', ':\"PARN\",', ':\"SRPR\",', ':\"EXOSC6\",', ':\"CTDSP2\",', ':\"ARFGAP1\",', ':\"EXOSC5\",', ':\"EXOSC3\",', ':\"SERP1\",', ':\"SYVN1\",', ':\"MBTPS2\",', ':\"TATDN2\",', ':\"HSPA5\",', ':\"DCTN1\",', ':\"KLHDC3\",', ':\"HYOU1\",', ':\"ATF6\",', ':\"CCL2\",', ':\"XBP1\",', ':\"DIS3\",', ':\"SEC31A\",', ':\"CXCL8\",', ':\"YIF1A\",', ':\"ERN1\",', ':\"NFYC\",', ':\"ATF4\",', ':\"ASNS\",', ':\"NFYB\",', ':\"WFS1\",', ':\"SHC1\",', ':\"EIF2S1\",', ':\"FKBP14\",', ':\"CALR\",', ':\"TSPYL2\",', ':\"TPP1\",', ':\"SULT1A3\",', ':\"ATF3\",', ':\"HDGF\",', ':\"TLN1\",', ':\"HERPUD1\",', ':\"WIPI1\",', ':\"EXOSC8\",', ':\"GOSR2\",', ':\"CXXC1\",', ':\"KHSRP\",', ':\"ADD1\",', ':\"NFYA\",', ':\"ACADVL\",', ':\"PDIA6\",', ':\"ZBTB17\",', ':\"DDIT3\",', ':\"EDEM1\",', ':\"PDIA5\",', ':\"KDELR3\",', ':\"EXOSC7\",', ':\"GSK3A\",', ':\"LMNA\",', ':\"MBTPS1\",', ':\"PPP2R5B\",', ':\"DDX11\",', ':\"EXOSC9\",', ':\"EXOSC2\",', ':\"EXOSC1\",', ':\"GFPT1\",', ':\"SRPRB\",', ':\"HSP90B1\",', ':\"MYDGF\",', ':\"CUL7\",', ':\"IGFBP1\",', ':\"DNAJB9\",', ':\"EXOSC4\",']\n"
     ]
    }
   ],
   "source": [
    "print(proteins_raw)"
   ]
  },
  {
   "cell_type": "code",
   "execution_count": 92,
   "metadata": {},
   "outputs": [
    {
     "name": "stdout",
     "output_type": "stream",
     "text": [
      "[':\"PLA2G4B\",', ':\"EIF2AK3\",', ':\"DNAJC3\",', ':\"EXTL3\",', ':\"ATP6V0D1\",', ':\"DNAJB11\",', ':\"DCP2\",', ':\"PREB\",', ':\"SSR1\",', ':\"PARN\",', ':\"SRPR\",', ':\"EXOSC6\",', ':\"CTDSP2\",', ':\"ARFGAP1\",', ':\"EXOSC5\",', ':\"EXOSC3\",', ':\"SERP1\",', ':\"SYVN1\",', ':\"MBTPS2\",', ':\"TATDN2\",', ':\"HSPA5\",', ':\"DCTN1\",', ':\"KLHDC3\",', ':\"HYOU1\",', ':\"ATF6\",', ':\"CCL2\",', ':\"XBP1\",', ':\"DIS3\",', ':\"SEC31A\",', ':\"CXCL8\",', ':\"YIF1A\",', ':\"ERN1\",', ':\"NFYC\",', ':\"ATF4\",', ':\"ASNS\",', ':\"NFYB\",', ':\"WFS1\",', ':\"SHC1\",', ':\"EIF2S1\",', ':\"FKBP14\",', ':\"CALR\",', ':\"TSPYL2\",', ':\"TPP1\",', ':\"SULT1A3\",', ':\"ATF3\",', ':\"HDGF\",', ':\"TLN1\",', ':\"HERPUD1\",', ':\"WIPI1\",', ':\"EXOSC8\",', ':\"GOSR2\",', ':\"CXXC1\",', ':\"KHSRP\",', ':\"ADD1\",', ':\"NFYA\",', ':\"ACADVL\",', ':\"PDIA6\",', ':\"ZBTB17\",', ':\"DDIT3\",', ':\"EDEM1\",', ':\"PDIA5\",', ':\"KDELR3\",', ':\"EXOSC7\",', ':\"GSK3A\",', ':\"LMNA\",', ':\"MBTPS1\",', ':\"PPP2R5B\",', ':\"DDX11\",', ':\"EXOSC9\",', ':\"EXOSC2\",', ':\"EXOSC1\",', ':\"GFPT1\",', ':\"SRPRB\",', ':\"HSP90B1\",', ':\"MYDGF\",', ':\"CUL7\",', ':\"IGFBP1\",', ':\"DNAJB9\",', ':\"EXOSC4\",']\n"
     ]
    }
   ],
   "source": [
    "proteins_raw1 = print(proteins_raw)"
   ]
  },
  {
   "cell_type": "code",
   "execution_count": 93,
   "metadata": {},
   "outputs": [],
   "source": [
    "proteins_raw1"
   ]
  },
  {
   "cell_type": "code",
   "execution_count": null,
   "metadata": {},
   "outputs": [],
   "source": []
  },
  {
   "cell_type": "code",
   "execution_count": null,
   "metadata": {},
   "outputs": [],
   "source": []
  },
  {
   "cell_type": "code",
   "execution_count": 98,
   "metadata": {},
   "outputs": [
    {
     "data": {
      "text/plain": [
       "79"
      ]
     },
     "execution_count": 98,
     "metadata": {},
     "output_type": "execute_result"
    }
   ],
   "source": [
    "len(proteins_raw)"
   ]
  },
  {
   "cell_type": "raw",
   "metadata": {},
   "source": []
  },
  {
   "cell_type": "code",
   "execution_count": 99,
   "metadata": {},
   "outputs": [
    {
     "name": "stdout",
     "output_type": "stream",
     "text": [
      "[':\"PLA2G4B\",', ':\"EIF2AK3\",', ':\"DNAJC3\",', ':\"EXTL3\",', ':\"ATP6V0D1\",', ':\"DNAJB11\",', ':\"DCP2\",', ':\"PREB\",', ':\"SSR1\",', ':\"PARN\",', ':\"SRPR\",', ':\"EXOSC6\",', ':\"CTDSP2\",', ':\"ARFGAP1\",', ':\"EXOSC5\",', ':\"EXOSC3\",', ':\"SERP1\",', ':\"SYVN1\",', ':\"MBTPS2\",', ':\"TATDN2\",', ':\"HSPA5\",', ':\"DCTN1\",', ':\"KLHDC3\",', ':\"HYOU1\",', ':\"ATF6\",', ':\"CCL2\",', ':\"XBP1\",', ':\"DIS3\",', ':\"SEC31A\",', ':\"CXCL8\",', ':\"YIF1A\",', ':\"ERN1\",', ':\"NFYC\",', ':\"ATF4\",', ':\"ASNS\",', ':\"NFYB\",', ':\"WFS1\",', ':\"SHC1\",', ':\"EIF2S1\",', ':\"FKBP14\",', ':\"CALR\",', ':\"TSPYL2\",', ':\"TPP1\",', ':\"SULT1A3\",', ':\"ATF3\",', ':\"HDGF\",', ':\"TLN1\",', ':\"HERPUD1\",', ':\"WIPI1\",', ':\"EXOSC8\",', ':\"GOSR2\",', ':\"CXXC1\",', ':\"KHSRP\",', ':\"ADD1\",', ':\"NFYA\",', ':\"ACADVL\",', ':\"PDIA6\",', ':\"ZBTB17\",', ':\"DDIT3\",', ':\"EDEM1\",', ':\"PDIA5\",', ':\"KDELR3\",', ':\"EXOSC7\",', ':\"GSK3A\",', ':\"LMNA\",', ':\"MBTPS1\",', ':\"PPP2R5B\",', ':\"DDX11\",', ':\"EXOSC9\",', ':\"EXOSC2\",', ':\"EXOSC1\",', ':\"GFPT1\",', ':\"SRPRB\",', ':\"HSP90B1\",', ':\"MYDGF\",', ':\"CUL7\",', ':\"IGFBP1\",', ':\"DNAJB9\",', ':\"EXOSC4\",']\n"
     ]
    }
   ],
   "source": [
    "print(proteins_raw)"
   ]
  },
  {
   "cell_type": "code",
   "execution_count": 103,
   "metadata": {},
   "outputs": [
    {
     "data": {
      "text/plain": [
       "['str', 'proteins_raw']"
      ]
     },
     "execution_count": 103,
     "metadata": {},
     "output_type": "execute_result"
    }
   ],
   "source": [
    "re.findall(r'\\w+','str(proteins_raw)')"
   ]
  },
  {
   "cell_type": "code",
   "execution_count": 113,
   "metadata": {},
   "outputs": [],
   "source": [
    "def listtostring():\n",
    "    proteins_raw_str = \" \"\n",
    "    return(proteins_raw_str.join(proteins_raw)) "
   ]
  },
  {
   "cell_type": "code",
   "execution_count": null,
   "metadata": {},
   "outputs": [],
   "source": []
  },
  {
   "cell_type": "code",
   "execution_count": 114,
   "metadata": {},
   "outputs": [
    {
     "ename": "TypeError",
     "evalue": "listtostring() takes 0 positional arguments but 1 was given",
     "output_type": "error",
     "traceback": [
      "\u001b[0;31m---------------------------------------------------------------------------\u001b[0m",
      "\u001b[0;31mTypeError\u001b[0m                                 Traceback (most recent call last)",
      "\u001b[0;32m<ipython-input-114-d60ca2b8b8e1>\u001b[0m in \u001b[0;36m<module>\u001b[0;34m\u001b[0m\n\u001b[0;32m----> 1\u001b[0;31m \u001b[0mprint\u001b[0m\u001b[0;34m(\u001b[0m\u001b[0mlisttostring\u001b[0m\u001b[0;34m(\u001b[0m\u001b[0mproteins_raw\u001b[0m\u001b[0;34m)\u001b[0m\u001b[0;34m)\u001b[0m\u001b[0;34m\u001b[0m\u001b[0;34m\u001b[0m\u001b[0m\n\u001b[0m",
      "\u001b[0;31mTypeError\u001b[0m: listtostring() takes 0 positional arguments but 1 was given"
     ]
    }
   ],
   "source": [
    "print(listtostring(proteins_raw))"
   ]
  },
  {
   "cell_type": "code",
   "execution_count": 115,
   "metadata": {},
   "outputs": [],
   "source": [
    "listToStr = ' '.join([str(elem) for elem in proteins_raw])"
   ]
  },
  {
   "cell_type": "code",
   "execution_count": 131,
   "metadata": {},
   "outputs": [
    {
     "name": "stdout",
     "output_type": "stream",
     "text": [
      ":\"PLA2G4B\", :\"EIF2AK3\", :\"DNAJC3\", :\"EXTL3\", :\"ATP6V0D1\", :\"DNAJB11\", :\"DCP2\", :\"PREB\", :\"SSR1\", :\"PARN\", :\"SRPR\", :\"EXOSC6\", :\"CTDSP2\", :\"ARFGAP1\", :\"EXOSC5\", :\"EXOSC3\", :\"SERP1\", :\"SYVN1\", :\"MBTPS2\", :\"TATDN2\", :\"HSPA5\", :\"DCTN1\", :\"KLHDC3\", :\"HYOU1\", :\"ATF6\", :\"CCL2\", :\"XBP1\", :\"DIS3\", :\"SEC31A\", :\"CXCL8\", :\"YIF1A\", :\"ERN1\", :\"NFYC\", :\"ATF4\", :\"ASNS\", :\"NFYB\", :\"WFS1\", :\"SHC1\", :\"EIF2S1\", :\"FKBP14\", :\"CALR\", :\"TSPYL2\", :\"TPP1\", :\"SULT1A3\", :\"ATF3\", :\"HDGF\", :\"TLN1\", :\"HERPUD1\", :\"WIPI1\", :\"EXOSC8\", :\"GOSR2\", :\"CXXC1\", :\"KHSRP\", :\"ADD1\", :\"NFYA\", :\"ACADVL\", :\"PDIA6\", :\"ZBTB17\", :\"DDIT3\", :\"EDEM1\", :\"PDIA5\", :\"KDELR3\", :\"EXOSC7\", :\"GSK3A\", :\"LMNA\", :\"MBTPS1\", :\"PPP2R5B\", :\"DDX11\", :\"EXOSC9\", :\"EXOSC2\", :\"EXOSC1\", :\"GFPT1\", :\"SRPRB\", :\"HSP90B1\", :\"MYDGF\", :\"CUL7\", :\"IGFBP1\", :\"DNAJB9\", :\"EXOSC4\",\n"
     ]
    }
   ],
   "source": [
    "print(listToStr)"
   ]
  },
  {
   "cell_type": "code",
   "execution_count": 118,
   "metadata": {},
   "outputs": [],
   "source": [
    "proteins_upr = ':\"PLA2G4B\", :\"EIF2AK3\", :\"DNAJC3\", :\"EXTL3\", :\"ATP6V0D1\", :\"DNAJB11\", :\"DCP2\", :\"PREB\", :\"SSR1\", :\"PARN\", :\"SRPR\", :\"EXOSC6\", :\"CTDSP2\", :\"ARFGAP1\", :\"EXOSC5\", :\"EXOSC3\", :\"SERP1\", :\"SYVN1\", :\"MBTPS2\", :\"TATDN2\", :\"HSPA5\", :\"DCTN1\", :\"KLHDC3\", :\"HYOU1\", :\"ATF6\", :\"CCL2\", :\"XBP1\", :\"DIS3\", :\"SEC31A\", :\"CXCL8\", :\"YIF1A\", :\"ERN1\", :\"NFYC\", :\"ATF4\", :\"ASNS\", :\"NFYB\", :\"WFS1\", :\"SHC1\", :\"EIF2S1\", :\"FKBP14\", :\"CALR\", :\"TSPYL2\", :\"TPP1\", :\"SULT1A3\", :\"ATF3\", :\"HDGF\", :\"TLN1\", :\"HERPUD1\", :\"WIPI1\", :\"EXOSC8\", :\"GOSR2\", :\"CXXC1\", :\"KHSRP\", :\"ADD1\", :\"NFYA\", :\"ACADVL\", :\"PDIA6\", :\"ZBTB17\", :\"DDIT3\", :\"EDEM1\", :\"PDIA5\", :\"KDELR3\", :\"EXOSC7\", :\"GSK3A\", :\"LMNA\", :\"MBTPS1\", :\"PPP2R5B\", :\"DDX11\", :\"EXOSC9\", :\"EXOSC2\", :\"EXOSC1\", :\"GFPT1\", :\"SRPRB\", :\"HSP90B1\", :\"MYDGF\", :\"CUL7\", :\"IGFBP1\", :\"DNAJB9\", :\"EXOSC4\",')"
   ]
  },
  {
   "cell_type": "code",
   "execution_count": 119,
   "metadata": {},
   "outputs": [
    {
     "name": "stdout",
     "output_type": "stream",
     "text": [
      "['PLA2G4B', 'EIF2AK3', 'DNAJC3', 'EXTL3', 'ATP6V0D1', 'DNAJB11', 'DCP2', 'PREB', 'SSR1', 'PARN', 'SRPR', 'EXOSC6', 'CTDSP2', 'ARFGAP1', 'EXOSC5', 'EXOSC3', 'SERP1', 'SYVN1', 'MBTPS2', 'TATDN2', 'HSPA5', 'DCTN1', 'KLHDC3', 'HYOU1', 'ATF6', 'CCL2', 'XBP1', 'DIS3', 'SEC31A', 'CXCL8', 'YIF1A', 'ERN1', 'NFYC', 'ATF4', 'ASNS', 'NFYB', 'WFS1', 'SHC1', 'EIF2S1', 'FKBP14', 'CALR', 'TSPYL2', 'TPP1', 'SULT1A3', 'ATF3', 'HDGF', 'TLN1', 'HERPUD1', 'WIPI1', 'EXOSC8', 'GOSR2', 'CXXC1', 'KHSRP', 'ADD1', 'NFYA', 'ACADVL', 'PDIA6', 'ZBTB17', 'DDIT3', 'EDEM1', 'PDIA5', 'KDELR3', 'EXOSC7', 'GSK3A', 'LMNA', 'MBTPS1', 'PPP2R5B', 'DDX11', 'EXOSC9', 'EXOSC2', 'EXOSC1', 'GFPT1', 'SRPRB', 'HSP90B1', 'MYDGF', 'CUL7', 'IGFBP1', 'DNAJB9', 'EXOSC4']\n"
     ]
    }
   ],
   "source": [
    "print(proteins_upr)"
   ]
  },
  {
   "cell_type": "code",
   "execution_count": 128,
   "metadata": {},
   "outputs": [
    {
     "ename": "TypeError",
     "evalue": "write() argument must be str, not list",
     "output_type": "error",
     "traceback": [
      "\u001b[0;31m---------------------------------------------------------------------------\u001b[0m",
      "\u001b[0;31mTypeError\u001b[0m                                 Traceback (most recent call last)",
      "\u001b[0;32m<ipython-input-128-bf48d8531e13>\u001b[0m in \u001b[0;36m<module>\u001b[0;34m\u001b[0m\n\u001b[1;32m      1\u001b[0m \u001b[0;32mwith\u001b[0m \u001b[0mopen\u001b[0m\u001b[0;34m(\u001b[0m\u001b[0;34m\"proteins_upr1.txt\"\u001b[0m\u001b[0;34m,\u001b[0m \u001b[0;34m\"w\"\u001b[0m\u001b[0;34m)\u001b[0m \u001b[0;32mas\u001b[0m \u001b[0moutput\u001b[0m\u001b[0;34m:\u001b[0m\u001b[0;34m\u001b[0m\u001b[0;34m\u001b[0m\u001b[0m\n\u001b[0;32m----> 2\u001b[0;31m     \u001b[0moutput\u001b[0m\u001b[0;34m.\u001b[0m\u001b[0mwrite\u001b[0m\u001b[0;34m(\u001b[0m\u001b[0mlist\u001b[0m\u001b[0;34m(\u001b[0m\u001b[0mproteins_upr\u001b[0m\u001b[0;34m)\u001b[0m\u001b[0;34m)\u001b[0m\u001b[0;34m\u001b[0m\u001b[0;34m\u001b[0m\u001b[0m\n\u001b[0m",
      "\u001b[0;31mTypeError\u001b[0m: write() argument must be str, not list"
     ]
    }
   ],
   "source": [
    "with open(\"proteins_upr1.txt\", \"w\") as output:\n",
    "    output.write(str(proteins_upr))"
   ]
  },
  {
   "cell_type": "code",
   "execution_count": 123,
   "metadata": {},
   "outputs": [
    {
     "name": "stdout",
     "output_type": "stream",
     "text": [
      "['PLA2G4B', 'EIF2AK3', 'DNAJC3', 'EXTL3', 'ATP6V0D1', 'DNAJB11', 'DCP2', 'PREB', 'SSR1', 'PARN', 'SRPR', 'EXOSC6', 'CTDSP2', 'ARFGAP1', 'EXOSC5', 'EXOSC3', 'SERP1', 'SYVN1', 'MBTPS2', 'TATDN2', 'HSPA5', 'DCTN1', 'KLHDC3', 'HYOU1', 'ATF6', 'CCL2', 'XBP1', 'DIS3', 'SEC31A', 'CXCL8', 'YIF1A', 'ERN1', 'NFYC', 'ATF4', 'ASNS', 'NFYB', 'WFS1', 'SHC1', 'EIF2S1', 'FKBP14', 'CALR', 'TSPYL2', 'TPP1', 'SULT1A3', 'ATF3', 'HDGF', 'TLN1', 'HERPUD1', 'WIPI1', 'EXOSC8', 'GOSR2', 'CXXC1', 'KHSRP', 'ADD1', 'NFYA', 'ACADVL', 'PDIA6', 'ZBTB17', 'DDIT3', 'EDEM1', 'PDIA5', 'KDELR3', 'EXOSC7', 'GSK3A', 'LMNA', 'MBTPS1', 'PPP2R5B', 'DDX11', 'EXOSC9', 'EXOSC2', 'EXOSC1', 'GFPT1', 'SRPRB', 'HSP90B1', 'MYDGF', 'CUL7', 'IGFBP1', 'DNAJB9', 'EXOSC4']\n"
     ]
    }
   ],
   "source": [
    "print(proteins_upr)"
   ]
  },
  {
   "cell_type": "code",
   "execution_count": 125,
   "metadata": {},
   "outputs": [],
   "source": [
    "import pandas as pd"
   ]
  },
  {
   "cell_type": "code",
   "execution_count": 126,
   "metadata": {},
   "outputs": [],
   "source": [
    "import numpy as np"
   ]
  },
  {
   "cell_type": "code",
   "execution_count": 127,
   "metadata": {},
   "outputs": [
    {
     "data": {
      "text/plain": [
       "['PLA2G4B',\n",
       " 'EIF2AK3',\n",
       " 'DNAJC3',\n",
       " 'EXTL3',\n",
       " 'ATP6V0D1',\n",
       " 'DNAJB11',\n",
       " 'DCP2',\n",
       " 'PREB',\n",
       " 'SSR1',\n",
       " 'PARN',\n",
       " 'SRPR',\n",
       " 'EXOSC6',\n",
       " 'CTDSP2',\n",
       " 'ARFGAP1',\n",
       " 'EXOSC5',\n",
       " 'EXOSC3',\n",
       " 'SERP1',\n",
       " 'SYVN1',\n",
       " 'MBTPS2',\n",
       " 'TATDN2',\n",
       " 'HSPA5',\n",
       " 'DCTN1',\n",
       " 'KLHDC3',\n",
       " 'HYOU1',\n",
       " 'ATF6',\n",
       " 'CCL2',\n",
       " 'XBP1',\n",
       " 'DIS3',\n",
       " 'SEC31A',\n",
       " 'CXCL8',\n",
       " 'YIF1A',\n",
       " 'ERN1',\n",
       " 'NFYC',\n",
       " 'ATF4',\n",
       " 'ASNS',\n",
       " 'NFYB',\n",
       " 'WFS1',\n",
       " 'SHC1',\n",
       " 'EIF2S1',\n",
       " 'FKBP14',\n",
       " 'CALR',\n",
       " 'TSPYL2',\n",
       " 'TPP1',\n",
       " 'SULT1A3',\n",
       " 'ATF3',\n",
       " 'HDGF',\n",
       " 'TLN1',\n",
       " 'HERPUD1',\n",
       " 'WIPI1',\n",
       " 'EXOSC8',\n",
       " 'GOSR2',\n",
       " 'CXXC1',\n",
       " 'KHSRP',\n",
       " 'ADD1',\n",
       " 'NFYA',\n",
       " 'ACADVL',\n",
       " 'PDIA6',\n",
       " 'ZBTB17',\n",
       " 'DDIT3',\n",
       " 'EDEM1',\n",
       " 'PDIA5',\n",
       " 'KDELR3',\n",
       " 'EXOSC7',\n",
       " 'GSK3A',\n",
       " 'LMNA',\n",
       " 'MBTPS1',\n",
       " 'PPP2R5B',\n",
       " 'DDX11',\n",
       " 'EXOSC9',\n",
       " 'EXOSC2',\n",
       " 'EXOSC1',\n",
       " 'GFPT1',\n",
       " 'SRPRB',\n",
       " 'HSP90B1',\n",
       " 'MYDGF',\n",
       " 'CUL7',\n",
       " 'IGFBP1',\n",
       " 'DNAJB9',\n",
       " 'EXOSC4']"
      ]
     },
     "execution_count": 127,
     "metadata": {},
     "output_type": "execute_result"
    }
   ],
   "source": [
    "proteins_upr"
   ]
  },
  {
   "cell_type": "code",
   "execution_count": 130,
   "metadata": {},
   "outputs": [],
   "source": [
    "import csv\n",
    "with open('upr_proteins.csv', 'w') as upr_proteins:\n",
    "    wr = csv.writer(upr_proteins, quoting=csv.QUOTE_ALL)\n",
    "    wr.writerow(proteins_upr)"
   ]
  },
  {
   "cell_type": "code",
   "execution_count": 132,
   "metadata": {},
   "outputs": [
    {
     "data": {
      "text/plain": [
       "['PLA2G4B',\n",
       " 'EIF2AK3',\n",
       " 'DNAJC3',\n",
       " 'EXTL3',\n",
       " 'ATP6V0D1',\n",
       " 'DNAJB11',\n",
       " 'DCP2',\n",
       " 'PREB',\n",
       " 'SSR1',\n",
       " 'PARN',\n",
       " 'SRPR',\n",
       " 'EXOSC6',\n",
       " 'CTDSP2',\n",
       " 'ARFGAP1',\n",
       " 'EXOSC5',\n",
       " 'EXOSC3',\n",
       " 'SERP1',\n",
       " 'SYVN1',\n",
       " 'MBTPS2',\n",
       " 'TATDN2',\n",
       " 'HSPA5',\n",
       " 'DCTN1',\n",
       " 'KLHDC3',\n",
       " 'HYOU1',\n",
       " 'ATF6',\n",
       " 'CCL2',\n",
       " 'XBP1',\n",
       " 'DIS3',\n",
       " 'SEC31A',\n",
       " 'CXCL8',\n",
       " 'YIF1A',\n",
       " 'ERN1',\n",
       " 'NFYC',\n",
       " 'ATF4',\n",
       " 'ASNS',\n",
       " 'NFYB',\n",
       " 'WFS1',\n",
       " 'SHC1',\n",
       " 'EIF2S1',\n",
       " 'FKBP14',\n",
       " 'CALR',\n",
       " 'TSPYL2',\n",
       " 'TPP1',\n",
       " 'SULT1A3',\n",
       " 'ATF3',\n",
       " 'HDGF',\n",
       " 'TLN1',\n",
       " 'HERPUD1',\n",
       " 'WIPI1',\n",
       " 'EXOSC8',\n",
       " 'GOSR2',\n",
       " 'CXXC1',\n",
       " 'KHSRP',\n",
       " 'ADD1',\n",
       " 'NFYA',\n",
       " 'ACADVL',\n",
       " 'PDIA6',\n",
       " 'ZBTB17',\n",
       " 'DDIT3',\n",
       " 'EDEM1',\n",
       " 'PDIA5',\n",
       " 'KDELR3',\n",
       " 'EXOSC7',\n",
       " 'GSK3A',\n",
       " 'LMNA',\n",
       " 'MBTPS1',\n",
       " 'PPP2R5B',\n",
       " 'DDX11',\n",
       " 'EXOSC9',\n",
       " 'EXOSC2',\n",
       " 'EXOSC1',\n",
       " 'GFPT1',\n",
       " 'SRPRB',\n",
       " 'HSP90B1',\n",
       " 'MYDGF',\n",
       " 'CUL7',\n",
       " 'IGFBP1',\n",
       " 'DNAJB9',\n",
       " 'EXOSC4']"
      ]
     },
     "execution_count": 132,
     "metadata": {},
     "output_type": "execute_result"
    }
   ],
   "source": [
    "proteins_upr"
   ]
  },
  {
   "cell_type": "code",
   "execution_count": null,
   "metadata": {},
   "outputs": [],
   "source": []
  },
  {
   "cell_type": "code",
   "execution_count": null,
   "metadata": {},
   "outputs": [],
   "source": []
  },
  {
   "cell_type": "raw",
   "metadata": {},
   "source": []
  }
 ],
 "metadata": {
  "kernelspec": {
   "display_name": "Python 3",
   "language": "python",
   "name": "python3"
  },
  "language_info": {
   "codemirror_mode": {
    "name": "ipython",
    "version": 3
   },
   "file_extension": ".py",
   "mimetype": "text/x-python",
   "name": "python",
   "nbconvert_exporter": "python",
   "pygments_lexer": "ipython3",
   "version": "3.7.4"
  }
 },
 "nbformat": 4,
 "nbformat_minor": 2
}
