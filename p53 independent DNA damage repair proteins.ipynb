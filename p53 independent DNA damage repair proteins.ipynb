{
 "cells": [
  {
   "cell_type": "code",
   "execution_count": 22,
   "metadata": {},
   "outputs": [],
   "source": [
    "p53_indep_DNA_damage = open(\"p53_indep_DNA_damage.txt\", 'r')\n",
    "import re\n",
    "p53_indep_DNA_damage_raw = re.findall(r':.\\w+.,', p53_indep_DNA_damage.read())\n",
    "listToStr = ' '.join([str(elem) for elem in p53_indep_DNA_damage_raw])\n",
    "p53_indep_DNA_damage = re.findall(r'\\w+',listToStr)\n",
    "import csv\n",
    "with open('p53_indep_DNA_damage.csv', 'w') as p53_indep_DNA_damage1:\n",
    "    wr = csv.writer(p53_indep_DNA_damage1, quoting=csv.QUOTE_ALL)\n",
    "    wr.writerow(p53_indep_DNA_damage)"
   ]
  },
  {
   "cell_type": "code",
   "execution_count": 4,
   "metadata": {},
   "outputs": [],
   "source": []
  },
  {
   "cell_type": "code",
   "execution_count": 17,
   "metadata": {},
   "outputs": [
    {
     "name": "stdout",
     "output_type": "stream",
     "text": [
      "{\"attribute\":{\"name\":\"p53-Independent DNA Damage Response\",\"href\":\"/api/1.0/attribute/p53-Independent+DNA+Damage+Response\"},\"dataset\":{\"name\":\"Reactome Pathways\",\"href\":\"/api/1.0/dataset/Reactome+Pathways\"},\"associations\":[{\"gene\":{\"symbol\":\"PSMA3\",\"href\":\"/api/1.0/gene/PSMA3\"},\"thresholdValue\":1.0},{\"gene\":{\"symbol\":\"PSME3\",\"href\":\"/api/1.0/gene/PSME3\"},\"thresholdValue\":1.0},{\"gene\":{\"symbol\":\"PSMB3\",\"href\":\"/api/1.0/gene/PSMB3\"},\"thresholdValue\":1.0},{\"gene\":{\"symbol\":\"PSMB6\",\"href\":\"/api/1.0/gene/PSMB6\"},\"thresholdValue\":1.0},{\"gene\":{\"symbol\":\"PSMA6\",\"href\":\"/api/1.0/gene/PSMA6\"},\"thresholdValue\":1.0},{\"gene\":{\"symbol\":\"PSMB11\",\"href\":\"/api/1.0/gene/PSMB11\"},\"thresholdValue\":1.0},{\"gene\":{\"symbol\":\"PSMD9\",\"href\":\"/api/1.0/gene/PSMD9\"},\"thresholdValue\":1.0},{\"gene\":{\"symbol\":\"PSMB7\",\"href\":\"/api/1.0/gene/PSMB7\"},\"thresholdValue\":1.0},{\"gene\":{\"symbol\":\"UBA52\",\"href\":\"/api/1.0/gene/UBA52\"},\"thresholdValue\":1.0},{\"gene\":{\"symbol\":\"PSMB4\",\"href\":\"/api/1.0/gene/PSMB4\"},\"thresholdValue\":1.0},{\"gene\":{\"symbol\":\"PSMD13\",\"href\":\"/api/1.0/gene/PSMD13\"},\"thresholdValue\":1.0},{\"gene\":{\"symbol\":\"PSMD3\",\"href\":\"/api/1.0/gene/PSMD3\"},\"thresholdValue\":1.0},{\"gene\":{\"symbol\":\"PSMD2\",\"href\":\"/api/1.0/gene/PSMD2\"},\"thresholdValue\":1.0},{\"gene\":{\"symbol\":\"PSMD4\",\"href\":\"/api/1.0/gene/PSMD4\"},\"thresholdValue\":1.0},{\"gene\":{\"symbol\":\"PSME2\",\"href\":\"/api/1.0/gene/PSME2\"},\"thresholdValue\":1.0},{\"gene\":{\"symbol\":\"RPS27A\",\"href\":\"/api/1.0/gene/RPS27A\"},\"thresholdValue\":1.0},{\"gene\":{\"symbol\":\"PSMA5\",\"href\":\"/api/1.0/gene/PSMA5\"},\"thresholdValue\":1.0},{\"gene\":{\"symbol\":\"PSMD8\",\"href\":\"/api/1.0/gene/PSMD8\"},\"thresholdValue\":1.0},{\"gene\":{\"symbol\":\"PSMA4\",\"href\":\"/api/1.0/gene/PSMA4\"},\"thresholdValue\":1.0},{\"gene\":{\"symbol\":\"PSMD5\",\"href\":\"/api/1.0/gene/PSMD5\"},\"thresholdValue\":1.0},{\"gene\":{\"symbol\":\"PSMA8\",\"href\":\"/api/1.0/gene/PSMA8\"},\"thresholdValue\":1.0},{\"gene\":{\"symbol\":\"UBC\",\"href\":\"/api/1.0/gene/UBC\"},\"thresholdValue\":1.0},{\"gene\":{\"symbol\":\"PSMF1\",\"href\":\"/api/1.0/gene/PSMF1\"},\"thresholdValue\":1.0},{\"gene\":{\"symbol\":\"PSMC5\",\"href\":\"/api/1.0/gene/PSMC5\"},\"thresholdValue\":1.0},{\"gene\":{\"symbol\":\"CHEK2\",\"href\":\"/api/1.0/gene/CHEK2\"},\"thresholdValue\":1.0},{\"gene\":{\"symbol\":\"PSMB5\",\"href\":\"/api/1.0/gene/PSMB5\"},\"thresholdValue\":1.0},{\"gene\":{\"symbol\":\"UBB\",\"href\":\"/api/1.0/gene/UBB\"},\"thresholdValue\":1.0},{\"gene\":{\"symbol\":\"PSME1\",\"href\":\"/api/1.0/gene/PSME1\"},\"thresholdValue\":1.0},{\"gene\":{\"symbol\":\"CHEK1\",\"href\":\"/api/1.0/gene/CHEK1\"},\"thresholdValue\":1.0},{\"gene\":{\"symbol\":\"PSMD1\",\"href\":\"/api/1.0/gene/PSMD1\"},\"thresholdValue\":1.0},{\"gene\":{\"symbol\":\"ATM\",\"href\":\"/api/1.0/gene/ATM\"},\"thresholdValue\":1.0},{\"gene\":{\"symbol\":\"PSMA1\",\"href\":\"/api/1.0/gene/PSMA1\"},\"thresholdValue\":1.0},{\"gene\":{\"symbol\":\"PSMC4\",\"href\":\"/api/1.0/gene/PSMC4\"},\"thresholdValue\":1.0},{\"gene\":{\"symbol\":\"PSMC6\",\"href\":\"/api/1.0/gene/PSMC6\"},\"thresholdValue\":1.0},{\"gene\":{\"symbol\":\"PSMC1\",\"href\":\"/api/1.0/gene/PSMC1\"},\"thresholdValue\":1.0},{\"gene\":{\"symbol\":\"PSMD11\",\"href\":\"/api/1.0/gene/PSMD11\"},\"thresholdValue\":1.0},{\"gene\":{\"symbol\":\"PSMD6\",\"href\":\"/api/1.0/gene/PSMD6\"},\"thresholdValue\":1.0},{\"gene\":{\"symbol\":\"PSMD12\",\"href\":\"/api/1.0/gene/PSMD12\"},\"thresholdValue\":1.0},{\"gene\":{\"symbol\":\"PSMC2\",\"href\":\"/api/1.0/gene/PSMC2\"},\"thresholdValue\":1.0},{\"gene\":{\"symbol\":\"PSMB2\",\"href\":\"/api/1.0/gene/PSMB2\"},\"thresholdValue\":1.0},{\"gene\":{\"symbol\":\"PSMD7\",\"href\":\"/api/1.0/gene/PSMD7\"},\"thresholdValue\":1.0},{\"gene\":{\"symbol\":\"PSMA7\",\"href\":\"/api/1.0/gene/PSMA7\"},\"thresholdValue\":1.0},{\"gene\":{\"symbol\":\"PSMD10\",\"href\":\"/api/1.0/gene/PSMD10\"},\"thresholdValue\":1.0},{\"gene\":{\"symbol\":\"PSMB9\",\"href\":\"/api/1.0/gene/PSMB9\"},\"thresholdValue\":1.0},{\"gene\":{\"symbol\":\"PSMC3\",\"href\":\"/api/1.0/gene/PSMC3\"},\"thresholdValue\":1.0},{\"gene\":{\"symbol\":\"PSME4\",\"href\":\"/api/1.0/gene/PSME4\"},\"thresholdValue\":1.0},{\"gene\":{\"symbol\":\"CDC25A\",\"href\":\"/api/1.0/gene/CDC25A\"},\"thresholdValue\":1.0},{\"gene\":{\"symbol\":\"PSMB1\",\"href\":\"/api/1.0/gene/PSMB1\"},\"thresholdValue\":1.0},{\"gene\":{\"symbol\":\"PSMB10\",\"href\":\"/api/1.0/gene/PSMB10\"},\"thresholdValue\":1.0},{\"gene\":{\"symbol\":\"PSMD14\",\"href\":\"/api/1.0/gene/PSMD14\"},\"thresholdValue\":1.0},{\"gene\":{\"symbol\":\"PSMA2\",\"href\":\"/api/1.0/gene/PSMA2\"},\"thresholdValue\":1.0},{\"gene\":{\"symbol\":\"PSMB8\",\"href\":\"/api/1.0/gene/PSMB8\"},\"thresholdValue\":1.0}]}\n",
      "\n"
     ]
    }
   ],
   "source": []
  },
  {
   "cell_type": "code",
   "execution_count": 19,
   "metadata": {},
   "outputs": [
    {
     "name": "stdout",
     "output_type": "stream",
     "text": [
      "None\n"
     ]
    }
   ],
   "source": []
  },
  {
   "cell_type": "code",
   "execution_count": null,
   "metadata": {},
   "outputs": [],
   "source": []
  }
 ],
 "metadata": {
  "kernelspec": {
   "display_name": "Python 3",
   "language": "python",
   "name": "python3"
  },
  "language_info": {
   "codemirror_mode": {
    "name": "ipython",
    "version": 3
   },
   "file_extension": ".py",
   "mimetype": "text/x-python",
   "name": "python",
   "nbconvert_exporter": "python",
   "pygments_lexer": "ipython3",
   "version": "3.7.4"
  }
 },
 "nbformat": 4,
 "nbformat_minor": 2
}
