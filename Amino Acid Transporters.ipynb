{
 "cells": [
  {
   "cell_type": "code",
   "execution_count": 1,
   "metadata": {},
   "outputs": [],
   "source": [
    "AATransporters = open(\"AATransport_proteins.txt\")"
   ]
  },
  {
   "cell_type": "code",
   "execution_count": 2,
   "metadata": {},
   "outputs": [
    {
     "name": "stdout",
     "output_type": "stream",
     "text": [
      "<_io.TextIOWrapper name='AATransport_proteins.txt' mode='r' encoding='UTF-8'>\n"
     ]
    }
   ],
   "source": [
    "print(AATransporters)\n"
   ]
  },
  {
   "cell_type": "code",
   "execution_count": 3,
   "metadata": {},
   "outputs": [
    {
     "name": "stdout",
     "output_type": "stream",
     "text": [
      "{\"attribute\":{\"name\":\"Amino acid and oligopeptide SLC transporters\",\"href\":\"/api/1.0/attribute/Amino+acid+and+oligopeptide+SLC+transporters\"},\"dataset\":{\"name\":\"Reactome Pathways\",\"href\":\"/api/1.0/dataset/Reactome+Pathways\"},\"associations\":[{\"gene\":{\"symbol\":\"SLC6A12\",\"href\":\"/api/1.0/gene/SLC6A12\"},\"thresholdValue\":1.0},{\"gene\":{\"symbol\":\"SLC1A5\",\"href\":\"/api/1.0/gene/SLC1A5\"},\"thresholdValue\":1.0},{\"gene\":{\"symbol\":\"SLC1A4\",\"href\":\"/api/1.0/gene/SLC1A4\"},\"thresholdValue\":1.0},{\"gene\":{\"symbol\":\"SLC1A2\",\"href\":\"/api/1.0/gene/SLC1A2\"},\"thresholdValue\":1.0},{\"gene\":{\"symbol\":\"SLC6A15\",\"href\":\"/api/1.0/gene/SLC6A15\"},\"thresholdValue\":1.0},{\"gene\":{\"symbol\":\"SLC17A6\",\"href\":\"/api/1.0/gene/SLC17A6\"},\"thresholdValue\":1.0},{\"gene\":{\"symbol\":\"SLC25A10\",\"href\":\"/api/1.0/gene/SLC25A10\"},\"thresholdValue\":1.0},{\"gene\":{\"symbol\":\"SLC17A1\",\"href\":\"/api/1.0/gene/SLC17A1\"},\"thresholdValue\":1.0},{\"gene\":{\"symbol\":\"SLC17A8\",\"href\":\"/api/1.0/gene/SLC17A8\"},\"thresholdValue\":1.0},{\"gene\":{\"symbol\":\"SLC3A1\",\"href\":\"/api/1.0/gene/SLC3A1\"},\"thresholdValue\":1.0},{\"gene\":{\"symbol\":\"SLC32A1\",\"href\":\"/api/1.0/gene/SLC32A1\"},\"thresholdValue\":1.0},{\"gene\":{\"symbol\":\"SLC5A5\",\"href\":\"/api/1.0/gene/SLC5A5\"},\"thresholdValue\":1.0},{\"gene\":{\"symbol\":\"SLC38A5\",\"href\":\"/api/1.0/gene/SLC38A5\"},\"thresholdValue\":1.0},{\"gene\":{\"symbol\":\"SLC7A5\",\"href\":\"/api/1.0/gene/SLC7A5\"},\"thresholdValue\":1.0},{\"gene\":{\"symbol\":\"SLC15A1\",\"href\":\"/api/1.0/gene/SLC15A1\"},\"thresholdValue\":1.0},{\"gene\":{\"symbol\":\"SLC7A10\",\"href\":\"/api/1.0/gene/SLC7A10\"},\"thresholdValue\":1.0},{\"gene\":{\"symbol\":\"SLC43A2\",\"href\":\"/api/1.0/gene/SLC43A2\"},\"thresholdValue\":1.0},{\"gene\":{\"symbol\":\"SLC15A3\",\"href\":\"/api/1.0/gene/SLC15A3\"},\"thresholdValue\":1.0},{\"gene\":{\"symbol\":\"SLC17A7\",\"href\":\"/api/1.0/gene/SLC17A7\"},\"thresholdValue\":1.0},{\"gene\":{\"symbol\":\"SLC15A2\",\"href\":\"/api/1.0/gene/SLC15A2\"},\"thresholdValue\":1.0},{\"gene\":{\"symbol\":\"SLC6A18\",\"href\":\"/api/1.0/gene/SLC6A18\"},\"thresholdValue\":1.0},{\"gene\":{\"symbol\":\"SLC36A1\",\"href\":\"/api/1.0/gene/SLC36A1\"},\"thresholdValue\":1.0},{\"gene\":{\"symbol\":\"SLC6A6\",\"href\":\"/api/1.0/gene/SLC6A6\"},\"thresholdValue\":1.0},{\"gene\":{\"symbol\":\"SLC7A2\",\"href\":\"/api/1.0/gene/SLC7A2\"},\"thresholdValue\":1.0},{\"gene\":{\"symbol\":\"SLC17A5\",\"href\":\"/api/1.0/gene/SLC17A5\"},\"thresholdValue\":1.0},{\"gene\":{\"symbol\":\"SLC6A19\",\"href\":\"/api/1.0/gene/SLC6A19\"},\"thresholdValue\":1.0},{\"gene\":{\"symbol\":\"SLC5A8\",\"href\":\"/api/1.0/gene/SLC5A8\"},\"thresholdValue\":1.0},{\"gene\":{\"symbol\":\"SLC38A2\",\"href\":\"/api/1.0/gene/SLC38A2\"},\"thresholdValue\":1.0},{\"gene\":{\"symbol\":\"SLC7A3\",\"href\":\"/api/1.0/gene/SLC7A3\"},\"thresholdValue\":1.0},{\"gene\":{\"symbol\":\"SLC3A2\",\"href\":\"/api/1.0/gene/SLC3A2\"},\"thresholdValue\":1.0},{\"gene\":{\"symbol\":\"SLC1A6\",\"href\":\"/api/1.0/gene/SLC1A6\"},\"thresholdValue\":1.0},{\"gene\":{\"symbol\":\"SLC6A20\",\"href\":\"/api/1.0/gene/SLC6A20\"},\"thresholdValue\":1.0},{\"gene\":{\"symbol\":\"SLC1A1\",\"href\":\"/api/1.0/gene/SLC1A1\"},\"thresholdValue\":1.0},{\"gene\":{\"symbol\":\"SLC16A10\",\"href\":\"/api/1.0/gene/SLC16A10\"},\"thresholdValue\":1.0},{\"gene\":{\"symbol\":\"SLC7A9\",\"href\":\"/api/1.0/gene/SLC7A9\"},\"thresholdValue\":1.0},{\"gene\":{\"symbol\":\"SLC38A4\",\"href\":\"/api/1.0/gene/SLC38A4\"},\"thresholdValue\":1.0},{\"gene\":{\"symbol\":\"SLC43A1\",\"href\":\"/api/1.0/gene/SLC43A1\"},\"thresholdValue\":1.0},{\"gene\":{\"symbol\":\"SLC6A14\",\"href\":\"/api/1.0/gene/SLC6A14\"},\"thresholdValue\":1.0},{\"gene\":{\"symbol\":\"SLC1A7\",\"href\":\"/api/1.0/gene/SLC1A7\"},\"thresholdValue\":1.0},{\"gene\":{\"symbol\":\"SLC7A7\",\"href\":\"/api/1.0/gene/SLC7A7\"},\"thresholdValue\":1.0},{\"gene\":{\"symbol\":\"SLC7A11\",\"href\":\"/api/1.0/gene/SLC7A11\"},\"thresholdValue\":1.0},{\"gene\":{\"symbol\":\"SLC7A6\",\"href\":\"/api/1.0/gene/SLC7A6\"},\"thresholdValue\":1.0},{\"gene\":{\"symbol\":\"SLC36A2\",\"href\":\"/api/1.0/gene/SLC36A2\"},\"thresholdValue\":1.0},{\"gene\":{\"symbol\":\"SLC1A3\",\"href\":\"/api/1.0/gene/SLC1A3\"},\"thresholdValue\":1.0},{\"gene\":{\"symbol\":\"SLC7A1\",\"href\":\"/api/1.0/gene/SLC7A1\"},\"thresholdValue\":1.0},{\"gene\":{\"symbol\":\"SLC38A3\",\"href\":\"/api/1.0/gene/SLC38A3\"},\"thresholdValue\":1.0},{\"gene\":{\"symbol\":\"SLC7A8\",\"href\":\"/api/1.0/gene/SLC7A8\"},\"thresholdValue\":1.0},{\"gene\":{\"symbol\":\"SLC38A1\",\"href\":\"/api/1.0/gene/SLC38A1\"},\"thresholdValue\":1.0},{\"gene\":{\"symbol\":\"SLC15A4\",\"href\":\"/api/1.0/gene/SLC15A4\"},\"thresholdValue\":1.0}]}\n",
      "\n"
     ]
    }
   ],
   "source": [
    "print(AATransporters.read())"
   ]
  },
  {
   "cell_type": "code",
   "execution_count": 5,
   "metadata": {},
   "outputs": [],
   "source": [
    "import re\n",
    "AATransporters_raw = re.findall(r':.\\w+.,','{\"attribute\":{\"name\":\"Amino acid and oligopeptide SLC transporters\",\"href\":\"/api/1.0/attribute/Amino+acid+and+oligopeptide+SLC+transporters\"},\"dataset\":{\"name\":\"Reactome Pathways\",\"href\":\"/api/1.0/dataset/Reactome+Pathways\"},\"associations\":[{\"gene\":{\"symbol\":\"SLC6A12\",\"href\":\"/api/1.0/gene/SLC6A12\"},\"thresholdValue\":1.0},{\"gene\":{\"symbol\":\"SLC1A5\",\"href\":\"/api/1.0/gene/SLC1A5\"},\"thresholdValue\":1.0},{\"gene\":{\"symbol\":\"SLC1A4\",\"href\":\"/api/1.0/gene/SLC1A4\"},\"thresholdValue\":1.0},{\"gene\":{\"symbol\":\"SLC1A2\",\"href\":\"/api/1.0/gene/SLC1A2\"},\"thresholdValue\":1.0},{\"gene\":{\"symbol\":\"SLC6A15\",\"href\":\"/api/1.0/gene/SLC6A15\"},\"thresholdValue\":1.0},{\"gene\":{\"symbol\":\"SLC17A6\",\"href\":\"/api/1.0/gene/SLC17A6\"},\"thresholdValue\":1.0},{\"gene\":{\"symbol\":\"SLC25A10\",\"href\":\"/api/1.0/gene/SLC25A10\"},\"thresholdValue\":1.0},{\"gene\":{\"symbol\":\"SLC17A1\",\"href\":\"/api/1.0/gene/SLC17A1\"},\"thresholdValue\":1.0},{\"gene\":{\"symbol\":\"SLC17A8\",\"href\":\"/api/1.0/gene/SLC17A8\"},\"thresholdValue\":1.0},{\"gene\":{\"symbol\":\"SLC3A1\",\"href\":\"/api/1.0/gene/SLC3A1\"},\"thresholdValue\":1.0},{\"gene\":{\"symbol\":\"SLC32A1\",\"href\":\"/api/1.0/gene/SLC32A1\"},\"thresholdValue\":1.0},{\"gene\":{\"symbol\":\"SLC5A5\",\"href\":\"/api/1.0/gene/SLC5A5\"},\"thresholdValue\":1.0},{\"gene\":{\"symbol\":\"SLC38A5\",\"href\":\"/api/1.0/gene/SLC38A5\"},\"thresholdValue\":1.0},{\"gene\":{\"symbol\":\"SLC7A5\",\"href\":\"/api/1.0/gene/SLC7A5\"},\"thresholdValue\":1.0},{\"gene\":{\"symbol\":\"SLC15A1\",\"href\":\"/api/1.0/gene/SLC15A1\"},\"thresholdValue\":1.0},{\"gene\":{\"symbol\":\"SLC7A10\",\"href\":\"/api/1.0/gene/SLC7A10\"},\"thresholdValue\":1.0},{\"gene\":{\"symbol\":\"SLC43A2\",\"href\":\"/api/1.0/gene/SLC43A2\"},\"thresholdValue\":1.0},{\"gene\":{\"symbol\":\"SLC15A3\",\"href\":\"/api/1.0/gene/SLC15A3\"},\"thresholdValue\":1.0},{\"gene\":{\"symbol\":\"SLC17A7\",\"href\":\"/api/1.0/gene/SLC17A7\"},\"thresholdValue\":1.0},{\"gene\":{\"symbol\":\"SLC15A2\",\"href\":\"/api/1.0/gene/SLC15A2\"},\"thresholdValue\":1.0},{\"gene\":{\"symbol\":\"SLC6A18\",\"href\":\"/api/1.0/gene/SLC6A18\"},\"thresholdValue\":1.0},{\"gene\":{\"symbol\":\"SLC36A1\",\"href\":\"/api/1.0/gene/SLC36A1\"},\"thresholdValue\":1.0},{\"gene\":{\"symbol\":\"SLC6A6\",\"href\":\"/api/1.0/gene/SLC6A6\"},\"thresholdValue\":1.0},{\"gene\":{\"symbol\":\"SLC7A2\",\"href\":\"/api/1.0/gene/SLC7A2\"},\"thresholdValue\":1.0},{\"gene\":{\"symbol\":\"SLC17A5\",\"href\":\"/api/1.0/gene/SLC17A5\"},\"thresholdValue\":1.0},{\"gene\":{\"symbol\":\"SLC6A19\",\"href\":\"/api/1.0/gene/SLC6A19\"},\"thresholdValue\":1.0},{\"gene\":{\"symbol\":\"SLC5A8\",\"href\":\"/api/1.0/gene/SLC5A8\"},\"thresholdValue\":1.0},{\"gene\":{\"symbol\":\"SLC38A2\",\"href\":\"/api/1.0/gene/SLC38A2\"},\"thresholdValue\":1.0},{\"gene\":{\"symbol\":\"SLC7A3\",\"href\":\"/api/1.0/gene/SLC7A3\"},\"thresholdValue\":1.0},{\"gene\":{\"symbol\":\"SLC3A2\",\"href\":\"/api/1.0/gene/SLC3A2\"},\"thresholdValue\":1.0},{\"gene\":{\"symbol\":\"SLC1A6\",\"href\":\"/api/1.0/gene/SLC1A6\"},\"thresholdValue\":1.0},{\"gene\":{\"symbol\":\"SLC6A20\",\"href\":\"/api/1.0/gene/SLC6A20\"},\"thresholdValue\":1.0},{\"gene\":{\"symbol\":\"SLC1A1\",\"href\":\"/api/1.0/gene/SLC1A1\"},\"thresholdValue\":1.0},{\"gene\":{\"symbol\":\"SLC16A10\",\"href\":\"/api/1.0/gene/SLC16A10\"},\"thresholdValue\":1.0},{\"gene\":{\"symbol\":\"SLC7A9\",\"href\":\"/api/1.0/gene/SLC7A9\"},\"thresholdValue\":1.0},{\"gene\":{\"symbol\":\"SLC38A4\",\"href\":\"/api/1.0/gene/SLC38A4\"},\"thresholdValue\":1.0},{\"gene\":{\"symbol\":\"SLC43A1\",\"href\":\"/api/1.0/gene/SLC43A1\"},\"thresholdValue\":1.0},{\"gene\":{\"symbol\":\"SLC6A14\",\"href\":\"/api/1.0/gene/SLC6A14\"},\"thresholdValue\":1.0},{\"gene\":{\"symbol\":\"SLC1A7\",\"href\":\"/api/1.0/gene/SLC1A7\"},\"thresholdValue\":1.0},{\"gene\":{\"symbol\":\"SLC7A7\",\"href\":\"/api/1.0/gene/SLC7A7\"},\"thresholdValue\":1.0},{\"gene\":{\"symbol\":\"SLC7A11\",\"href\":\"/api/1.0/gene/SLC7A11\"},\"thresholdValue\":1.0},{\"gene\":{\"symbol\":\"SLC7A6\",\"href\":\"/api/1.0/gene/SLC7A6\"},\"thresholdValue\":1.0},{\"gene\":{\"symbol\":\"SLC36A2\",\"href\":\"/api/1.0/gene/SLC36A2\"},\"thresholdValue\":1.0},{\"gene\":{\"symbol\":\"SLC1A3\",\"href\":\"/api/1.0/gene/SLC1A3\"},\"thresholdValue\":1.0},{\"gene\":{\"symbol\":\"SLC7A1\",\"href\":\"/api/1.0/gene/SLC7A1\"},\"thresholdValue\":1.0},{\"gene\":{\"symbol\":\"SLC38A3\",\"href\":\"/api/1.0/gene/SLC38A3\"},\"thresholdValue\":1.0},{\"gene\":{\"symbol\":\"SLC7A8\",\"href\":\"/api/1.0/gene/SLC7A8\"},\"thresholdValue\":1.0},{\"gene\":{\"symbol\":\"SLC38A1\",\"href\":\"/api/1.0/gene/SLC38A1\"},\"thresholdValue\":1.0},{\"gene\":{\"symbol\":\"SLC15A4\",\"href\":\"/api/1.0/gene/SLC15A4\"},\"thresholdValue\":1.0}]}')"
   ]
  },
  {
   "cell_type": "code",
   "execution_count": 6,
   "metadata": {},
   "outputs": [
    {
     "name": "stdout",
     "output_type": "stream",
     "text": [
      "[':\"SLC6A12\",', ':\"SLC1A5\",', ':\"SLC1A4\",', ':\"SLC1A2\",', ':\"SLC6A15\",', ':\"SLC17A6\",', ':\"SLC25A10\",', ':\"SLC17A1\",', ':\"SLC17A8\",', ':\"SLC3A1\",', ':\"SLC32A1\",', ':\"SLC5A5\",', ':\"SLC38A5\",', ':\"SLC7A5\",', ':\"SLC15A1\",', ':\"SLC7A10\",', ':\"SLC43A2\",', ':\"SLC15A3\",', ':\"SLC17A7\",', ':\"SLC15A2\",', ':\"SLC6A18\",', ':\"SLC36A1\",', ':\"SLC6A6\",', ':\"SLC7A2\",', ':\"SLC17A5\",', ':\"SLC6A19\",', ':\"SLC5A8\",', ':\"SLC38A2\",', ':\"SLC7A3\",', ':\"SLC3A2\",', ':\"SLC1A6\",', ':\"SLC6A20\",', ':\"SLC1A1\",', ':\"SLC16A10\",', ':\"SLC7A9\",', ':\"SLC38A4\",', ':\"SLC43A1\",', ':\"SLC6A14\",', ':\"SLC1A7\",', ':\"SLC7A7\",', ':\"SLC7A11\",', ':\"SLC7A6\",', ':\"SLC36A2\",', ':\"SLC1A3\",', ':\"SLC7A1\",', ':\"SLC38A3\",', ':\"SLC7A8\",', ':\"SLC38A1\",', ':\"SLC15A4\",']\n"
     ]
    }
   ],
   "source": [
    "print(AATransporters_raw)"
   ]
  },
  {
   "cell_type": "code",
   "execution_count": 7,
   "metadata": {},
   "outputs": [],
   "source": [
    "listToStr = ' '.join([str(elem) for elem in AATransporters_raw])"
   ]
  },
  {
   "cell_type": "code",
   "execution_count": 8,
   "metadata": {},
   "outputs": [
    {
     "name": "stdout",
     "output_type": "stream",
     "text": [
      ":\"SLC6A12\", :\"SLC1A5\", :\"SLC1A4\", :\"SLC1A2\", :\"SLC6A15\", :\"SLC17A6\", :\"SLC25A10\", :\"SLC17A1\", :\"SLC17A8\", :\"SLC3A1\", :\"SLC32A1\", :\"SLC5A5\", :\"SLC38A5\", :\"SLC7A5\", :\"SLC15A1\", :\"SLC7A10\", :\"SLC43A2\", :\"SLC15A3\", :\"SLC17A7\", :\"SLC15A2\", :\"SLC6A18\", :\"SLC36A1\", :\"SLC6A6\", :\"SLC7A2\", :\"SLC17A5\", :\"SLC6A19\", :\"SLC5A8\", :\"SLC38A2\", :\"SLC7A3\", :\"SLC3A2\", :\"SLC1A6\", :\"SLC6A20\", :\"SLC1A1\", :\"SLC16A10\", :\"SLC7A9\", :\"SLC38A4\", :\"SLC43A1\", :\"SLC6A14\", :\"SLC1A7\", :\"SLC7A7\", :\"SLC7A11\", :\"SLC7A6\", :\"SLC36A2\", :\"SLC1A3\", :\"SLC7A1\", :\"SLC38A3\", :\"SLC7A8\", :\"SLC38A1\", :\"SLC15A4\",\n"
     ]
    }
   ],
   "source": [
    "print(listToStr)"
   ]
  },
  {
   "cell_type": "code",
   "execution_count": 9,
   "metadata": {},
   "outputs": [],
   "source": [
    "AATransporter_proteins = re.findall(r'\\w+',':\"SLC6A12\", :\"SLC1A5\", :\"SLC1A4\", :\"SLC1A2\", :\"SLC6A15\", :\"SLC17A6\", :\"SLC25A10\", :\"SLC17A1\", :\"SLC17A8\", :\"SLC3A1\", :\"SLC32A1\", :\"SLC5A5\", :\"SLC38A5\", :\"SLC7A5\", :\"SLC15A1\", :\"SLC7A10\", :\"SLC43A2\", :\"SLC15A3\", :\"SLC17A7\", :\"SLC15A2\", :\"SLC6A18\", :\"SLC36A1\", :\"SLC6A6\", :\"SLC7A2\", :\"SLC17A5\", :\"SLC6A19\", :\"SLC5A8\", :\"SLC38A2\", :\"SLC7A3\", :\"SLC3A2\", :\"SLC1A6\", :\"SLC6A20\", :\"SLC1A1\", :\"SLC16A10\", :\"SLC7A9\", :\"SLC38A4\", :\"SLC43A1\", :\"SLC6A14\", :\"SLC1A7\", :\"SLC7A7\", :\"SLC7A11\", :\"SLC7A6\", :\"SLC36A2\", :\"SLC1A3\", :\"SLC7A1\", :\"SLC38A3\", :\"SLC7A8\", :\"SLC38A1\", :\"SLC15A4\",')"
   ]
  },
  {
   "cell_type": "code",
   "execution_count": 10,
   "metadata": {},
   "outputs": [
    {
     "name": "stdout",
     "output_type": "stream",
     "text": [
      "['SLC6A12', 'SLC1A5', 'SLC1A4', 'SLC1A2', 'SLC6A15', 'SLC17A6', 'SLC25A10', 'SLC17A1', 'SLC17A8', 'SLC3A1', 'SLC32A1', 'SLC5A5', 'SLC38A5', 'SLC7A5', 'SLC15A1', 'SLC7A10', 'SLC43A2', 'SLC15A3', 'SLC17A7', 'SLC15A2', 'SLC6A18', 'SLC36A1', 'SLC6A6', 'SLC7A2', 'SLC17A5', 'SLC6A19', 'SLC5A8', 'SLC38A2', 'SLC7A3', 'SLC3A2', 'SLC1A6', 'SLC6A20', 'SLC1A1', 'SLC16A10', 'SLC7A9', 'SLC38A4', 'SLC43A1', 'SLC6A14', 'SLC1A7', 'SLC7A7', 'SLC7A11', 'SLC7A6', 'SLC36A2', 'SLC1A3', 'SLC7A1', 'SLC38A3', 'SLC7A8', 'SLC38A1', 'SLC15A4']\n"
     ]
    }
   ],
   "source": [
    "print(AATransporter_proteins)"
   ]
  },
  {
   "cell_type": "code",
   "execution_count": 11,
   "metadata": {},
   "outputs": [],
   "source": [
    "import csv\n",
    "with open('AATransporter_proteins.csv', 'w') as AA_Transporter_proteins:\n",
    "    wr = csv.writer(AA_Transporter_proteins, quoting=csv.QUOTE_ALL)\n",
    "    wr.writerow(AATransporter_proteins)"
   ]
  },
  {
   "cell_type": "code",
   "execution_count": null,
   "metadata": {},
   "outputs": [],
   "source": []
  }
 ],
 "metadata": {
  "kernelspec": {
   "display_name": "Python 3",
   "language": "python",
   "name": "python3"
  },
  "language_info": {
   "codemirror_mode": {
    "name": "ipython",
    "version": 3
   },
   "file_extension": ".py",
   "mimetype": "text/x-python",
   "name": "python",
   "nbconvert_exporter": "python",
   "pygments_lexer": "ipython3",
   "version": "3.7.4"
  }
 },
 "nbformat": 4,
 "nbformat_minor": 2
}
