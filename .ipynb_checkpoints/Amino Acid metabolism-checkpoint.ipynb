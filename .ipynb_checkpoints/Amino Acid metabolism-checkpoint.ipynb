{
 "cells": [
  {
   "cell_type": "code",
   "execution_count": 1,
   "metadata": {},
   "outputs": [],
   "source": [
    "##This is an example piece of code used to convert data obtained from link:\n",
    "##http://amp.pharm.mssm.edu/Harmonizome/gene_set/Metabolism+of+amino+acids+and+derivatives/Reactome+Pathways\n",
    "##This step uses regular expressions to isolate the genes of interest from a raw gene list. The raw list for this data\n",
    "##set is in the Jonker_CSB_final_project repo, under the name \"AAMetabolism.txt\". This stands for Amino Acid Metabolism.\n",
    "AAMetabolism = open(\"AAMetabolism.txt\", 'r')\n",
    "import re\n",
    "AAMetabolism_raw = re.findall(r':.\\w+.,', AAMetabolism.read())\n",
    "##Since the output of the code is a list, i had to reconvert it back into strings, which i did below.\n",
    "listToStr = ' '.join([str(elem) for elem in AAMetabolism_raw])\n",
    "##Then again, used regular expressions to reisolate the word-like objects (gene names)\n",
    "AAMetabolism = re.findall(r'\\w+',listToStr)\n",
    "##Export to a CSV\n",
    "import csv\n",
    "with open('AAMetabolism.csv', 'w') as AAMetabolism1:\n",
    "    wr = csv.writer(AAMetabolism1, quoting=csv.QUOTE_ALL)\n",
    "    wr.writerow(AAMetabolism)"
   ]
  },
  {
   "cell_type": "code",
   "execution_count": null,
   "metadata": {},
   "outputs": [],
   "source": []
  }
 ],
 "metadata": {
  "kernelspec": {
   "display_name": "Python 3",
   "language": "python",
   "name": "python3"
  },
  "language_info": {
   "codemirror_mode": {
    "name": "ipython",
    "version": 3
   },
   "file_extension": ".py",
   "mimetype": "text/x-python",
   "name": "python",
   "nbconvert_exporter": "python",
   "pygments_lexer": "ipython3",
   "version": "3.7.4"
  }
 },
 "nbformat": 4,
 "nbformat_minor": 2
}
