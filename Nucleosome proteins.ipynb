{
 "cells": [
  {
   "cell_type": "code",
   "execution_count": 1,
   "metadata": {},
   "outputs": [],
   "source": [
    "nucleosome_proteins = open(\"nucleosome_proteins.txt\", 'r')\n",
    "import re\n",
    "nucleosome_proteins_raw = re.findall(r':.\\w+.,', nucleosome_proteins.read())\n",
    "listToStr = ' '.join([str(elem) for elem in nucleosome_proteins_raw])\n",
    "nucleosome_proteins = re.findall(r'\\w+',listToStr)\n",
    "import csv\n",
    "with open('nucleosome_proteins.csv', 'w') as nucleosome_proteins1:\n",
    "    wr = csv.writer(nucleosome_proteins1, quoting=csv.QUOTE_ALL)\n",
    "    wr.writerow(nucleosome_proteins)"
   ]
  },
  {
   "cell_type": "code",
   "execution_count": null,
   "metadata": {},
   "outputs": [],
   "source": []
  }
 ],
 "metadata": {
  "kernelspec": {
   "display_name": "Python 3",
   "language": "python",
   "name": "python3"
  },
  "language_info": {
   "codemirror_mode": {
    "name": "ipython",
    "version": 3
   },
   "file_extension": ".py",
   "mimetype": "text/x-python",
   "name": "python",
   "nbconvert_exporter": "python",
   "pygments_lexer": "ipython3",
   "version": "3.7.4"
  }
 },
 "nbformat": 4,
 "nbformat_minor": 2
}
