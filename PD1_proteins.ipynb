{
 "cells": [
  {
   "cell_type": "code",
   "execution_count": 1,
   "metadata": {},
   "outputs": [],
   "source": [
    "PD1_proteins = open(\"PD1_proteins.txt\")"
   ]
  },
  {
   "cell_type": "code",
   "execution_count": 2,
   "metadata": {},
   "outputs": [
    {
     "name": "stdout",
     "output_type": "stream",
     "text": [
      "{\"attribute\":{\"name\":\"PD-1 signaling\",\"href\":\"/api/1.0/attribute/PD-1+signaling\"},\"dataset\":{\"name\":\"Reactome Pathways\",\"href\":\"/api/1.0/dataset/Reactome+Pathways\"},\"associations\":[{\"gene\":{\"symbol\":\"PTPN11\",\"href\":\"/api/1.0/gene/PTPN11\"},\"thresholdValue\":1.0},{\"gene\":{\"symbol\":\"LCK\",\"href\":\"/api/1.0/gene/LCK\"},\"thresholdValue\":1.0},{\"gene\":{\"symbol\":\"HLA-DRB3\",\"href\":\"/api/1.0/gene/HLA-DRB3\"},\"thresholdValue\":1.0},{\"gene\":{\"symbol\":\"HLA-DPB1\",\"href\":\"/api/1.0/gene/HLA-DPB1\"},\"thresholdValue\":1.0},{\"gene\":{\"symbol\":\"PTPN6\",\"href\":\"/api/1.0/gene/PTPN6\"},\"thresholdValue\":1.0},{\"gene\":{\"symbol\":\"HLA-DQA1\",\"href\":\"/api/1.0/gene/HLA-DQA1\"},\"thresholdValue\":1.0},{\"gene\":{\"symbol\":\"CD4\",\"href\":\"/api/1.0/gene/CD4\"},\"thresholdValue\":1.0},{\"gene\":{\"symbol\":\"HLA-DRB4\",\"href\":\"/api/1.0/gene/HLA-DRB4\"},\"thresholdValue\":1.0},{\"gene\":{\"symbol\":\"TRAC\",\"href\":\"/api/1.0/gene/TRAC\"},\"thresholdValue\":1.0},{\"gene\":{\"symbol\":\"TRBV12-3\",\"href\":\"/api/1.0/gene/TRBV12-3\"},\"thresholdValue\":1.0},{\"gene\":{\"symbol\":\"CD3E\",\"href\":\"/api/1.0/gene/CD3E\"},\"thresholdValue\":1.0},{\"gene\":{\"symbol\":\"CD3G\",\"href\":\"/api/1.0/gene/CD3G\"},\"thresholdValue\":1.0},{\"gene\":{\"symbol\":\"HLA-DPA1\",\"href\":\"/api/1.0/gene/HLA-DPA1\"},\"thresholdValue\":1.0},{\"gene\":{\"symbol\":\"PDCD1\",\"href\":\"/api/1.0/gene/PDCD1\"},\"thresholdValue\":1.0},{\"gene\":{\"symbol\":\"CD274\",\"href\":\"/api/1.0/gene/CD274\"},\"thresholdValue\":1.0},{\"gene\":{\"symbol\":\"HLA-DQB1\",\"href\":\"/api/1.0/gene/HLA-DQB1\"},\"thresholdValue\":1.0},{\"gene\":{\"symbol\":\"CD247\",\"href\":\"/api/1.0/gene/CD247\"},\"thresholdValue\":1.0},{\"gene\":{\"symbol\":\"HLA-DRA\",\"href\":\"/api/1.0/gene/HLA-DRA\"},\"thresholdValue\":1.0},{\"gene\":{\"symbol\":\"HLA-DRB5\",\"href\":\"/api/1.0/gene/HLA-DRB5\"},\"thresholdValue\":1.0},{\"gene\":{\"symbol\":\"HLA-DQA2\",\"href\":\"/api/1.0/gene/HLA-DQA2\"},\"thresholdValue\":1.0},{\"gene\":{\"symbol\":\"TRBC1\",\"href\":\"/api/1.0/gene/TRBC1\"},\"thresholdValue\":1.0},{\"gene\":{\"symbol\":\"CD3D\",\"href\":\"/api/1.0/gene/CD3D\"},\"thresholdValue\":1.0},{\"gene\":{\"symbol\":\"HLA-DRB1\",\"href\":\"/api/1.0/gene/HLA-DRB1\"},\"thresholdValue\":1.0},{\"gene\":{\"symbol\":\"CSK\",\"href\":\"/api/1.0/gene/CSK\"},\"thresholdValue\":1.0},{\"gene\":{\"symbol\":\"PDCD1LG2\",\"href\":\"/api/1.0/gene/PDCD1LG2\"},\"thresholdValue\":1.0},{\"gene\":{\"symbol\":\"HLA-DQB2\",\"href\":\"/api/1.0/gene/HLA-DQB2\"},\"thresholdValue\":1.0}]}\n",
      "\n"
     ]
    }
   ],
   "source": [
    "print(PD1_proteins.read())"
   ]
  },
  {
   "cell_type": "code",
   "execution_count": 3,
   "metadata": {},
   "outputs": [],
   "source": [
    "import re\n",
    "PD1_proteins_raw = re.findall(r':.\\w+.,','{\"attribute\":{\"name\":\"PD-1 signaling\",\"href\":\"/api/1.0/attribute/PD-1+signaling\"},\"dataset\":{\"name\":\"Reactome Pathways\",\"href\":\"/api/1.0/dataset/Reactome+Pathways\"},\"associations\":[{\"gene\":{\"symbol\":\"PTPN11\",\"href\":\"/api/1.0/gene/PTPN11\"},\"thresholdValue\":1.0},{\"gene\":{\"symbol\":\"LCK\",\"href\":\"/api/1.0/gene/LCK\"},\"thresholdValue\":1.0},{\"gene\":{\"symbol\":\"HLA-DRB3\",\"href\":\"/api/1.0/gene/HLA-DRB3\"},\"thresholdValue\":1.0},{\"gene\":{\"symbol\":\"HLA-DPB1\",\"href\":\"/api/1.0/gene/HLA-DPB1\"},\"thresholdValue\":1.0},{\"gene\":{\"symbol\":\"PTPN6\",\"href\":\"/api/1.0/gene/PTPN6\"},\"thresholdValue\":1.0},{\"gene\":{\"symbol\":\"HLA-DQA1\",\"href\":\"/api/1.0/gene/HLA-DQA1\"},\"thresholdValue\":1.0},{\"gene\":{\"symbol\":\"CD4\",\"href\":\"/api/1.0/gene/CD4\"},\"thresholdValue\":1.0},{\"gene\":{\"symbol\":\"HLA-DRB4\",\"href\":\"/api/1.0/gene/HLA-DRB4\"},\"thresholdValue\":1.0},{\"gene\":{\"symbol\":\"TRAC\",\"href\":\"/api/1.0/gene/TRAC\"},\"thresholdValue\":1.0},{\"gene\":{\"symbol\":\"TRBV12-3\",\"href\":\"/api/1.0/gene/TRBV12-3\"},\"thresholdValue\":1.0},{\"gene\":{\"symbol\":\"CD3E\",\"href\":\"/api/1.0/gene/CD3E\"},\"thresholdValue\":1.0},{\"gene\":{\"symbol\":\"CD3G\",\"href\":\"/api/1.0/gene/CD3G\"},\"thresholdValue\":1.0},{\"gene\":{\"symbol\":\"HLA-DPA1\",\"href\":\"/api/1.0/gene/HLA-DPA1\"},\"thresholdValue\":1.0},{\"gene\":{\"symbol\":\"PDCD1\",\"href\":\"/api/1.0/gene/PDCD1\"},\"thresholdValue\":1.0},{\"gene\":{\"symbol\":\"CD274\",\"href\":\"/api/1.0/gene/CD274\"},\"thresholdValue\":1.0},{\"gene\":{\"symbol\":\"HLA-DQB1\",\"href\":\"/api/1.0/gene/HLA-DQB1\"},\"thresholdValue\":1.0},{\"gene\":{\"symbol\":\"CD247\",\"href\":\"/api/1.0/gene/CD247\"},\"thresholdValue\":1.0},{\"gene\":{\"symbol\":\"HLA-DRA\",\"href\":\"/api/1.0/gene/HLA-DRA\"},\"thresholdValue\":1.0},{\"gene\":{\"symbol\":\"HLA-DRB5\",\"href\":\"/api/1.0/gene/HLA-DRB5\"},\"thresholdValue\":1.0},{\"gene\":{\"symbol\":\"HLA-DQA2\",\"href\":\"/api/1.0/gene/HLA-DQA2\"},\"thresholdValue\":1.0},{\"gene\":{\"symbol\":\"TRBC1\",\"href\":\"/api/1.0/gene/TRBC1\"},\"thresholdValue\":1.0},{\"gene\":{\"symbol\":\"CD3D\",\"href\":\"/api/1.0/gene/CD3D\"},\"thresholdValue\":1.0},{\"gene\":{\"symbol\":\"HLA-DRB1\",\"href\":\"/api/1.0/gene/HLA-DRB1\"},\"thresholdValue\":1.0},{\"gene\":{\"symbol\":\"CSK\",\"href\":\"/api/1.0/gene/CSK\"},\"thresholdValue\":1.0},{\"gene\":{\"symbol\":\"PDCD1LG2\",\"href\":\"/api/1.0/gene/PDCD1LG2\"},\"thresholdValue\":1.0},{\"gene\":{\"symbol\":\"HLA-DQB2\",\"href\":\"/api/1.0/gene/HLA-DQB2\"},\"thresholdValue\":1.0}]}')"
   ]
  },
  {
   "cell_type": "code",
   "execution_count": 4,
   "metadata": {},
   "outputs": [],
   "source": [
    "listToStr = ' '.join([str(elem) for elem in PD1_proteins_raw])"
   ]
  },
  {
   "cell_type": "code",
   "execution_count": 5,
   "metadata": {},
   "outputs": [
    {
     "name": "stdout",
     "output_type": "stream",
     "text": [
      ":\"PTPN11\", :\"LCK\", :\"PTPN6\", :\"CD4\", :\"TRAC\", :\"CD3E\", :\"CD3G\", :\"PDCD1\", :\"CD274\", :\"CD247\", :\"TRBC1\", :\"CD3D\", :\"CSK\", :\"PDCD1LG2\",\n"
     ]
    }
   ],
   "source": [
    "print(listToStr)"
   ]
  },
  {
   "cell_type": "code",
   "execution_count": 7,
   "metadata": {},
   "outputs": [],
   "source": [
    "PD1_proteins = re.findall(r'\\w+',':\"PTPN11\", :\"LCK\", :\"PTPN6\", :\"CD4\", :\"TRAC\", :\"CD3E\", :\"CD3G\", :\"PDCD1\", :\"CD274\", :\"CD247\", :\"TRBC1\", :\"CD3D\", :\"CSK\", :\"PDCD1LG2\",')"
   ]
  },
  {
   "cell_type": "code",
   "execution_count": 8,
   "metadata": {},
   "outputs": [],
   "source": [
    "import csv\n",
    "with open('PD1_proteins.csv', 'w') as PD1_proteins1:\n",
    "    wr = csv.writer(PD1_proteins1, quoting=csv.QUOTE_ALL)\n",
    "    wr.writerow(PD1_proteins)"
   ]
  },
  {
   "cell_type": "code",
   "execution_count": null,
   "metadata": {},
   "outputs": [],
   "source": []
  }
 ],
 "metadata": {
  "kernelspec": {
   "display_name": "Python 3",
   "language": "python",
   "name": "python3"
  },
  "language_info": {
   "codemirror_mode": {
    "name": "ipython",
    "version": 3
   },
   "file_extension": ".py",
   "mimetype": "text/x-python",
   "name": "python",
   "nbconvert_exporter": "python",
   "pygments_lexer": "ipython3",
   "version": "3.7.4"
  }
 },
 "nbformat": 4,
 "nbformat_minor": 2
}
