{
 "cells": [
  {
   "cell_type": "code",
   "execution_count": 1,
   "metadata": {},
   "outputs": [],
   "source": [
    "AAMetabolism = open(\"AAMetabolism.txt\", 'r')\n",
    "import re\n",
    "AAMetabolism_raw = re.findall(r':.\\w+.,', AAMetabolism.read())\n",
    "listToStr = ' '.join([str(elem) for elem in AAMetabolism_raw])\n",
    "AAMetabolism = re.findall(r'\\w+',listToStr)\n",
    "import csv\n",
    "with open('AAMetabolism.csv', 'w') as AAMetabolism1:\n",
    "    wr = csv.writer(AAMetabolism1, quoting=csv.QUOTE_ALL)\n",
    "    wr.writerow(AAMetabolism)"
   ]
  },
  {
   "cell_type": "code",
   "execution_count": null,
   "metadata": {},
   "outputs": [],
   "source": []
  }
 ],
 "metadata": {
  "kernelspec": {
   "display_name": "Python 3",
   "language": "python",
   "name": "python3"
  },
  "language_info": {
   "codemirror_mode": {
    "name": "ipython",
    "version": 3
   },
   "file_extension": ".py",
   "mimetype": "text/x-python",
   "name": "python",
   "nbconvert_exporter": "python",
   "pygments_lexer": "ipython3",
   "version": "3.7.4"
  }
 },
 "nbformat": 4,
 "nbformat_minor": 2
}
