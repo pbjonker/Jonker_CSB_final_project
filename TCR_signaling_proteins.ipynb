{
 "cells": [
  {
   "cell_type": "code",
   "execution_count": 1,
   "metadata": {},
   "outputs": [],
   "source": [
    "TCR_signaling = open(\"TCR_signaling.txt\", 'r')\n",
    "import re\n",
    "TCR_signaling_raw = re.findall(r':.\\w+.,', TCR_signaling.read())\n",
    "listToStr = ' '.join([str(elem) for elem in TCR_signaling_raw])\n",
    "TCR_signaling = re.findall(r'\\w+',listToStr)\n",
    "import csv\n",
    "with open('TCR_signaling.csv', 'w') as TCR_signaling1:\n",
    "    wr = csv.writer(TCR_signaling1, quoting=csv.QUOTE_ALL)\n",
    "    wr.writerow(TCR_signaling)"
   ]
  },
  {
   "cell_type": "code",
   "execution_count": null,
   "metadata": {},
   "outputs": [],
   "source": []
  }
 ],
 "metadata": {
  "kernelspec": {
   "display_name": "Python 3",
   "language": "python",
   "name": "python3"
  },
  "language_info": {
   "codemirror_mode": {
    "name": "ipython",
    "version": 3
   },
   "file_extension": ".py",
   "mimetype": "text/x-python",
   "name": "python",
   "nbconvert_exporter": "python",
   "pygments_lexer": "ipython3",
   "version": "3.7.4"
  }
 },
 "nbformat": 4,
 "nbformat_minor": 2
}
