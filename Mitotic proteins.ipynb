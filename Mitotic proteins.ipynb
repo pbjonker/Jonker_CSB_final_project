{
 "cells": [
  {
   "cell_type": "code",
   "execution_count": 1,
   "metadata": {},
   "outputs": [],
   "source": [
    "Mitotic_proteins = open(\"Mitotic_proteins.txt\", 'r')\n",
    "import re\n",
    "Mitotic_proteins_raw = re.findall(r':.\\w+.,', Mitotic_proteins.read())\n",
    "listToStr = ' '.join([str(elem) for elem in Mitotic_proteins_raw])\n",
    "Mitotic_proteins = re.findall(r'\\w+',listToStr)\n",
    "import csv\n",
    "with open('Mitotic_proteins.csv', 'w') as Mitotic_proteins1:\n",
    "    wr = csv.writer(Mitotic_proteins1, quoting=csv.QUOTE_ALL)\n",
    "    wr.writerow(Mitotic_proteins)"
   ]
  },
  {
   "cell_type": "code",
   "execution_count": null,
   "metadata": {},
   "outputs": [],
   "source": []
  }
 ],
 "metadata": {
  "kernelspec": {
   "display_name": "Python 3",
   "language": "python",
   "name": "python3"
  },
  "language_info": {
   "codemirror_mode": {
    "name": "ipython",
    "version": 3
   },
   "file_extension": ".py",
   "mimetype": "text/x-python",
   "name": "python",
   "nbconvert_exporter": "python",
   "pygments_lexer": "ipython3",
   "version": "3.7.4"
  }
 },
 "nbformat": 4,
 "nbformat_minor": 2
}
